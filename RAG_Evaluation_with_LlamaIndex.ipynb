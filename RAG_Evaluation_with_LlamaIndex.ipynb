{
  "nbformat": 4,
  "nbformat_minor": 0,
  "metadata": {
    "colab": {
      "provenance": []
    },
    "kernelspec": {
      "name": "python3",
      "display_name": "Python 3"
    },
    "language_info": {
      "name": "python"
    }
  },
  "cells": [
    {
      "cell_type": "code",
      "execution_count": 1,
      "metadata": {
        "colab": {
          "base_uri": "https://localhost:8080/"
        },
        "id": "nKu49UalUtQW",
        "outputId": "e894d6f6-7a97-46b3-f5a3-488af88dfeae"
      },
      "outputs": [
        {
          "output_type": "stream",
          "name": "stdout",
          "text": [
            "Requirement already satisfied: llama_index in /usr/local/lib/python3.10/dist-packages (0.11.18)\n",
            "Requirement already satisfied: llama-index-agent-openai<0.4.0,>=0.3.4 in /usr/local/lib/python3.10/dist-packages (from llama_index) (0.3.4)\n",
            "Requirement already satisfied: llama-index-cli<0.4.0,>=0.3.1 in /usr/local/lib/python3.10/dist-packages (from llama_index) (0.3.1)\n",
            "Requirement already satisfied: llama-index-core<0.12.0,>=0.11.18 in /usr/local/lib/python3.10/dist-packages (from llama_index) (0.11.18)\n",
            "Requirement already satisfied: llama-index-embeddings-openai<0.3.0,>=0.2.4 in /usr/local/lib/python3.10/dist-packages (from llama_index) (0.2.5)\n",
            "Requirement already satisfied: llama-index-indices-managed-llama-cloud>=0.3.0 in /usr/local/lib/python3.10/dist-packages (from llama_index) (0.4.0)\n",
            "Requirement already satisfied: llama-index-legacy<0.10.0,>=0.9.48 in /usr/local/lib/python3.10/dist-packages (from llama_index) (0.9.48.post3)\n",
            "Requirement already satisfied: llama-index-llms-openai<0.3.0,>=0.2.10 in /usr/local/lib/python3.10/dist-packages (from llama_index) (0.2.14)\n",
            "Requirement already satisfied: llama-index-multi-modal-llms-openai<0.3.0,>=0.2.0 in /usr/local/lib/python3.10/dist-packages (from llama_index) (0.2.2)\n",
            "Requirement already satisfied: llama-index-program-openai<0.3.0,>=0.2.0 in /usr/local/lib/python3.10/dist-packages (from llama_index) (0.2.0)\n",
            "Requirement already satisfied: llama-index-question-gen-openai<0.3.0,>=0.2.0 in /usr/local/lib/python3.10/dist-packages (from llama_index) (0.2.0)\n",
            "Requirement already satisfied: llama-index-readers-file<0.3.0,>=0.2.0 in /usr/local/lib/python3.10/dist-packages (from llama_index) (0.2.2)\n",
            "Requirement already satisfied: llama-index-readers-llama-parse>=0.3.0 in /usr/local/lib/python3.10/dist-packages (from llama_index) (0.3.0)\n",
            "Requirement already satisfied: nltk>3.8.1 in /usr/local/lib/python3.10/dist-packages (from llama_index) (3.9.1)\n",
            "Requirement already satisfied: openai>=1.14.0 in /usr/local/lib/python3.10/dist-packages (from llama-index-agent-openai<0.4.0,>=0.3.4->llama_index) (1.51.2)\n",
            "Requirement already satisfied: PyYAML>=6.0.1 in /usr/local/lib/python3.10/dist-packages (from llama-index-core<0.12.0,>=0.11.18->llama_index) (6.0.2)\n",
            "Requirement already satisfied: SQLAlchemy>=1.4.49 in /usr/local/lib/python3.10/dist-packages (from SQLAlchemy[asyncio]>=1.4.49->llama-index-core<0.12.0,>=0.11.18->llama_index) (2.0.35)\n",
            "Requirement already satisfied: aiohttp<4.0.0,>=3.8.6 in /usr/local/lib/python3.10/dist-packages (from llama-index-core<0.12.0,>=0.11.18->llama_index) (3.10.10)\n",
            "Requirement already satisfied: dataclasses-json in /usr/local/lib/python3.10/dist-packages (from llama-index-core<0.12.0,>=0.11.18->llama_index) (0.6.7)\n",
            "Requirement already satisfied: deprecated>=1.2.9.3 in /usr/local/lib/python3.10/dist-packages (from llama-index-core<0.12.0,>=0.11.18->llama_index) (1.2.14)\n",
            "Requirement already satisfied: dirtyjson<2.0.0,>=1.0.8 in /usr/local/lib/python3.10/dist-packages (from llama-index-core<0.12.0,>=0.11.18->llama_index) (1.0.8)\n",
            "Requirement already satisfied: fsspec>=2023.5.0 in /usr/local/lib/python3.10/dist-packages (from llama-index-core<0.12.0,>=0.11.18->llama_index) (2024.6.1)\n",
            "Requirement already satisfied: httpx in /usr/local/lib/python3.10/dist-packages (from llama-index-core<0.12.0,>=0.11.18->llama_index) (0.27.2)\n",
            "Requirement already satisfied: nest-asyncio<2.0.0,>=1.5.8 in /usr/local/lib/python3.10/dist-packages (from llama-index-core<0.12.0,>=0.11.18->llama_index) (1.6.0)\n",
            "Requirement already satisfied: networkx>=3.0 in /usr/local/lib/python3.10/dist-packages (from llama-index-core<0.12.0,>=0.11.18->llama_index) (3.4)\n",
            "Requirement already satisfied: numpy<2.0.0 in /usr/local/lib/python3.10/dist-packages (from llama-index-core<0.12.0,>=0.11.18->llama_index) (1.26.4)\n",
            "Requirement already satisfied: pillow>=9.0.0 in /usr/local/lib/python3.10/dist-packages (from llama-index-core<0.12.0,>=0.11.18->llama_index) (10.4.0)\n",
            "Requirement already satisfied: pydantic<3.0.0,>=2.7.0 in /usr/local/lib/python3.10/dist-packages (from llama-index-core<0.12.0,>=0.11.18->llama_index) (2.9.2)\n",
            "Requirement already satisfied: requests>=2.31.0 in /usr/local/lib/python3.10/dist-packages (from llama-index-core<0.12.0,>=0.11.18->llama_index) (2.32.3)\n",
            "Requirement already satisfied: tenacity!=8.4.0,<9.0.0,>=8.2.0 in /usr/local/lib/python3.10/dist-packages (from llama-index-core<0.12.0,>=0.11.18->llama_index) (8.5.0)\n",
            "Requirement already satisfied: tiktoken>=0.3.3 in /usr/local/lib/python3.10/dist-packages (from llama-index-core<0.12.0,>=0.11.18->llama_index) (0.8.0)\n",
            "Requirement already satisfied: tqdm<5.0.0,>=4.66.1 in /usr/local/lib/python3.10/dist-packages (from llama-index-core<0.12.0,>=0.11.18->llama_index) (4.66.5)\n",
            "Requirement already satisfied: typing-extensions>=4.5.0 in /usr/local/lib/python3.10/dist-packages (from llama-index-core<0.12.0,>=0.11.18->llama_index) (4.12.2)\n",
            "Requirement already satisfied: typing-inspect>=0.8.0 in /usr/local/lib/python3.10/dist-packages (from llama-index-core<0.12.0,>=0.11.18->llama_index) (0.9.0)\n",
            "Requirement already satisfied: wrapt in /usr/local/lib/python3.10/dist-packages (from llama-index-core<0.12.0,>=0.11.18->llama_index) (1.16.0)\n",
            "Requirement already satisfied: llama-cloud>=0.0.11 in /usr/local/lib/python3.10/dist-packages (from llama-index-indices-managed-llama-cloud>=0.3.0->llama_index) (0.1.2)\n",
            "Requirement already satisfied: pandas in /usr/local/lib/python3.10/dist-packages (from llama-index-legacy<0.10.0,>=0.9.48->llama_index) (2.2.2)\n",
            "Requirement already satisfied: beautifulsoup4<5.0.0,>=4.12.3 in /usr/local/lib/python3.10/dist-packages (from llama-index-readers-file<0.3.0,>=0.2.0->llama_index) (4.12.3)\n",
            "Requirement already satisfied: pypdf<5.0.0,>=4.0.1 in /usr/local/lib/python3.10/dist-packages (from llama-index-readers-file<0.3.0,>=0.2.0->llama_index) (4.3.1)\n",
            "Requirement already satisfied: striprtf<0.0.27,>=0.0.26 in /usr/local/lib/python3.10/dist-packages (from llama-index-readers-file<0.3.0,>=0.2.0->llama_index) (0.0.26)\n",
            "Requirement already satisfied: llama-parse>=0.5.0 in /usr/local/lib/python3.10/dist-packages (from llama-index-readers-llama-parse>=0.3.0->llama_index) (0.5.8)\n",
            "Requirement already satisfied: click in /usr/local/lib/python3.10/dist-packages (from nltk>3.8.1->llama_index) (8.1.7)\n",
            "Requirement already satisfied: joblib in /usr/local/lib/python3.10/dist-packages (from nltk>3.8.1->llama_index) (1.4.2)\n",
            "Requirement already satisfied: regex>=2021.8.3 in /usr/local/lib/python3.10/dist-packages (from nltk>3.8.1->llama_index) (2024.9.11)\n",
            "Requirement already satisfied: aiohappyeyeballs>=2.3.0 in /usr/local/lib/python3.10/dist-packages (from aiohttp<4.0.0,>=3.8.6->llama-index-core<0.12.0,>=0.11.18->llama_index) (2.4.3)\n",
            "Requirement already satisfied: aiosignal>=1.1.2 in /usr/local/lib/python3.10/dist-packages (from aiohttp<4.0.0,>=3.8.6->llama-index-core<0.12.0,>=0.11.18->llama_index) (1.3.1)\n",
            "Requirement already satisfied: attrs>=17.3.0 in /usr/local/lib/python3.10/dist-packages (from aiohttp<4.0.0,>=3.8.6->llama-index-core<0.12.0,>=0.11.18->llama_index) (24.2.0)\n",
            "Requirement already satisfied: frozenlist>=1.1.1 in /usr/local/lib/python3.10/dist-packages (from aiohttp<4.0.0,>=3.8.6->llama-index-core<0.12.0,>=0.11.18->llama_index) (1.4.1)\n",
            "Requirement already satisfied: multidict<7.0,>=4.5 in /usr/local/lib/python3.10/dist-packages (from aiohttp<4.0.0,>=3.8.6->llama-index-core<0.12.0,>=0.11.18->llama_index) (6.1.0)\n",
            "Requirement already satisfied: yarl<2.0,>=1.12.0 in /usr/local/lib/python3.10/dist-packages (from aiohttp<4.0.0,>=3.8.6->llama-index-core<0.12.0,>=0.11.18->llama_index) (1.14.0)\n",
            "Requirement already satisfied: async-timeout<5.0,>=4.0 in /usr/local/lib/python3.10/dist-packages (from aiohttp<4.0.0,>=3.8.6->llama-index-core<0.12.0,>=0.11.18->llama_index) (4.0.3)\n",
            "Requirement already satisfied: soupsieve>1.2 in /usr/local/lib/python3.10/dist-packages (from beautifulsoup4<5.0.0,>=4.12.3->llama-index-readers-file<0.3.0,>=0.2.0->llama_index) (2.6)\n",
            "Requirement already satisfied: anyio in /usr/local/lib/python3.10/dist-packages (from httpx->llama-index-core<0.12.0,>=0.11.18->llama_index) (3.7.1)\n",
            "Requirement already satisfied: certifi in /usr/local/lib/python3.10/dist-packages (from httpx->llama-index-core<0.12.0,>=0.11.18->llama_index) (2024.8.30)\n",
            "Requirement already satisfied: httpcore==1.* in /usr/local/lib/python3.10/dist-packages (from httpx->llama-index-core<0.12.0,>=0.11.18->llama_index) (1.0.6)\n",
            "Requirement already satisfied: idna in /usr/local/lib/python3.10/dist-packages (from httpx->llama-index-core<0.12.0,>=0.11.18->llama_index) (3.10)\n",
            "Requirement already satisfied: sniffio in /usr/local/lib/python3.10/dist-packages (from httpx->llama-index-core<0.12.0,>=0.11.18->llama_index) (1.3.1)\n",
            "Requirement already satisfied: h11<0.15,>=0.13 in /usr/local/lib/python3.10/dist-packages (from httpcore==1.*->httpx->llama-index-core<0.12.0,>=0.11.18->llama_index) (0.14.0)\n",
            "Requirement already satisfied: distro<2,>=1.7.0 in /usr/lib/python3/dist-packages (from openai>=1.14.0->llama-index-agent-openai<0.4.0,>=0.3.4->llama_index) (1.7.0)\n",
            "Requirement already satisfied: jiter<1,>=0.4.0 in /usr/local/lib/python3.10/dist-packages (from openai>=1.14.0->llama-index-agent-openai<0.4.0,>=0.3.4->llama_index) (0.6.1)\n",
            "Requirement already satisfied: annotated-types>=0.6.0 in /usr/local/lib/python3.10/dist-packages (from pydantic<3.0.0,>=2.7.0->llama-index-core<0.12.0,>=0.11.18->llama_index) (0.7.0)\n",
            "Requirement already satisfied: pydantic-core==2.23.4 in /usr/local/lib/python3.10/dist-packages (from pydantic<3.0.0,>=2.7.0->llama-index-core<0.12.0,>=0.11.18->llama_index) (2.23.4)\n",
            "Requirement already satisfied: charset-normalizer<4,>=2 in /usr/local/lib/python3.10/dist-packages (from requests>=2.31.0->llama-index-core<0.12.0,>=0.11.18->llama_index) (3.4.0)\n",
            "Requirement already satisfied: urllib3<3,>=1.21.1 in /usr/local/lib/python3.10/dist-packages (from requests>=2.31.0->llama-index-core<0.12.0,>=0.11.18->llama_index) (2.2.3)\n",
            "Requirement already satisfied: greenlet!=0.4.17 in /usr/local/lib/python3.10/dist-packages (from SQLAlchemy>=1.4.49->SQLAlchemy[asyncio]>=1.4.49->llama-index-core<0.12.0,>=0.11.18->llama_index) (3.1.1)\n",
            "Requirement already satisfied: mypy-extensions>=0.3.0 in /usr/local/lib/python3.10/dist-packages (from typing-inspect>=0.8.0->llama-index-core<0.12.0,>=0.11.18->llama_index) (1.0.0)\n",
            "Requirement already satisfied: marshmallow<4.0.0,>=3.18.0 in /usr/local/lib/python3.10/dist-packages (from dataclasses-json->llama-index-core<0.12.0,>=0.11.18->llama_index) (3.22.0)\n",
            "Requirement already satisfied: python-dateutil>=2.8.2 in /usr/local/lib/python3.10/dist-packages (from pandas->llama-index-legacy<0.10.0,>=0.9.48->llama_index) (2.8.2)\n",
            "Requirement already satisfied: pytz>=2020.1 in /usr/local/lib/python3.10/dist-packages (from pandas->llama-index-legacy<0.10.0,>=0.9.48->llama_index) (2024.2)\n",
            "Requirement already satisfied: tzdata>=2022.7 in /usr/local/lib/python3.10/dist-packages (from pandas->llama-index-legacy<0.10.0,>=0.9.48->llama_index) (2024.2)\n",
            "Requirement already satisfied: exceptiongroup in /usr/local/lib/python3.10/dist-packages (from anyio->httpx->llama-index-core<0.12.0,>=0.11.18->llama_index) (1.2.2)\n",
            "Requirement already satisfied: packaging>=17.0 in /usr/local/lib/python3.10/dist-packages (from marshmallow<4.0.0,>=3.18.0->dataclasses-json->llama-index-core<0.12.0,>=0.11.18->llama_index) (24.1)\n",
            "Requirement already satisfied: six>=1.5 in /usr/local/lib/python3.10/dist-packages (from python-dateutil>=2.8.2->pandas->llama-index-legacy<0.10.0,>=0.9.48->llama_index) (1.16.0)\n",
            "Requirement already satisfied: propcache>=0.2.0 in /usr/local/lib/python3.10/dist-packages (from yarl<2.0,>=1.12.0->aiohttp<4.0.0,>=3.8.6->llama-index-core<0.12.0,>=0.11.18->llama_index) (0.2.0)\n",
            "Requirement already satisfied: sentence_transformers in /usr/local/lib/python3.10/dist-packages (2.7.0)\n",
            "Requirement already satisfied: transformers<5.0.0,>=4.34.0 in /usr/local/lib/python3.10/dist-packages (from sentence_transformers) (4.44.2)\n",
            "Requirement already satisfied: tqdm in /usr/local/lib/python3.10/dist-packages (from sentence_transformers) (4.66.5)\n",
            "Requirement already satisfied: torch>=1.11.0 in /usr/local/lib/python3.10/dist-packages (from sentence_transformers) (2.4.1+cu121)\n",
            "Requirement already satisfied: numpy in /usr/local/lib/python3.10/dist-packages (from sentence_transformers) (1.26.4)\n",
            "Requirement already satisfied: scikit-learn in /usr/local/lib/python3.10/dist-packages (from sentence_transformers) (1.5.2)\n",
            "Requirement already satisfied: scipy in /usr/local/lib/python3.10/dist-packages (from sentence_transformers) (1.13.1)\n",
            "Requirement already satisfied: huggingface-hub>=0.15.1 in /usr/local/lib/python3.10/dist-packages (from sentence_transformers) (0.24.7)\n",
            "Requirement already satisfied: Pillow in /usr/local/lib/python3.10/dist-packages (from sentence_transformers) (10.4.0)\n",
            "Requirement already satisfied: filelock in /usr/local/lib/python3.10/dist-packages (from huggingface-hub>=0.15.1->sentence_transformers) (3.16.1)\n",
            "Requirement already satisfied: fsspec>=2023.5.0 in /usr/local/lib/python3.10/dist-packages (from huggingface-hub>=0.15.1->sentence_transformers) (2024.6.1)\n",
            "Requirement already satisfied: packaging>=20.9 in /usr/local/lib/python3.10/dist-packages (from huggingface-hub>=0.15.1->sentence_transformers) (24.1)\n",
            "Requirement already satisfied: pyyaml>=5.1 in /usr/local/lib/python3.10/dist-packages (from huggingface-hub>=0.15.1->sentence_transformers) (6.0.2)\n",
            "Requirement already satisfied: requests in /usr/local/lib/python3.10/dist-packages (from huggingface-hub>=0.15.1->sentence_transformers) (2.32.3)\n",
            "Requirement already satisfied: typing-extensions>=3.7.4.3 in /usr/local/lib/python3.10/dist-packages (from huggingface-hub>=0.15.1->sentence_transformers) (4.12.2)\n",
            "Requirement already satisfied: sympy in /usr/local/lib/python3.10/dist-packages (from torch>=1.11.0->sentence_transformers) (1.13.3)\n",
            "Requirement already satisfied: networkx in /usr/local/lib/python3.10/dist-packages (from torch>=1.11.0->sentence_transformers) (3.4)\n",
            "Requirement already satisfied: jinja2 in /usr/local/lib/python3.10/dist-packages (from torch>=1.11.0->sentence_transformers) (3.1.4)\n",
            "Requirement already satisfied: regex!=2019.12.17 in /usr/local/lib/python3.10/dist-packages (from transformers<5.0.0,>=4.34.0->sentence_transformers) (2024.9.11)\n",
            "Requirement already satisfied: safetensors>=0.4.1 in /usr/local/lib/python3.10/dist-packages (from transformers<5.0.0,>=4.34.0->sentence_transformers) (0.4.5)\n",
            "Requirement already satisfied: tokenizers<0.20,>=0.19 in /usr/local/lib/python3.10/dist-packages (from transformers<5.0.0,>=4.34.0->sentence_transformers) (0.19.1)\n",
            "Requirement already satisfied: joblib>=1.2.0 in /usr/local/lib/python3.10/dist-packages (from scikit-learn->sentence_transformers) (1.4.2)\n",
            "Requirement already satisfied: threadpoolctl>=3.1.0 in /usr/local/lib/python3.10/dist-packages (from scikit-learn->sentence_transformers) (3.5.0)\n",
            "Requirement already satisfied: MarkupSafe>=2.0 in /usr/local/lib/python3.10/dist-packages (from jinja2->torch>=1.11.0->sentence_transformers) (3.0.1)\n",
            "Requirement already satisfied: charset-normalizer<4,>=2 in /usr/local/lib/python3.10/dist-packages (from requests->huggingface-hub>=0.15.1->sentence_transformers) (3.4.0)\n",
            "Requirement already satisfied: idna<4,>=2.5 in /usr/local/lib/python3.10/dist-packages (from requests->huggingface-hub>=0.15.1->sentence_transformers) (3.10)\n",
            "Requirement already satisfied: urllib3<3,>=1.21.1 in /usr/local/lib/python3.10/dist-packages (from requests->huggingface-hub>=0.15.1->sentence_transformers) (2.2.3)\n",
            "Requirement already satisfied: certifi>=2017.4.17 in /usr/local/lib/python3.10/dist-packages (from requests->huggingface-hub>=0.15.1->sentence_transformers) (2024.8.30)\n",
            "Requirement already satisfied: mpmath<1.4,>=1.1.0 in /usr/local/lib/python3.10/dist-packages (from sympy->torch>=1.11.0->sentence_transformers) (1.3.0)\n"
          ]
        }
      ],
      "source": [
        "!pip install llama_index\n",
        "from pathlib import Path\n",
        "!pip install sentence_transformers"
      ]
    },
    {
      "cell_type": "code",
      "source": [
        "from google.colab import userdata\n",
        "import os\n",
        "os.environ['GEMINI_API_KEY'] = userdata.get('gemini_api_key')"
      ],
      "metadata": {
        "id": "xAdNuypJbvI2"
      },
      "execution_count": 2,
      "outputs": []
    },
    {
      "cell_type": "code",
      "source": [],
      "metadata": {
        "id": "rJcdjBRSb3s6"
      },
      "execution_count": null,
      "outputs": []
    },
    {
      "cell_type": "code",
      "source": [
        "!pip install llama_index.embeddings.huggingface\n",
        "!pip install llama-index-embeddings-instructor\n",
        "from google.colab import userdata\n",
        "import os\n",
        "os.environ['LLAMA_CLOUD_API_KEY'] = userdata.get('LlamaParse')\n",
        "LLAMA_CLOUD_API_KEY=os.environ['LLAMA_CLOUD_API_KEY']\n",
        "openai_api_key=userdata.get('ChatGPT')"
      ],
      "metadata": {
        "colab": {
          "base_uri": "https://localhost:8080/"
        },
        "id": "ioYDAQCeXGNH",
        "outputId": "b75a80a6-2016-4931-b161-8290cb46efa5"
      },
      "execution_count": 3,
      "outputs": [
        {
          "output_type": "stream",
          "name": "stdout",
          "text": [
            "Requirement already satisfied: llama_index.embeddings.huggingface in /usr/local/lib/python3.10/dist-packages (0.3.1)\n",
            "Requirement already satisfied: huggingface-hub>=0.19.0 in /usr/local/lib/python3.10/dist-packages (from huggingface-hub[inference]>=0.19.0->llama_index.embeddings.huggingface) (0.24.7)\n",
            "Requirement already satisfied: llama-index-core<0.12.0,>=0.11.0 in /usr/local/lib/python3.10/dist-packages (from llama_index.embeddings.huggingface) (0.11.18)\n",
            "Requirement already satisfied: sentence-transformers>=2.6.1 in /usr/local/lib/python3.10/dist-packages (from llama_index.embeddings.huggingface) (2.7.0)\n",
            "Requirement already satisfied: filelock in /usr/local/lib/python3.10/dist-packages (from huggingface-hub>=0.19.0->huggingface-hub[inference]>=0.19.0->llama_index.embeddings.huggingface) (3.16.1)\n",
            "Requirement already satisfied: fsspec>=2023.5.0 in /usr/local/lib/python3.10/dist-packages (from huggingface-hub>=0.19.0->huggingface-hub[inference]>=0.19.0->llama_index.embeddings.huggingface) (2024.6.1)\n",
            "Requirement already satisfied: packaging>=20.9 in /usr/local/lib/python3.10/dist-packages (from huggingface-hub>=0.19.0->huggingface-hub[inference]>=0.19.0->llama_index.embeddings.huggingface) (24.1)\n",
            "Requirement already satisfied: pyyaml>=5.1 in /usr/local/lib/python3.10/dist-packages (from huggingface-hub>=0.19.0->huggingface-hub[inference]>=0.19.0->llama_index.embeddings.huggingface) (6.0.2)\n",
            "Requirement already satisfied: requests in /usr/local/lib/python3.10/dist-packages (from huggingface-hub>=0.19.0->huggingface-hub[inference]>=0.19.0->llama_index.embeddings.huggingface) (2.32.3)\n",
            "Requirement already satisfied: tqdm>=4.42.1 in /usr/local/lib/python3.10/dist-packages (from huggingface-hub>=0.19.0->huggingface-hub[inference]>=0.19.0->llama_index.embeddings.huggingface) (4.66.5)\n",
            "Requirement already satisfied: typing-extensions>=3.7.4.3 in /usr/local/lib/python3.10/dist-packages (from huggingface-hub>=0.19.0->huggingface-hub[inference]>=0.19.0->llama_index.embeddings.huggingface) (4.12.2)\n",
            "Requirement already satisfied: aiohttp in /usr/local/lib/python3.10/dist-packages (from huggingface-hub[inference]>=0.19.0->llama_index.embeddings.huggingface) (3.10.10)\n",
            "Requirement already satisfied: minijinja>=1.0 in /usr/local/lib/python3.10/dist-packages (from huggingface-hub[inference]>=0.19.0->llama_index.embeddings.huggingface) (2.2.0)\n",
            "Requirement already satisfied: SQLAlchemy>=1.4.49 in /usr/local/lib/python3.10/dist-packages (from SQLAlchemy[asyncio]>=1.4.49->llama-index-core<0.12.0,>=0.11.0->llama_index.embeddings.huggingface) (2.0.35)\n",
            "Requirement already satisfied: dataclasses-json in /usr/local/lib/python3.10/dist-packages (from llama-index-core<0.12.0,>=0.11.0->llama_index.embeddings.huggingface) (0.6.7)\n",
            "Requirement already satisfied: deprecated>=1.2.9.3 in /usr/local/lib/python3.10/dist-packages (from llama-index-core<0.12.0,>=0.11.0->llama_index.embeddings.huggingface) (1.2.14)\n",
            "Requirement already satisfied: dirtyjson<2.0.0,>=1.0.8 in /usr/local/lib/python3.10/dist-packages (from llama-index-core<0.12.0,>=0.11.0->llama_index.embeddings.huggingface) (1.0.8)\n",
            "Requirement already satisfied: httpx in /usr/local/lib/python3.10/dist-packages (from llama-index-core<0.12.0,>=0.11.0->llama_index.embeddings.huggingface) (0.27.2)\n",
            "Requirement already satisfied: nest-asyncio<2.0.0,>=1.5.8 in /usr/local/lib/python3.10/dist-packages (from llama-index-core<0.12.0,>=0.11.0->llama_index.embeddings.huggingface) (1.6.0)\n",
            "Requirement already satisfied: networkx>=3.0 in /usr/local/lib/python3.10/dist-packages (from llama-index-core<0.12.0,>=0.11.0->llama_index.embeddings.huggingface) (3.4)\n",
            "Requirement already satisfied: nltk>3.8.1 in /usr/local/lib/python3.10/dist-packages (from llama-index-core<0.12.0,>=0.11.0->llama_index.embeddings.huggingface) (3.9.1)\n",
            "Requirement already satisfied: numpy<2.0.0 in /usr/local/lib/python3.10/dist-packages (from llama-index-core<0.12.0,>=0.11.0->llama_index.embeddings.huggingface) (1.26.4)\n",
            "Requirement already satisfied: pillow>=9.0.0 in /usr/local/lib/python3.10/dist-packages (from llama-index-core<0.12.0,>=0.11.0->llama_index.embeddings.huggingface) (10.4.0)\n",
            "Requirement already satisfied: pydantic<3.0.0,>=2.7.0 in /usr/local/lib/python3.10/dist-packages (from llama-index-core<0.12.0,>=0.11.0->llama_index.embeddings.huggingface) (2.9.2)\n",
            "Requirement already satisfied: tenacity!=8.4.0,<9.0.0,>=8.2.0 in /usr/local/lib/python3.10/dist-packages (from llama-index-core<0.12.0,>=0.11.0->llama_index.embeddings.huggingface) (8.5.0)\n",
            "Requirement already satisfied: tiktoken>=0.3.3 in /usr/local/lib/python3.10/dist-packages (from llama-index-core<0.12.0,>=0.11.0->llama_index.embeddings.huggingface) (0.8.0)\n",
            "Requirement already satisfied: typing-inspect>=0.8.0 in /usr/local/lib/python3.10/dist-packages (from llama-index-core<0.12.0,>=0.11.0->llama_index.embeddings.huggingface) (0.9.0)\n",
            "Requirement already satisfied: wrapt in /usr/local/lib/python3.10/dist-packages (from llama-index-core<0.12.0,>=0.11.0->llama_index.embeddings.huggingface) (1.16.0)\n",
            "Requirement already satisfied: transformers<5.0.0,>=4.34.0 in /usr/local/lib/python3.10/dist-packages (from sentence-transformers>=2.6.1->llama_index.embeddings.huggingface) (4.44.2)\n",
            "Requirement already satisfied: torch>=1.11.0 in /usr/local/lib/python3.10/dist-packages (from sentence-transformers>=2.6.1->llama_index.embeddings.huggingface) (2.4.1+cu121)\n",
            "Requirement already satisfied: scikit-learn in /usr/local/lib/python3.10/dist-packages (from sentence-transformers>=2.6.1->llama_index.embeddings.huggingface) (1.5.2)\n",
            "Requirement already satisfied: scipy in /usr/local/lib/python3.10/dist-packages (from sentence-transformers>=2.6.1->llama_index.embeddings.huggingface) (1.13.1)\n",
            "Requirement already satisfied: aiohappyeyeballs>=2.3.0 in /usr/local/lib/python3.10/dist-packages (from aiohttp->huggingface-hub[inference]>=0.19.0->llama_index.embeddings.huggingface) (2.4.3)\n",
            "Requirement already satisfied: aiosignal>=1.1.2 in /usr/local/lib/python3.10/dist-packages (from aiohttp->huggingface-hub[inference]>=0.19.0->llama_index.embeddings.huggingface) (1.3.1)\n",
            "Requirement already satisfied: attrs>=17.3.0 in /usr/local/lib/python3.10/dist-packages (from aiohttp->huggingface-hub[inference]>=0.19.0->llama_index.embeddings.huggingface) (24.2.0)\n",
            "Requirement already satisfied: frozenlist>=1.1.1 in /usr/local/lib/python3.10/dist-packages (from aiohttp->huggingface-hub[inference]>=0.19.0->llama_index.embeddings.huggingface) (1.4.1)\n",
            "Requirement already satisfied: multidict<7.0,>=4.5 in /usr/local/lib/python3.10/dist-packages (from aiohttp->huggingface-hub[inference]>=0.19.0->llama_index.embeddings.huggingface) (6.1.0)\n",
            "Requirement already satisfied: yarl<2.0,>=1.12.0 in /usr/local/lib/python3.10/dist-packages (from aiohttp->huggingface-hub[inference]>=0.19.0->llama_index.embeddings.huggingface) (1.14.0)\n",
            "Requirement already satisfied: async-timeout<5.0,>=4.0 in /usr/local/lib/python3.10/dist-packages (from aiohttp->huggingface-hub[inference]>=0.19.0->llama_index.embeddings.huggingface) (4.0.3)\n",
            "Requirement already satisfied: click in /usr/local/lib/python3.10/dist-packages (from nltk>3.8.1->llama-index-core<0.12.0,>=0.11.0->llama_index.embeddings.huggingface) (8.1.7)\n",
            "Requirement already satisfied: joblib in /usr/local/lib/python3.10/dist-packages (from nltk>3.8.1->llama-index-core<0.12.0,>=0.11.0->llama_index.embeddings.huggingface) (1.4.2)\n",
            "Requirement already satisfied: regex>=2021.8.3 in /usr/local/lib/python3.10/dist-packages (from nltk>3.8.1->llama-index-core<0.12.0,>=0.11.0->llama_index.embeddings.huggingface) (2024.9.11)\n",
            "Requirement already satisfied: annotated-types>=0.6.0 in /usr/local/lib/python3.10/dist-packages (from pydantic<3.0.0,>=2.7.0->llama-index-core<0.12.0,>=0.11.0->llama_index.embeddings.huggingface) (0.7.0)\n",
            "Requirement already satisfied: pydantic-core==2.23.4 in /usr/local/lib/python3.10/dist-packages (from pydantic<3.0.0,>=2.7.0->llama-index-core<0.12.0,>=0.11.0->llama_index.embeddings.huggingface) (2.23.4)\n",
            "Requirement already satisfied: charset-normalizer<4,>=2 in /usr/local/lib/python3.10/dist-packages (from requests->huggingface-hub>=0.19.0->huggingface-hub[inference]>=0.19.0->llama_index.embeddings.huggingface) (3.4.0)\n",
            "Requirement already satisfied: idna<4,>=2.5 in /usr/local/lib/python3.10/dist-packages (from requests->huggingface-hub>=0.19.0->huggingface-hub[inference]>=0.19.0->llama_index.embeddings.huggingface) (3.10)\n",
            "Requirement already satisfied: urllib3<3,>=1.21.1 in /usr/local/lib/python3.10/dist-packages (from requests->huggingface-hub>=0.19.0->huggingface-hub[inference]>=0.19.0->llama_index.embeddings.huggingface) (2.2.3)\n",
            "Requirement already satisfied: certifi>=2017.4.17 in /usr/local/lib/python3.10/dist-packages (from requests->huggingface-hub>=0.19.0->huggingface-hub[inference]>=0.19.0->llama_index.embeddings.huggingface) (2024.8.30)\n",
            "Requirement already satisfied: greenlet!=0.4.17 in /usr/local/lib/python3.10/dist-packages (from SQLAlchemy>=1.4.49->SQLAlchemy[asyncio]>=1.4.49->llama-index-core<0.12.0,>=0.11.0->llama_index.embeddings.huggingface) (3.1.1)\n",
            "Requirement already satisfied: sympy in /usr/local/lib/python3.10/dist-packages (from torch>=1.11.0->sentence-transformers>=2.6.1->llama_index.embeddings.huggingface) (1.13.3)\n",
            "Requirement already satisfied: jinja2 in /usr/local/lib/python3.10/dist-packages (from torch>=1.11.0->sentence-transformers>=2.6.1->llama_index.embeddings.huggingface) (3.1.4)\n",
            "Requirement already satisfied: safetensors>=0.4.1 in /usr/local/lib/python3.10/dist-packages (from transformers<5.0.0,>=4.34.0->sentence-transformers>=2.6.1->llama_index.embeddings.huggingface) (0.4.5)\n",
            "Requirement already satisfied: tokenizers<0.20,>=0.19 in /usr/local/lib/python3.10/dist-packages (from transformers<5.0.0,>=4.34.0->sentence-transformers>=2.6.1->llama_index.embeddings.huggingface) (0.19.1)\n",
            "Requirement already satisfied: mypy-extensions>=0.3.0 in /usr/local/lib/python3.10/dist-packages (from typing-inspect>=0.8.0->llama-index-core<0.12.0,>=0.11.0->llama_index.embeddings.huggingface) (1.0.0)\n",
            "Requirement already satisfied: marshmallow<4.0.0,>=3.18.0 in /usr/local/lib/python3.10/dist-packages (from dataclasses-json->llama-index-core<0.12.0,>=0.11.0->llama_index.embeddings.huggingface) (3.22.0)\n",
            "Requirement already satisfied: anyio in /usr/local/lib/python3.10/dist-packages (from httpx->llama-index-core<0.12.0,>=0.11.0->llama_index.embeddings.huggingface) (3.7.1)\n",
            "Requirement already satisfied: httpcore==1.* in /usr/local/lib/python3.10/dist-packages (from httpx->llama-index-core<0.12.0,>=0.11.0->llama_index.embeddings.huggingface) (1.0.6)\n",
            "Requirement already satisfied: sniffio in /usr/local/lib/python3.10/dist-packages (from httpx->llama-index-core<0.12.0,>=0.11.0->llama_index.embeddings.huggingface) (1.3.1)\n",
            "Requirement already satisfied: h11<0.15,>=0.13 in /usr/local/lib/python3.10/dist-packages (from httpcore==1.*->httpx->llama-index-core<0.12.0,>=0.11.0->llama_index.embeddings.huggingface) (0.14.0)\n",
            "Requirement already satisfied: threadpoolctl>=3.1.0 in /usr/local/lib/python3.10/dist-packages (from scikit-learn->sentence-transformers>=2.6.1->llama_index.embeddings.huggingface) (3.5.0)\n",
            "Requirement already satisfied: propcache>=0.2.0 in /usr/local/lib/python3.10/dist-packages (from yarl<2.0,>=1.12.0->aiohttp->huggingface-hub[inference]>=0.19.0->llama_index.embeddings.huggingface) (0.2.0)\n",
            "Requirement already satisfied: exceptiongroup in /usr/local/lib/python3.10/dist-packages (from anyio->httpx->llama-index-core<0.12.0,>=0.11.0->llama_index.embeddings.huggingface) (1.2.2)\n",
            "Requirement already satisfied: MarkupSafe>=2.0 in /usr/local/lib/python3.10/dist-packages (from jinja2->torch>=1.11.0->sentence-transformers>=2.6.1->llama_index.embeddings.huggingface) (3.0.1)\n",
            "Requirement already satisfied: mpmath<1.4,>=1.1.0 in /usr/local/lib/python3.10/dist-packages (from sympy->torch>=1.11.0->sentence-transformers>=2.6.1->llama_index.embeddings.huggingface) (1.3.0)\n",
            "Requirement already satisfied: llama-index-embeddings-instructor in /usr/local/lib/python3.10/dist-packages (0.2.1)\n",
            "Requirement already satisfied: instructorembedding<2.0.0,>=1.0.1 in /usr/local/lib/python3.10/dist-packages (from llama-index-embeddings-instructor) (1.0.1)\n",
            "Requirement already satisfied: llama-index-core<0.12.0,>=0.11.0 in /usr/local/lib/python3.10/dist-packages (from llama-index-embeddings-instructor) (0.11.18)\n",
            "Requirement already satisfied: sentence-transformers<3.0.0,>=2.2.2 in /usr/local/lib/python3.10/dist-packages (from llama-index-embeddings-instructor) (2.7.0)\n",
            "Requirement already satisfied: torch<3.0.0,>=2.1.2 in /usr/local/lib/python3.10/dist-packages (from llama-index-embeddings-instructor) (2.4.1+cu121)\n",
            "Requirement already satisfied: PyYAML>=6.0.1 in /usr/local/lib/python3.10/dist-packages (from llama-index-core<0.12.0,>=0.11.0->llama-index-embeddings-instructor) (6.0.2)\n",
            "Requirement already satisfied: SQLAlchemy>=1.4.49 in /usr/local/lib/python3.10/dist-packages (from SQLAlchemy[asyncio]>=1.4.49->llama-index-core<0.12.0,>=0.11.0->llama-index-embeddings-instructor) (2.0.35)\n",
            "Requirement already satisfied: aiohttp<4.0.0,>=3.8.6 in /usr/local/lib/python3.10/dist-packages (from llama-index-core<0.12.0,>=0.11.0->llama-index-embeddings-instructor) (3.10.10)\n",
            "Requirement already satisfied: dataclasses-json in /usr/local/lib/python3.10/dist-packages (from llama-index-core<0.12.0,>=0.11.0->llama-index-embeddings-instructor) (0.6.7)\n",
            "Requirement already satisfied: deprecated>=1.2.9.3 in /usr/local/lib/python3.10/dist-packages (from llama-index-core<0.12.0,>=0.11.0->llama-index-embeddings-instructor) (1.2.14)\n",
            "Requirement already satisfied: dirtyjson<2.0.0,>=1.0.8 in /usr/local/lib/python3.10/dist-packages (from llama-index-core<0.12.0,>=0.11.0->llama-index-embeddings-instructor) (1.0.8)\n",
            "Requirement already satisfied: fsspec>=2023.5.0 in /usr/local/lib/python3.10/dist-packages (from llama-index-core<0.12.0,>=0.11.0->llama-index-embeddings-instructor) (2024.6.1)\n",
            "Requirement already satisfied: httpx in /usr/local/lib/python3.10/dist-packages (from llama-index-core<0.12.0,>=0.11.0->llama-index-embeddings-instructor) (0.27.2)\n",
            "Requirement already satisfied: nest-asyncio<2.0.0,>=1.5.8 in /usr/local/lib/python3.10/dist-packages (from llama-index-core<0.12.0,>=0.11.0->llama-index-embeddings-instructor) (1.6.0)\n",
            "Requirement already satisfied: networkx>=3.0 in /usr/local/lib/python3.10/dist-packages (from llama-index-core<0.12.0,>=0.11.0->llama-index-embeddings-instructor) (3.4)\n",
            "Requirement already satisfied: nltk>3.8.1 in /usr/local/lib/python3.10/dist-packages (from llama-index-core<0.12.0,>=0.11.0->llama-index-embeddings-instructor) (3.9.1)\n",
            "Requirement already satisfied: numpy<2.0.0 in /usr/local/lib/python3.10/dist-packages (from llama-index-core<0.12.0,>=0.11.0->llama-index-embeddings-instructor) (1.26.4)\n",
            "Requirement already satisfied: pillow>=9.0.0 in /usr/local/lib/python3.10/dist-packages (from llama-index-core<0.12.0,>=0.11.0->llama-index-embeddings-instructor) (10.4.0)\n",
            "Requirement already satisfied: pydantic<3.0.0,>=2.7.0 in /usr/local/lib/python3.10/dist-packages (from llama-index-core<0.12.0,>=0.11.0->llama-index-embeddings-instructor) (2.9.2)\n",
            "Requirement already satisfied: requests>=2.31.0 in /usr/local/lib/python3.10/dist-packages (from llama-index-core<0.12.0,>=0.11.0->llama-index-embeddings-instructor) (2.32.3)\n",
            "Requirement already satisfied: tenacity!=8.4.0,<9.0.0,>=8.2.0 in /usr/local/lib/python3.10/dist-packages (from llama-index-core<0.12.0,>=0.11.0->llama-index-embeddings-instructor) (8.5.0)\n",
            "Requirement already satisfied: tiktoken>=0.3.3 in /usr/local/lib/python3.10/dist-packages (from llama-index-core<0.12.0,>=0.11.0->llama-index-embeddings-instructor) (0.8.0)\n",
            "Requirement already satisfied: tqdm<5.0.0,>=4.66.1 in /usr/local/lib/python3.10/dist-packages (from llama-index-core<0.12.0,>=0.11.0->llama-index-embeddings-instructor) (4.66.5)\n",
            "Requirement already satisfied: typing-extensions>=4.5.0 in /usr/local/lib/python3.10/dist-packages (from llama-index-core<0.12.0,>=0.11.0->llama-index-embeddings-instructor) (4.12.2)\n",
            "Requirement already satisfied: typing-inspect>=0.8.0 in /usr/local/lib/python3.10/dist-packages (from llama-index-core<0.12.0,>=0.11.0->llama-index-embeddings-instructor) (0.9.0)\n",
            "Requirement already satisfied: wrapt in /usr/local/lib/python3.10/dist-packages (from llama-index-core<0.12.0,>=0.11.0->llama-index-embeddings-instructor) (1.16.0)\n",
            "Requirement already satisfied: transformers<5.0.0,>=4.34.0 in /usr/local/lib/python3.10/dist-packages (from sentence-transformers<3.0.0,>=2.2.2->llama-index-embeddings-instructor) (4.44.2)\n",
            "Requirement already satisfied: scikit-learn in /usr/local/lib/python3.10/dist-packages (from sentence-transformers<3.0.0,>=2.2.2->llama-index-embeddings-instructor) (1.5.2)\n",
            "Requirement already satisfied: scipy in /usr/local/lib/python3.10/dist-packages (from sentence-transformers<3.0.0,>=2.2.2->llama-index-embeddings-instructor) (1.13.1)\n",
            "Requirement already satisfied: huggingface-hub>=0.15.1 in /usr/local/lib/python3.10/dist-packages (from sentence-transformers<3.0.0,>=2.2.2->llama-index-embeddings-instructor) (0.24.7)\n",
            "Requirement already satisfied: filelock in /usr/local/lib/python3.10/dist-packages (from torch<3.0.0,>=2.1.2->llama-index-embeddings-instructor) (3.16.1)\n",
            "Requirement already satisfied: sympy in /usr/local/lib/python3.10/dist-packages (from torch<3.0.0,>=2.1.2->llama-index-embeddings-instructor) (1.13.3)\n",
            "Requirement already satisfied: jinja2 in /usr/local/lib/python3.10/dist-packages (from torch<3.0.0,>=2.1.2->llama-index-embeddings-instructor) (3.1.4)\n",
            "Requirement already satisfied: aiohappyeyeballs>=2.3.0 in /usr/local/lib/python3.10/dist-packages (from aiohttp<4.0.0,>=3.8.6->llama-index-core<0.12.0,>=0.11.0->llama-index-embeddings-instructor) (2.4.3)\n",
            "Requirement already satisfied: aiosignal>=1.1.2 in /usr/local/lib/python3.10/dist-packages (from aiohttp<4.0.0,>=3.8.6->llama-index-core<0.12.0,>=0.11.0->llama-index-embeddings-instructor) (1.3.1)\n",
            "Requirement already satisfied: attrs>=17.3.0 in /usr/local/lib/python3.10/dist-packages (from aiohttp<4.0.0,>=3.8.6->llama-index-core<0.12.0,>=0.11.0->llama-index-embeddings-instructor) (24.2.0)\n",
            "Requirement already satisfied: frozenlist>=1.1.1 in /usr/local/lib/python3.10/dist-packages (from aiohttp<4.0.0,>=3.8.6->llama-index-core<0.12.0,>=0.11.0->llama-index-embeddings-instructor) (1.4.1)\n",
            "Requirement already satisfied: multidict<7.0,>=4.5 in /usr/local/lib/python3.10/dist-packages (from aiohttp<4.0.0,>=3.8.6->llama-index-core<0.12.0,>=0.11.0->llama-index-embeddings-instructor) (6.1.0)\n",
            "Requirement already satisfied: yarl<2.0,>=1.12.0 in /usr/local/lib/python3.10/dist-packages (from aiohttp<4.0.0,>=3.8.6->llama-index-core<0.12.0,>=0.11.0->llama-index-embeddings-instructor) (1.14.0)\n",
            "Requirement already satisfied: async-timeout<5.0,>=4.0 in /usr/local/lib/python3.10/dist-packages (from aiohttp<4.0.0,>=3.8.6->llama-index-core<0.12.0,>=0.11.0->llama-index-embeddings-instructor) (4.0.3)\n",
            "Requirement already satisfied: packaging>=20.9 in /usr/local/lib/python3.10/dist-packages (from huggingface-hub>=0.15.1->sentence-transformers<3.0.0,>=2.2.2->llama-index-embeddings-instructor) (24.1)\n",
            "Requirement already satisfied: click in /usr/local/lib/python3.10/dist-packages (from nltk>3.8.1->llama-index-core<0.12.0,>=0.11.0->llama-index-embeddings-instructor) (8.1.7)\n",
            "Requirement already satisfied: joblib in /usr/local/lib/python3.10/dist-packages (from nltk>3.8.1->llama-index-core<0.12.0,>=0.11.0->llama-index-embeddings-instructor) (1.4.2)\n",
            "Requirement already satisfied: regex>=2021.8.3 in /usr/local/lib/python3.10/dist-packages (from nltk>3.8.1->llama-index-core<0.12.0,>=0.11.0->llama-index-embeddings-instructor) (2024.9.11)\n",
            "Requirement already satisfied: annotated-types>=0.6.0 in /usr/local/lib/python3.10/dist-packages (from pydantic<3.0.0,>=2.7.0->llama-index-core<0.12.0,>=0.11.0->llama-index-embeddings-instructor) (0.7.0)\n",
            "Requirement already satisfied: pydantic-core==2.23.4 in /usr/local/lib/python3.10/dist-packages (from pydantic<3.0.0,>=2.7.0->llama-index-core<0.12.0,>=0.11.0->llama-index-embeddings-instructor) (2.23.4)\n",
            "Requirement already satisfied: charset-normalizer<4,>=2 in /usr/local/lib/python3.10/dist-packages (from requests>=2.31.0->llama-index-core<0.12.0,>=0.11.0->llama-index-embeddings-instructor) (3.4.0)\n",
            "Requirement already satisfied: idna<4,>=2.5 in /usr/local/lib/python3.10/dist-packages (from requests>=2.31.0->llama-index-core<0.12.0,>=0.11.0->llama-index-embeddings-instructor) (3.10)\n",
            "Requirement already satisfied: urllib3<3,>=1.21.1 in /usr/local/lib/python3.10/dist-packages (from requests>=2.31.0->llama-index-core<0.12.0,>=0.11.0->llama-index-embeddings-instructor) (2.2.3)\n",
            "Requirement already satisfied: certifi>=2017.4.17 in /usr/local/lib/python3.10/dist-packages (from requests>=2.31.0->llama-index-core<0.12.0,>=0.11.0->llama-index-embeddings-instructor) (2024.8.30)\n",
            "Requirement already satisfied: greenlet!=0.4.17 in /usr/local/lib/python3.10/dist-packages (from SQLAlchemy>=1.4.49->SQLAlchemy[asyncio]>=1.4.49->llama-index-core<0.12.0,>=0.11.0->llama-index-embeddings-instructor) (3.1.1)\n",
            "Requirement already satisfied: safetensors>=0.4.1 in /usr/local/lib/python3.10/dist-packages (from transformers<5.0.0,>=4.34.0->sentence-transformers<3.0.0,>=2.2.2->llama-index-embeddings-instructor) (0.4.5)\n",
            "Requirement already satisfied: tokenizers<0.20,>=0.19 in /usr/local/lib/python3.10/dist-packages (from transformers<5.0.0,>=4.34.0->sentence-transformers<3.0.0,>=2.2.2->llama-index-embeddings-instructor) (0.19.1)\n",
            "Requirement already satisfied: mypy-extensions>=0.3.0 in /usr/local/lib/python3.10/dist-packages (from typing-inspect>=0.8.0->llama-index-core<0.12.0,>=0.11.0->llama-index-embeddings-instructor) (1.0.0)\n",
            "Requirement already satisfied: marshmallow<4.0.0,>=3.18.0 in /usr/local/lib/python3.10/dist-packages (from dataclasses-json->llama-index-core<0.12.0,>=0.11.0->llama-index-embeddings-instructor) (3.22.0)\n",
            "Requirement already satisfied: anyio in /usr/local/lib/python3.10/dist-packages (from httpx->llama-index-core<0.12.0,>=0.11.0->llama-index-embeddings-instructor) (3.7.1)\n",
            "Requirement already satisfied: httpcore==1.* in /usr/local/lib/python3.10/dist-packages (from httpx->llama-index-core<0.12.0,>=0.11.0->llama-index-embeddings-instructor) (1.0.6)\n",
            "Requirement already satisfied: sniffio in /usr/local/lib/python3.10/dist-packages (from httpx->llama-index-core<0.12.0,>=0.11.0->llama-index-embeddings-instructor) (1.3.1)\n",
            "Requirement already satisfied: h11<0.15,>=0.13 in /usr/local/lib/python3.10/dist-packages (from httpcore==1.*->httpx->llama-index-core<0.12.0,>=0.11.0->llama-index-embeddings-instructor) (0.14.0)\n",
            "Requirement already satisfied: MarkupSafe>=2.0 in /usr/local/lib/python3.10/dist-packages (from jinja2->torch<3.0.0,>=2.1.2->llama-index-embeddings-instructor) (3.0.1)\n",
            "Requirement already satisfied: threadpoolctl>=3.1.0 in /usr/local/lib/python3.10/dist-packages (from scikit-learn->sentence-transformers<3.0.0,>=2.2.2->llama-index-embeddings-instructor) (3.5.0)\n",
            "Requirement already satisfied: mpmath<1.4,>=1.1.0 in /usr/local/lib/python3.10/dist-packages (from sympy->torch<3.0.0,>=2.1.2->llama-index-embeddings-instructor) (1.3.0)\n",
            "Requirement already satisfied: propcache>=0.2.0 in /usr/local/lib/python3.10/dist-packages (from yarl<2.0,>=1.12.0->aiohttp<4.0.0,>=3.8.6->llama-index-core<0.12.0,>=0.11.0->llama-index-embeddings-instructor) (0.2.0)\n",
            "Requirement already satisfied: exceptiongroup in /usr/local/lib/python3.10/dist-packages (from anyio->httpx->llama-index-core<0.12.0,>=0.11.0->llama-index-embeddings-instructor) (1.2.2)\n"
          ]
        }
      ]
    },
    {
      "cell_type": "code",
      "source": [
        "import nest_asyncio\n",
        "nest_asyncio.apply()\n",
        "!pip install llama-index-core llama-parse llama-index-readers-file python-dotenv\n",
        "\n",
        "# bring in deps\n",
        "from llama_parse import LlamaParse\n",
        "from llama_index.core import SimpleDirectoryReader\n",
        "\n",
        "# set up parser\n",
        "parser = LlamaParse(\n",
        "    result_type=\"markdown\"  # \"markdown\" and \"text\" are available\n",
        ")\n",
        "\n",
        "# use SimpleDirectoryReader to parse our file\n",
        "file_extractor = {\".pdf\": parser}\n",
        "documents = SimpleDirectoryReader(input_files=['/content/Final Policy document_LICs New Jeevan Shanti_V05_logo.pdf'], file_extractor=file_extractor).load_data()\n",
        "print(documents)"
      ],
      "metadata": {
        "colab": {
          "base_uri": "https://localhost:8080/"
        },
        "id": "OCP0VNP6TY4e",
        "outputId": "8746e60c-8ef1-44bf-b880-29e8db00859e"
      },
      "execution_count": 4,
      "outputs": [
        {
          "output_type": "stream",
          "name": "stdout",
          "text": [
            "Requirement already satisfied: llama-index-core in /usr/local/lib/python3.10/dist-packages (0.11.18)\n",
            "Requirement already satisfied: llama-parse in /usr/local/lib/python3.10/dist-packages (0.5.8)\n",
            "Requirement already satisfied: llama-index-readers-file in /usr/local/lib/python3.10/dist-packages (0.2.2)\n",
            "Requirement already satisfied: python-dotenv in /usr/local/lib/python3.10/dist-packages (1.0.1)\n",
            "Requirement already satisfied: PyYAML>=6.0.1 in /usr/local/lib/python3.10/dist-packages (from llama-index-core) (6.0.2)\n",
            "Requirement already satisfied: SQLAlchemy>=1.4.49 in /usr/local/lib/python3.10/dist-packages (from SQLAlchemy[asyncio]>=1.4.49->llama-index-core) (2.0.35)\n",
            "Requirement already satisfied: aiohttp<4.0.0,>=3.8.6 in /usr/local/lib/python3.10/dist-packages (from llama-index-core) (3.10.10)\n",
            "Requirement already satisfied: dataclasses-json in /usr/local/lib/python3.10/dist-packages (from llama-index-core) (0.6.7)\n",
            "Requirement already satisfied: deprecated>=1.2.9.3 in /usr/local/lib/python3.10/dist-packages (from llama-index-core) (1.2.14)\n",
            "Requirement already satisfied: dirtyjson<2.0.0,>=1.0.8 in /usr/local/lib/python3.10/dist-packages (from llama-index-core) (1.0.8)\n",
            "Requirement already satisfied: fsspec>=2023.5.0 in /usr/local/lib/python3.10/dist-packages (from llama-index-core) (2024.6.1)\n",
            "Requirement already satisfied: httpx in /usr/local/lib/python3.10/dist-packages (from llama-index-core) (0.27.2)\n",
            "Requirement already satisfied: nest-asyncio<2.0.0,>=1.5.8 in /usr/local/lib/python3.10/dist-packages (from llama-index-core) (1.6.0)\n",
            "Requirement already satisfied: networkx>=3.0 in /usr/local/lib/python3.10/dist-packages (from llama-index-core) (3.4)\n",
            "Requirement already satisfied: nltk>3.8.1 in /usr/local/lib/python3.10/dist-packages (from llama-index-core) (3.9.1)\n",
            "Requirement already satisfied: numpy<2.0.0 in /usr/local/lib/python3.10/dist-packages (from llama-index-core) (1.26.4)\n",
            "Requirement already satisfied: pillow>=9.0.0 in /usr/local/lib/python3.10/dist-packages (from llama-index-core) (10.4.0)\n",
            "Requirement already satisfied: pydantic<3.0.0,>=2.7.0 in /usr/local/lib/python3.10/dist-packages (from llama-index-core) (2.9.2)\n",
            "Requirement already satisfied: requests>=2.31.0 in /usr/local/lib/python3.10/dist-packages (from llama-index-core) (2.32.3)\n",
            "Requirement already satisfied: tenacity!=8.4.0,<9.0.0,>=8.2.0 in /usr/local/lib/python3.10/dist-packages (from llama-index-core) (8.5.0)\n",
            "Requirement already satisfied: tiktoken>=0.3.3 in /usr/local/lib/python3.10/dist-packages (from llama-index-core) (0.8.0)\n",
            "Requirement already satisfied: tqdm<5.0.0,>=4.66.1 in /usr/local/lib/python3.10/dist-packages (from llama-index-core) (4.66.5)\n",
            "Requirement already satisfied: typing-extensions>=4.5.0 in /usr/local/lib/python3.10/dist-packages (from llama-index-core) (4.12.2)\n",
            "Requirement already satisfied: typing-inspect>=0.8.0 in /usr/local/lib/python3.10/dist-packages (from llama-index-core) (0.9.0)\n",
            "Requirement already satisfied: wrapt in /usr/local/lib/python3.10/dist-packages (from llama-index-core) (1.16.0)\n",
            "Requirement already satisfied: beautifulsoup4<5.0.0,>=4.12.3 in /usr/local/lib/python3.10/dist-packages (from llama-index-readers-file) (4.12.3)\n",
            "Requirement already satisfied: pandas in /usr/local/lib/python3.10/dist-packages (from llama-index-readers-file) (2.2.2)\n",
            "Requirement already satisfied: pypdf<5.0.0,>=4.0.1 in /usr/local/lib/python3.10/dist-packages (from llama-index-readers-file) (4.3.1)\n",
            "Requirement already satisfied: striprtf<0.0.27,>=0.0.26 in /usr/local/lib/python3.10/dist-packages (from llama-index-readers-file) (0.0.26)\n",
            "Requirement already satisfied: aiohappyeyeballs>=2.3.0 in /usr/local/lib/python3.10/dist-packages (from aiohttp<4.0.0,>=3.8.6->llama-index-core) (2.4.3)\n",
            "Requirement already satisfied: aiosignal>=1.1.2 in /usr/local/lib/python3.10/dist-packages (from aiohttp<4.0.0,>=3.8.6->llama-index-core) (1.3.1)\n",
            "Requirement already satisfied: attrs>=17.3.0 in /usr/local/lib/python3.10/dist-packages (from aiohttp<4.0.0,>=3.8.6->llama-index-core) (24.2.0)\n",
            "Requirement already satisfied: frozenlist>=1.1.1 in /usr/local/lib/python3.10/dist-packages (from aiohttp<4.0.0,>=3.8.6->llama-index-core) (1.4.1)\n",
            "Requirement already satisfied: multidict<7.0,>=4.5 in /usr/local/lib/python3.10/dist-packages (from aiohttp<4.0.0,>=3.8.6->llama-index-core) (6.1.0)\n",
            "Requirement already satisfied: yarl<2.0,>=1.12.0 in /usr/local/lib/python3.10/dist-packages (from aiohttp<4.0.0,>=3.8.6->llama-index-core) (1.14.0)\n",
            "Requirement already satisfied: async-timeout<5.0,>=4.0 in /usr/local/lib/python3.10/dist-packages (from aiohttp<4.0.0,>=3.8.6->llama-index-core) (4.0.3)\n",
            "Requirement already satisfied: soupsieve>1.2 in /usr/local/lib/python3.10/dist-packages (from beautifulsoup4<5.0.0,>=4.12.3->llama-index-readers-file) (2.6)\n",
            "Requirement already satisfied: click in /usr/local/lib/python3.10/dist-packages (from nltk>3.8.1->llama-index-core) (8.1.7)\n",
            "Requirement already satisfied: joblib in /usr/local/lib/python3.10/dist-packages (from nltk>3.8.1->llama-index-core) (1.4.2)\n",
            "Requirement already satisfied: regex>=2021.8.3 in /usr/local/lib/python3.10/dist-packages (from nltk>3.8.1->llama-index-core) (2024.9.11)\n",
            "Requirement already satisfied: annotated-types>=0.6.0 in /usr/local/lib/python3.10/dist-packages (from pydantic<3.0.0,>=2.7.0->llama-index-core) (0.7.0)\n",
            "Requirement already satisfied: pydantic-core==2.23.4 in /usr/local/lib/python3.10/dist-packages (from pydantic<3.0.0,>=2.7.0->llama-index-core) (2.23.4)\n",
            "Requirement already satisfied: charset-normalizer<4,>=2 in /usr/local/lib/python3.10/dist-packages (from requests>=2.31.0->llama-index-core) (3.4.0)\n",
            "Requirement already satisfied: idna<4,>=2.5 in /usr/local/lib/python3.10/dist-packages (from requests>=2.31.0->llama-index-core) (3.10)\n",
            "Requirement already satisfied: urllib3<3,>=1.21.1 in /usr/local/lib/python3.10/dist-packages (from requests>=2.31.0->llama-index-core) (2.2.3)\n",
            "Requirement already satisfied: certifi>=2017.4.17 in /usr/local/lib/python3.10/dist-packages (from requests>=2.31.0->llama-index-core) (2024.8.30)\n",
            "Requirement already satisfied: greenlet!=0.4.17 in /usr/local/lib/python3.10/dist-packages (from SQLAlchemy>=1.4.49->SQLAlchemy[asyncio]>=1.4.49->llama-index-core) (3.1.1)\n",
            "Requirement already satisfied: mypy-extensions>=0.3.0 in /usr/local/lib/python3.10/dist-packages (from typing-inspect>=0.8.0->llama-index-core) (1.0.0)\n",
            "Requirement already satisfied: marshmallow<4.0.0,>=3.18.0 in /usr/local/lib/python3.10/dist-packages (from dataclasses-json->llama-index-core) (3.22.0)\n",
            "Requirement already satisfied: anyio in /usr/local/lib/python3.10/dist-packages (from httpx->llama-index-core) (3.7.1)\n",
            "Requirement already satisfied: httpcore==1.* in /usr/local/lib/python3.10/dist-packages (from httpx->llama-index-core) (1.0.6)\n",
            "Requirement already satisfied: sniffio in /usr/local/lib/python3.10/dist-packages (from httpx->llama-index-core) (1.3.1)\n",
            "Requirement already satisfied: h11<0.15,>=0.13 in /usr/local/lib/python3.10/dist-packages (from httpcore==1.*->httpx->llama-index-core) (0.14.0)\n",
            "Requirement already satisfied: python-dateutil>=2.8.2 in /usr/local/lib/python3.10/dist-packages (from pandas->llama-index-readers-file) (2.8.2)\n",
            "Requirement already satisfied: pytz>=2020.1 in /usr/local/lib/python3.10/dist-packages (from pandas->llama-index-readers-file) (2024.2)\n",
            "Requirement already satisfied: tzdata>=2022.7 in /usr/local/lib/python3.10/dist-packages (from pandas->llama-index-readers-file) (2024.2)\n",
            "Requirement already satisfied: packaging>=17.0 in /usr/local/lib/python3.10/dist-packages (from marshmallow<4.0.0,>=3.18.0->dataclasses-json->llama-index-core) (24.1)\n",
            "Requirement already satisfied: six>=1.5 in /usr/local/lib/python3.10/dist-packages (from python-dateutil>=2.8.2->pandas->llama-index-readers-file) (1.16.0)\n",
            "Requirement already satisfied: propcache>=0.2.0 in /usr/local/lib/python3.10/dist-packages (from yarl<2.0,>=1.12.0->aiohttp<4.0.0,>=3.8.6->llama-index-core) (0.2.0)\n",
            "Requirement already satisfied: exceptiongroup in /usr/local/lib/python3.10/dist-packages (from anyio->httpx->llama-index-core) (1.2.2)\n",
            "Started parsing the file under job_id 6aee68e8-0602-43df-89b9-6997078e7995\n",
            "[Document(id_='ceb75cc1-9b77-49ef-937b-1051d1aa2ace', embedding=None, metadata={'file_path': '/content/Final Policy document_LICs New Jeevan Shanti_V05_logo.pdf', 'file_name': 'Final Policy document_LICs New Jeevan Shanti_V05_logo.pdf', 'file_type': 'application/pdf', 'file_size': 588928, 'creation_date': '2024-10-16', 'last_modified_date': '2024-10-16'}, excluded_embed_metadata_keys=['file_name', 'file_type', 'file_size', 'creation_date', 'last_modified_date', 'last_accessed_date'], excluded_llm_metadata_keys=['file_name', 'file_type', 'file_size', 'creation_date', 'last_modified_date', 'last_accessed_date'], relationships={}, text='# LIFE INSURANCE CORPORATION OF INDIA\\n\\n# (Established by the Life Insurance Corporation Act, 1956)\\n\\n# Registration Number: 512\\n\\n# LIC’S NEW JEEVAN SHANTI (UIN: 512N338V05)\\n\\n# (A Non-Linked, Non-Participating, Individual, Single Premium, Deferred Annuity Plan)\\n\\n# PART – A\\n\\nRef: NB\\n\\n(Address and e-mail id of Branch Office):\\n\\nSpace for Name and Address of Policyholder\\n\\nSpace for Address and e-mail id of Branch Office\\n\\nDear Policyholder,\\n\\nDate:\\n\\nRe: Your Policy No. _______________\\n\\nWe have pleasure in forwarding herewith the above policy document comprising of Part A to Part G which please find in order.\\n\\nWe would also like to draw your kind attention to the information mentioned in the Schedule of the Policy and the benefits available under the Policy.\\n\\nSome of our Plans have certain options available under them. It is important that the options, if any, available under this Plan and mentioned in the Policy Document are noted carefully as it will be helpful to you, in case you decide to exercise any of the available options. It is also essential to note that such option, if available and mentioned in the document of this Plan has to be exercised in the right manner and during the stipulated time limit as prescribed herein.\\n\\n# Free Look Period\\n\\nWe would request you to go through the terms and conditions of the Policy and in case you disagree with any of the terms and conditions, you may return the Policy within a period of 30 days from the date of receipt of the electronic or physical mode of the Policy Document, whichever is earlier, stating the reasons for your objections and disagreement. On receipt of the policy, we shall cancel the same and the amount of premium deposited by you shall be refunded to you after deducting the charges for stamp duty and Annuity paid (if any). In case of QROPS, these provisions shall be further subject to any specific provisions regarding procedures as per Rules and Regulations of the HMRC in this regard. For further details please refer Condition 6 of Part D of this Policy Document.\\n\\nIn case you have any Complaint/Grievance, you may approach the Branch office on the address mentioned above or Grievance Redressal Officer/Ombudsman, whose addresses are as under:\\n\\nAddress of Grievance Redressal Officer:\\n\\nAddress and contact details of Insurance Ombudsman:\\n\\nIf you find any errors in this Policy Document, you may return this Policy for corrections.\\n\\nThanking you.\\n\\nYours faithfully,\\n\\np. Chief/Sr./Branch Manager\\n\\nAgent’s/Intermediary’s Code\\n\\nAgent’s/Intermediary’s Name\\n\\nAgent’s/Intermediary’s Mobile Number/ Landline Number\\n\\nLIC’s New Jeevan Shanti (UIN: 512N338V05) Page 1 of 21', mimetype='text/plain', start_char_idx=None, end_char_idx=None, text_template='{metadata_str}\\n\\n{content}', metadata_template='{key}: {value}', metadata_seperator='\\n'), Document(id_='24c714e2-49e2-4156-9ec2-6310bf0edc6d', embedding=None, metadata={'file_path': '/content/Final Policy document_LICs New Jeevan Shanti_V05_logo.pdf', 'file_name': 'Final Policy document_LICs New Jeevan Shanti_V05_logo.pdf', 'file_type': 'application/pdf', 'file_size': 588928, 'creation_date': '2024-10-16', 'last_modified_date': '2024-10-16'}, excluded_embed_metadata_keys=['file_name', 'file_type', 'file_size', 'creation_date', 'last_modified_date', 'last_accessed_date'], excluded_llm_metadata_keys=['file_name', 'file_type', 'file_size', 'creation_date', 'last_modified_date', 'last_accessed_date'], relationships={}, text='# We would also like to draw your attention to the following aspects:\\n\\n1. Change of Address: In case you change your residence, kindly ensure that you inform the change in address to the servicing Branch Office.\\n2. Submission of the Existence Certificate: The Existence Certificate must be submitted by the Annuitant / Primary Annuitant / Secondary Annuitant (as applicable) in the prescribed format as and when required by the Corporation. The Annuity payments shall be released only on receipt of the Existence Certificate.\\n3. Assignment: Assignment should be in accordance with the provisions of Section 38 of the Insurance Act 1938, as amended from time to time. The current provisions of Section 38 are enclosed as Annexure- I for reference.\\n4. Nomination: Nomination should be in accordance with provisions of Section 39 of the Insurance Act, 1938, as amended from time to time. The current provisions of Section 39 are enclosed as Annexure -II for reference.\\n5. Within 90 days from the date of death, intimation of death along with death certificate must be notified in writing to the office of the Corporation where the policy is serviced for any claims to be admissible. However, delay in intimation of the genuine claim by the claimant may be condoned by the Corporation on merit and where delay is proved to be for the reasons beyond his/her control.\\n6. The provisions of Section 45 of Insurance Act, 1938 as amended from time to time shall be applicable. The current provisions of the same are enclosed as Annexure-III.\\n7. Various Sections of the Insurance Act, 1938, applicable to LIC to apply as amended from time to time.\\n8. The approved version of Policy Document in respect of this Plan is available on our website: www.licindia.in\\n9. Please visit our website: www.licindia.in to avail LIC’s e-services.\\n10. For Customer Services, you can contact LIC call centre at +91-02268276827 whose services are available 24*7 in English, Hindi and 8 Regional Languages.\\n\\nThese measures will enable us to serve you better.\\n\\nLIC’s New Jeevan Shanti (UIN: 512N338V05) Page 2 of 21', mimetype='text/plain', start_char_idx=None, end_char_idx=None, text_template='{metadata_str}\\n\\n{content}', metadata_template='{key}: {value}', metadata_seperator='\\n'), Document(id_='09536367-4f3b-461c-bac5-83df7fa2d3c1', embedding=None, metadata={'file_path': '/content/Final Policy document_LICs New Jeevan Shanti_V05_logo.pdf', 'file_name': 'Final Policy document_LICs New Jeevan Shanti_V05_logo.pdf', 'file_type': 'application/pdf', 'file_size': 588928, 'creation_date': '2024-10-16', 'last_modified_date': '2024-10-16'}, excluded_embed_metadata_keys=['file_name', 'file_type', 'file_size', 'creation_date', 'last_modified_date', 'last_accessed_date'], excluded_llm_metadata_keys=['file_name', 'file_type', 'file_size', 'creation_date', 'last_modified_date', 'last_accessed_date'], relationships={}, text='# Preamble\\n\\nWhereas the LIFE INSURANCE CORPORATION OF INDIA (hereinafter called “the Corporation”) has received a Proposal and Declaration for the purchase of a Deferred Annuity under the “LIC’s New Jeevan Shanti” and the said Proposal and Declaration with the statements contained and referred to therein, which the Proposer and Annuitant(s) named in the Schedule referred to herein below has agreed shall be and are hereby declared to be the basis of this Annuity Contract and has received the Premium for an Annuity amount and on the terms stated in the said Schedule.\\n\\nNow this Policy Witnesseth that in consideration of the Premium paid, the Corporation will pay the annuity as specified in the said Schedule and Death Benefit, but without interest, to the person/persons to whom the same is / are therein expressed to be payable upon proof to the satisfaction of the Corporation being furnished, in respect of each Annuity payment, that the Annuity payment in question has become payable and also in respect of the happening of the event on which the Death Benefit is to become payable as set out in this Policy Document and the title of the person/persons claiming to receive the Annuity /Death Benefit.\\n\\nBut where the Annuity ceases or determines on the death of the annuitant, no part of the said Annuity shall be payable or paid for such time as may elapse between the date of payment immediately preceding the death of annuitant and the day of his/her death, the subsistence of life of the annuitant at twelve o’clock on the day on which the said annuity falls due being duly certified from time to time in such manner as the Corporation may require.\\n\\nAnd it is hereby declared that this policy shall be subject to the Definitions, Benefits, Conditions Related To Servicing Aspects, Other Terms And Conditions and Statutory Provisions printed in this Policy and that the Schedule and every endorsement placed on the Policy by the Corporation shall be deemed to be part of the Policy.\\n\\nLIC’s New Jeevan Shanti (UIN: 512N338V05) Page 3 of 21', mimetype='text/plain', start_char_idx=None, end_char_idx=None, text_template='{metadata_str}\\n\\n{content}', metadata_template='{key}: {value}', metadata_seperator='\\n'), Document(id_='637817f9-ba06-4d87-b3b3-dec347f582ca', embedding=None, metadata={'file_path': '/content/Final Policy document_LICs New Jeevan Shanti_V05_logo.pdf', 'file_name': 'Final Policy document_LICs New Jeevan Shanti_V05_logo.pdf', 'file_type': 'application/pdf', 'file_size': 588928, 'creation_date': '2024-10-16', 'last_modified_date': '2024-10-16'}, excluded_embed_metadata_keys=['file_name', 'file_type', 'file_size', 'creation_date', 'last_modified_date', 'last_accessed_date'], excluded_llm_metadata_keys=['file_name', 'file_type', 'file_size', 'creation_date', 'last_modified_date', 'last_accessed_date'], relationships={}, text='# SCHEDULE\\n\\n|DIVISIONAL OFFICE:|BRANCH OFFICE:| | | |\\n|---|---|---|---|---|\\n|Policy No.:| | | | |\\n|Date of Commencement (DD/MM/YYYY):| | | | |\\n|Date of Commencement (DD/MM/YYYY):| | | | |\\n|Deferment Period:| | | | |\\n|Date of Vesting (DD/MM/YYYY):| | | | |\\n|Plan No.:| | | | |\\n|of Policy UIN:| | | | |\\n|Purchase Price: (Rs.)| | | | |\\n|of Risk Premium: (Rs.)| | | | |\\n|Additional Benefit on Death per month: (Rs)| | | | |\\n|Amount of Annuity payment: (Rs.)| | | | |\\n|Mode of payment of Annuity:| | | | |\\n|Date of 1st Annuity payment (DD/MM/YYYY):| | | | |\\n|Due date (DD/MM/YYYY):| | | | |\\n|Annuity Option chosen:| | | | |\\n|Name, Gender and Address of Proposer:|Proposal No.:| | | |\\n| |Date of proposal (DD/MM/YYYY):| | | |\\n| |Date of issuance of policy (DD/MM/YYYY):| | | |\\n|Name, Gender and Address of Annuitant/Primary Annuitant:|Date of Birth of the Annuitant/Primary Annuitant (DD/MM/YYYY):| | | |\\n| |Age of the Annuitant/Primary Annuitant:| | | |\\n|Name, Gender and Address of Secondary Annuitant:| | | | |\\n|Date of Birth of Secondary Annuitant (DD/MM/YYYY):| | | | |\\n|Age of Secondary Annuitant:| | | | |\\n|Whether age admitted of:| | | | |\\n|a. Annuitant/Primary Annuitant:| | | | |\\n|b. Secondary Annuitant:| | | | |\\n|Option taken for payment of Death Benefit:|Lumpsum / Annuitisation/ Installment-| | | |\\n|Details of Nominee(s) under Section 39 of the Insurance Act, 1938 as amended from time to time:| | | | |\\n|Type of Nomination:| | | | |\\n|Nominee(s) Name|Nominee’s Age (in years)|Nominee’s Percentage (in Share)|Relationship to the Annuitant/Primary Annuitant|Appointee Name (in case the Nominee is a minor/Divyangjan)|\\n| | | | | |\\n\\nSigned on behalf of the Corporation at the above-mentioned Branch office whose address and e-mail ID are given on the first page and to which all communications relating to the policy should be addressed.\\n\\nDate (DD/MM/YYYY):\\n\\nExamined by:\\n\\n__________________________\\n\\nForm No.: p. Chief/Sr./Branch Manager\\n\\nLIC’s New Jeevan Shanti (UIN: 512N338V05) Page 4 of 21', mimetype='text/plain', start_char_idx=None, end_char_idx=None, text_template='{metadata_str}\\n\\n{content}', metadata_template='{key}: {value}', metadata_seperator='\\n'), Document(id_='253afe8a-a190-482b-ba2e-cea66b9dcfbf', embedding=None, metadata={'file_path': '/content/Final Policy document_LICs New Jeevan Shanti_V05_logo.pdf', 'file_name': 'Final Policy document_LICs New Jeevan Shanti_V05_logo.pdf', 'file_type': 'application/pdf', 'file_size': 588928, 'creation_date': '2024-10-16', 'last_modified_date': '2024-10-16'}, excluded_embed_metadata_keys=['file_name', 'file_type', 'file_size', 'creation_date', 'last_modified_date', 'last_accessed_date'], excluded_llm_metadata_keys=['file_name', 'file_type', 'file_size', 'creation_date', 'last_modified_date', 'last_accessed_date'], relationships={}, text='# PART – B: DEFINITIONS\\n\\nThe definitions of terms/words used in the Policy Document are as under:\\n\\n1. Age is the age last birthday of the Annuitant(s) on the date of commencement of the policy.\\n2. Annuitant(s) being person(s) on whose life this policy has been taken and who become entitled to receive the annuity benefits as stated in Policy Schedule.\\n3. Annuity means a specified amount payable under this policy at specified regular intervals as mentioned in the schedule and payable as per the specification under the option chosen by the annuitant as evidenced in the schedule of the policy. Annuity option once chosen cannot be altered.\\n4. Appointee is the person to whom the proceeds/benefits secured under the Policy are payable on behalf of the nominee if the benefit becomes payable to the nominee and nominee is minor (as on the date of claim payment)/dependant person with disability (Divyangjan).\\n5. Assignee is the person to whom the rights and benefits are transferred by virtue of an Assignment.\\n6. Assignment is the process of transferring the rights and benefits to an “Assignee”. Assignment should be in accordance with the provisions of Section 38 of Insurance Act, 1938 as amended from time to time.\\n7. Beneficiary/Claimant means the person(s)/ entity who is/are entitled to receive benefits under this Policy. The Beneficiary to whom Benefits payable is the Annuitant/Primary Annuitant or surviving named Secondary Annuitant or his Assignee under Section 38 of the Insurance Act, 1938 as amended from time to time or Nominees under Section 39 of the Insurance Act 1938 as amended from time to time or Proved Executors or Administrators or other legal representatives of the Annuitant(s) who should take out representation to his / her estate or limited to the monies payable under this policy from any court of any State or territory of the Union of India, as applicable.\\n8. Corporation means the Life Insurance Corporation of India established under Section 3 of the Life Insurance Corporation Act, 1956.\\n9. Date of commencement of policy is the start date of this Policy.\\n10. Date of commencement of risk is the date on which the Corporation accepts the risk for insurance (cover) as evidenced in the schedule of the Policy.\\n11. Date of issuance of policy is a date when a proposal after underwriting is accepted as a Policy and this contract gets effected.\\n12. Date of Vesting means the date specified in Policy Schedule on which Deferment Period expires and the annuity becomes payable in arrears as per the mode chosen for annuity payment.\\n13. Death Benefit means the benefit, which is payable on death, as specified in Condition 1 of Part C of this Policy Document.\\n14. Deferment Period is the period, in years, as chosen by the policyholder and as specified in the Schedule, commencing from the Date of commencement of policy to the date of Vesting.\\n15. Discharge form is the form to be filled by Annuitant /Claimant to claim the Surrender/Death benefit under the policy.\\n16. Divyangjan means a person with benchmark disability as defined in Section 2(r) of “The Rights of Persons with Disabilities Act, 2016” and means a person with not less than forty per cent of a specified disability where specified disability has not been defined in measurable terms and includes a person with disability where specified disability has been defined in measurable terms, as certified by the certifying authority.\\n17. Due Date means a fixed date on which the annuity is due and payable.\\n18. Endorsement means conditions attached/ affixed to this Policy incorporating any amendments or modifications agreed to or issued by the Corporation.\\n19. Free Look Period is the period of 30 days from the date of receipt of the electronic or physical mode of Policy Document, whichever is earlier by the Policyholder to review the terms and conditions of this policy and where the Policyholder disagrees to any of those terms and conditions, he/ she has the option to return this policy as detailed in Condition 6 of Part D of this Policy Document.\\n20. Government Security (G-Sec) in this Policy Document refers to the tradeable instruments issued by Central Government for various durations, declared as benchmark securities corresponding to the stated tenors, by Reserve Bank of India.\\n\\nLIC’s New Jeevan Shanti (UIN: 512N338V05) Page 5 of 21', mimetype='text/plain', start_char_idx=None, end_char_idx=None, text_template='{metadata_str}\\n\\n{content}', metadata_template='{key}: {value}', metadata_seperator='\\n'), Document(id_='9b1479bc-4f41-46bf-9641-1a29849d4d55', embedding=None, metadata={'file_path': '/content/Final Policy document_LICs New Jeevan Shanti_V05_logo.pdf', 'file_name': 'Final Policy document_LICs New Jeevan Shanti_V05_logo.pdf', 'file_type': 'application/pdf', 'file_size': 588928, 'creation_date': '2024-10-16', 'last_modified_date': '2024-10-16'}, excluded_embed_metadata_keys=['file_name', 'file_type', 'file_size', 'creation_date', 'last_modified_date', 'last_accessed_date'], excluded_llm_metadata_keys=['file_name', 'file_type', 'file_size', 'creation_date', 'last_modified_date', 'last_accessed_date'], relationships={}, text='# LIC’s New Jeevan Shanti (UIN: 512N338V05)\\n\\n# Definitions\\n\\n1. IRDAI means Insurance Regulatory and Development Authority of India earlier called as Insurance Regulatory and Development Authority (IRDA).\\n2. Joint Life annuity refers to an annuity policy taken jointly on the lives of Primary Annuitant and Secondary Annuitant. The joint life annuity can be taken between any two persons who are either lineal descendant/ascendant of the family (i.e. Grandparent, Parent, Children, and Grandchildren) or spouse or siblings.\\n3. Loan is the interest bearing repayable amount granted by the Corporation against the surrender value payable to the policyholder.\\n4. Minor is a person who has not completed 18 years of age.\\n5. Mode refers to the frequency of Annuity payment as chosen by the Annuitant from the available modes of annuity i.e. yearly, half-yearly, quarterly, and monthly. The Annuity shall be payable in arrears i.e. the annuity payment shall commence after 1 year, 6 months, 3 months and 1 month from the Date of Vesting of Policy depending on whether the mode of annuity payment is Yearly, Half yearly, Quarterly and Monthly respectively.\\n6. Monthly tabular annuity rate for the purpose of calculating Additional Benefit on Death means the annuity rate per Unit Purchase Price applicable for monthly mode without applying any incentive in annuity rates.\\n7. Nomination is the process of nominating a person(s) who is (are) named as “Nominee(s)” in the Proposal Form or subsequently included/ changed by an endorsement. Nomination should be in accordance with provisions of Section 39 of the Insurance Act, 1938 as amended from time to time.\\n8. Nominee(s) means the person(s) nominated under this policy and who is (are) authorized to receive the benefit/s under this policy, on the death of the Annuitant/ Primary Annuitant/Secondary Annuitant, wherever applicable as per the annuity option chosen and to give a valid discharge to the Corporation on settlement of the claim.\\n9. Non-Participating policies means policies which are not entitled for any share in surplus (profits) during the term of the policy. Under such non-participating policies, the benefits payable on death or maturity are guaranteed and fixed as per the terms and conditions of the policy.\\n10. Policy/ Policy Document means this document along with endorsements, if any, issued by the Corporation which is a legal contract between the Policyholder and the Corporation.\\n11. Policyholder is the legal owner of this policy.\\n12. Premium is the amount paid by the Policyholder as mentioned in the Schedule of this Policy Document (excluding any taxes which is payable separately) to secure the benefits under the policy.\\n13. Primary Annuitant (applicable under joint life Annuity Option) is the primary person on whose life this policy has been taken and who is entitled to receive the annuity benefits as stated in Policy Schedule. For joint life annuity option under this policy, word “Annuitant” is used for “Primary Annuitant”.\\n14. Purchase Price is an amount mentioned in the Schedule of this Policy Document as opted by the policyholder which is considered to determine the benefits under the policy.\\n15. Qualifying Recognised Overseas Pension Scheme (QROPS) is a pension scheme which is administered outside United Kingdom and is registered with and hence meets the requirements set by His Majesty’s Revenue and Customs (HMRC).\\n16. Schedule is the part of policy document that gives the specific details of this policy.\\n17. Secondary Annuitant (applicable under joint life Annuity Option) is the person entitled to receive the annuity payment, in the event of death of the Primary Annuitant.\\n18. Surrender means complete withdrawal / termination of the entire Policy.\\n19. Surrender Value means an amount, if any, that becomes payable in case of surrender in accordance with the terms and conditions of this policy.\\n20. UIN means the Unique Identification Number allotted to this Plan by the IRDAI.\\n\\nPage 6 of 21', mimetype='text/plain', start_char_idx=None, end_char_idx=None, text_template='{metadata_str}\\n\\n{content}', metadata_template='{key}: {value}', metadata_seperator='\\n'), Document(id_='b9402ccd-8f85-4d41-b441-90eba18960c3', embedding=None, metadata={'file_path': '/content/Final Policy document_LICs New Jeevan Shanti_V05_logo.pdf', 'file_name': 'Final Policy document_LICs New Jeevan Shanti_V05_logo.pdf', 'file_type': 'application/pdf', 'file_size': 588928, 'creation_date': '2024-10-16', 'last_modified_date': '2024-10-16'}, excluded_embed_metadata_keys=['file_name', 'file_type', 'file_size', 'creation_date', 'last_modified_date', 'last_accessed_date'], excluded_llm_metadata_keys=['file_name', 'file_type', 'file_size', 'creation_date', 'last_modified_date', 'last_accessed_date'], relationships={}, text='# PART – C: BENEFITS\\n\\nThe following benefits are payable under the policy:\\n\\n# 1. Benefits payable on Survival or on Death:\\n\\nThe benefits payable are as under:\\n\\n|Annuity Option|Annuity Description|Benefit payable on Survival|Benefit payable on Death|\\n|---|---|---|---|\\n|1|Deferred annuity for Single Life|During deferment period: Nothing is payable during the deferment period. After deferment period: Annuity payments will be made in arrears as long as the Annuitant is alive, as per the chosen mode of annuity payment.|Death Benefit shall be Higher of: • Purchase Price plus Accrued Additional Benefit on Death (as specified in Condition 3 of Part C of this policy document) minus Total annuity amount payable till date of death or • 105% of Purchase Price. On death of the Annuitant during the deferment period: Death Benefit as defined above shall be payable to nominee(s) as per the option exercised by the Annuitant as specified in Condition 3 of Part D of this policy document. On death of the Annuitant after the deferment period: The annuity payments shall cease immediately and Death Benefit as defined above shall be payable to nominee(s) as per the option exercised by the Annuitant as specified in Condition 3 of Part D of this policy document.|\\n|2|Deferred annuity for Joint life|During deferment period: On the survival of the Primary Annuitant and/or Secondary Annuitant during the deferment period, nothing is payable. After deferment period: Annuity payments will be made in arrears as long as the Primary Annuitant and/or Secondary Annuitant is alive, as per the chosen mode of annuity payment.|Death Benefit shall be Higher of: • Purchase Price plus Accrued Additional Benefit on Death (as specified in Condition 3 of Part C of this policy document) minus Total annuity amount payable till date of death or • 105% of Purchase Price. During the Deferment Period: On first death (of either of the covered lives): Nothing shall be payable. On death of the last survivor: Death Benefit as defined above shall be payable to nominee(s) as per the option exercised by the Annuitant(s) as specified in Condition 3 of Part D of this policy document. After the Deferment Period: On first death (of either of the covered lives): 100% of the annuity amount shall continue to be paid as long as one of the Annuitant is alive. On death of the last survivor: Annuity payment shall cease immediately and Death Benefit as defined above shall be payable to nominee(s) as per the option exercised by the Annuitant(s) as specified in Condition 3 of Part D of this policy document.|\\n\\nLIC’s New Jeevan Shanti (UIN: 512N338V05) Page 7 of 21', mimetype='text/plain', start_char_idx=None, end_char_idx=None, text_template='{metadata_str}\\n\\n{content}', metadata_template='{key}: {value}', metadata_seperator='\\n'), Document(id_='4cdaa1da-8fdf-4aeb-a0df-fff9a590054b', embedding=None, metadata={'file_path': '/content/Final Policy document_LICs New Jeevan Shanti_V05_logo.pdf', 'file_name': 'Final Policy document_LICs New Jeevan Shanti_V05_logo.pdf', 'file_type': 'application/pdf', 'file_size': 588928, 'creation_date': '2024-10-16', 'last_modified_date': '2024-10-16'}, excluded_embed_metadata_keys=['file_name', 'file_type', 'file_size', 'creation_date', 'last_modified_date', 'last_accessed_date'], excluded_llm_metadata_keys=['file_name', 'file_type', 'file_size', 'creation_date', 'last_modified_date', 'last_accessed_date'], relationships={}, text='# 2. Maturity Benefit:\\n\\nThere is no maturity benefit under this policy.\\n\\n# 3. Additional Benefit on Death:\\n\\nThe Additional Benefit on Death shall accrue at the end of each policy month, till the end of Deferment Period only. The rate of Additional Benefit on Death per month (as specified in the Schedule) during the Deferment Period shall be as under:\\n\\n|Additional Benefit on Death per month|= (Purchase Price * Annuity rate p.a. payable monthly) / 12|\\n|---|---|\\n|Where Annuity rate p.a. payable monthly shall be equal to Monthly tabular annuity rate and shall depend on the Option chosen, Age at entry of the annuitant(s) and the Deferment Period opted for.|Where Annuity rate p.a. payable monthly shall be equal to Monthly tabular annuity rate and shall depend on the Option chosen, Age at entry of the annuitant(s) and the Deferment Period opted for.|\\n\\nIn case of death of the annuitant or surrender of the policy during the Deferment Period, Additional Benefit on Death for the policy year in which the death/surrender has occurred shall accrue till the completed policy month as on the date of death/surrender.\\n\\n# PART- D: CONDITIONS RELATED TO SERVICING ASPECTS\\n\\n# 1. Proof of Age:\\n\\nThe purchase price having been calculated on the age of the Annuitant(s) as declared in the Proposal Form, in case the age is found different (lower/higher) than such age, without prejudice to the Corporation’s other rights and remedies, including those under the Insurance Act, 1938, as amended from time to time the following action shall be taken:\\n\\n1. If the Annuitant’s correct age is found to be different from the age declared in the Proposal Form, the Annuity payments payable under the Policy shall be altered corresponding to the correct age of the Annuitant from the next Annuity due date and the total of the excess paid if any, due to difference between the original Annuity amounts paid and the corrected Annuity from the commencement of the Policy up to the date of such excess payment, shall be paid to the Corporation with interest at such rate as fixed by the Corporation from time to time. The difference arising out of incorrect annuities paid in the past along with interest shall be collected from the Annuitant or would be adjusted from the following Annuity payments.\\n2. If the correct age is such as would have made the Annuitant uninsurable under this Policy, then this policy shall be cancelled and the Premium paid may be refunded after deducting the charges for stamp duty, taxes and Annuity paid (if any).\\n\\n# 2. Forfeiture in certain events:\\n\\nIn case any condition herein contained or endorsed hereon shall be contravened, or in case it shall hereafter appear that any untrue or incorrect averment is contained in the proposal and declaration herein mentioned, or in the statements referred to therein, have not been truly and fairly stated or that any material information has been withheld, then and in every such case this policy shall be void and all claims to any benefit in virtue of this policy shall be subject to the provisions of Section 45 of the Insurance Act, 1938 as amended from time to time.\\n\\n# 3. Options available for payment of Death Benefit:\\n\\nThe Annuitant(s) shall have to choose one of the following options for the payment of the death benefit to the nominee(s). The death claim amount shall then be paid to the nominee(s) as per the option exercised by the Annuitant(s) and no alteration whatsoever shall be allowed to be made by the nominee(s). This option has to be exercised by Annuitant(s) at the proposal stage. However, this option can be subsequently modified by Annuitant(s) during his/her life while in currency of the policy.\\n\\nLIC’s New Jeevan Shanti (UIN: 512N338V05) Page 8 of 21', mimetype='text/plain', start_char_idx=None, end_char_idx=None, text_template='{metadata_str}\\n\\n{content}', metadata_template='{key}: {value}', metadata_seperator='\\n'), Document(id_='92685201-2ae5-4e9f-83b1-ecc1110cabc2', embedding=None, metadata={'file_path': '/content/Final Policy document_LICs New Jeevan Shanti_V05_logo.pdf', 'file_name': 'Final Policy document_LICs New Jeevan Shanti_V05_logo.pdf', 'file_type': 'application/pdf', 'file_size': 588928, 'creation_date': '2024-10-16', 'last_modified_date': '2024-10-16'}, excluded_embed_metadata_keys=['file_name', 'file_type', 'file_size', 'creation_date', 'last_modified_date', 'last_accessed_date'], excluded_llm_metadata_keys=['file_name', 'file_type', 'file_size', 'creation_date', 'last_modified_date', 'last_accessed_date'], relationships={}, text='# 1. Lumpsum Death Benefit:\\n\\nUnder this option the entire benefit amount payable on death shall be payable to the nominee(s) in lumpsum.\\n\\n# 2. Annuitisation of Death Benefit:\\n\\nUnder this option the benefit amount payable on death shall be utilized for purchasing an Immediate Annuity from the Corporation for nominee(s) effective from the date of death of the annuitant/last survivor. The annuity amount payable to the nominee(s) on the admission of death claim shall be based on the age of nominee(s) and immediate annuity rates prevailing as on the date of death of Annuitant (last survivor in case of Joint Life Annuity). This option can be opted for full or part of the benefit amount payable on death. However, the annuity payments for each nominee(s) shall be subject to the eligibility conditions of the annuity plan available at that time and then prevailing Regulatory provisions on the minimum limits for annuities. Currently applicable regulation is IRDAI (Minimum limits for Annuities and other Benefits) Regulations, 2015. In case the eligibility conditions of the annuity plan available at that time are not met or the benefit amount payable on death is insufficient to purchase the minimum amount of annuity, then the said amount shall be paid as a lump sum to the nominee(s). Any benefits payable to the nominee shall be as per Section 39 of Insurance Act, 1938 as amended from time to time.\\n\\n# 3. In Installment:\\n\\nUnder this option the benefit amount payable on death can be received in installments over the chosen period of 5 or 10 or 15 years instead of lumpsum amount. This option can be exercised for full or part of the Death Benefit payable under the policy. The amount opted by the Annuitant (i.e. net claim amount) can be either in absolute value or as a percentage of the total claim proceeds payable.\\n\\nThe installments shall be paid in advance at yearly or half-yearly or quarterly or monthly intervals, as opted for, subject to minimum installment amount for different modes of payments being as under:\\n\\n|Mode of Installment payment|Minimum installment amount|\\n|---|---|\\n|Monthly|Rs. 5000/-|\\n|Quarterly|Rs. 15000/-|\\n|Half-Yearly|Rs. 25000/-|\\n|Yearly|Rs. 50000/-|\\n\\nIf the Net Claim Amount is less than the required amount to provide the minimum installment amount as per the option exercised by the Annuitant(s), the claim proceed shall be paid in lumpsum only. For all the installment payment options commencing during the 12 months’ period from 1st May to 30th April, the interest rate applicable for arriving at the instalment amount shall be annual effective rate not lower than the 10 year semi-annual G-Sec rate minus 200 basis points; where, the 10 year semi-annual G-Sec rate shall be as at last trading day of previous financial year. Accordingly, for the 12 months’ period commencing from 1st May, 2023 to 30th April, 2024, the applicable interest rate for the calculation of installment amount shall be 5.31% p.a. effective.\\n\\n# 4. Surrender:\\n\\nThe policy can be surrendered at anytime during the policy term.\\n\\nOn the payment of the surrender value, the policy shall terminate and all other benefits shall cease.\\n\\nLIC’s New Jeevan Shanti (UIN: 512N338V05) Page 9 of 21', mimetype='text/plain', start_char_idx=None, end_char_idx=None, text_template='{metadata_str}\\n\\n{content}', metadata_template='{key}: {value}', metadata_seperator='\\n'), Document(id_='a9241d86-a4fe-41c2-8fe9-319ae37bf9f8', embedding=None, metadata={'file_path': '/content/Final Policy document_LICs New Jeevan Shanti_V05_logo.pdf', 'file_name': 'Final Policy document_LICs New Jeevan Shanti_V05_logo.pdf', 'file_type': 'application/pdf', 'file_size': 588928, 'creation_date': '2024-10-16', 'last_modified_date': '2024-10-16'}, excluded_embed_metadata_keys=['file_name', 'file_type', 'file_size', 'creation_date', 'last_modified_date', 'last_accessed_date'], excluded_llm_metadata_keys=['file_name', 'file_type', 'file_size', 'creation_date', 'last_modified_date', 'last_accessed_date'], relationships={}, text='# LIC’s New Jeevan Shanti (UIN: 512N338V05)\\n\\n# 5. Policy Loan:\\n\\nLoan facility shall be available at any time after three months from the completion of policy (i.e. 3 months from the date of issuance of policy) or after expiry of the free-look period, whichever is later, subject to the following terms and conditions, within the surrender value of the policy for such amounts and on such further terms and conditions as the Corporation may fix from time to time.\\n\\nUnder joint life the loan can be availed by the Primary Annuitant and in the absence of Primary Annuitant the same can be availed by the Secondary Annuitant.\\n\\nThe maximum amount of loan that can be granted under the policy shall be such that the effective annual interest amount payable on loan does not exceed 50% of the annual annuity amount payable under the policy subject to maximum of 80% of Surrender Value.\\n\\n# During Deferment Period:\\n\\nThe policy loan will be available subject to the following terms and conditions:\\n\\n1. Interest on Loan during the deferment period shall be paid on compounding half-yearly basis to the Corporation at the rate to be specified by the Corporation at the time of taking loan. The first payment of interest is to be made on the next policy anniversary or on the date six month before the next policy anniversary which ever immediately follows the date on which the loan is sanctioned and every half year thereafter.\\n2. In case if the loan is not repaid during the Deferment Period and if there is no default in the interest payment as of the end of Deferment Period, then Interest on the loan shall be recovered from annuity amount payable after the Deferment Period.\\n3. In case if the loan is not repaid during the Deferment Period and if there is a default in the interest payment as of the end of the Deferment Period, the difference of Surrender Value and the loan outstanding amount along with interest, if any, shall be payable to the Primary Annuitant / Secondary Annuitant and the policy shall be terminated.\\n\\n# The Surrender Value\\n\\nThe Surrender Value payable shall be higher of Guaranteed Surrender Value or Special Surrender Value.\\n\\n# Guaranteed Surrender Value (GSV):\\n\\nGuaranteed Surrender Value = (GSV Factor * Purchase Price) minus total annuity amount payable up to the date of surrender\\n\\n|Policy Year|1|2|3|4|5 and above|\\n|---|---|---|---|---|---|\\n|GSV Factor|75%|75%|75%|90%|90%|\\n\\nNote: If reduced annuity amount is paid under a policy on account of loan taken, the gross annuity amount originally payable shall be deducted for the calculation of Surrender Value.\\n\\n# Special Surrender Value:\\n\\nThe Special Surrender Value is reviewable and shall be determined by the Corporation from time to time subject to prior approval of IRDAI.\\n\\nAny loan amount outstanding along with interest and/or any other amount recoverable from Annuitant shall be recovered from the surrender value payment.\\n\\nIn case of QROPS, the surrender provisions shall be further subject to any specific provisions regarding procedures as per Rules and Regulations of the HMRC.', mimetype='text/plain', start_char_idx=None, end_char_idx=None, text_template='{metadata_str}\\n\\n{content}', metadata_template='{key}: {value}', metadata_seperator='\\n'), Document(id_='e3b7d14d-3fdf-4d7d-9dd3-3b84cdb30334', embedding=None, metadata={'file_path': '/content/Final Policy document_LICs New Jeevan Shanti_V05_logo.pdf', 'file_name': 'Final Policy document_LICs New Jeevan Shanti_V05_logo.pdf', 'file_type': 'application/pdf', 'file_size': 588928, 'creation_date': '2024-10-16', 'last_modified_date': '2024-10-16'}, excluded_embed_metadata_keys=['file_name', 'file_type', 'file_size', 'creation_date', 'last_modified_date', 'last_accessed_date'], excluded_llm_metadata_keys=['file_name', 'file_type', 'file_size', 'creation_date', 'last_modified_date', 'last_accessed_date'], relationships={}, text='# iv) During the Deferment Period\\n\\nIn the event of failure of payment of interest payment on the due dates and when the outstanding loan amount along with interest is to exceed the Surrender Value, the policy shall be forfeited to the Corporation. The difference of Surrender Value and the loan outstanding amount along with interest, if any, shall be payable to the Annuitant / Secondary Annuitant and the policy shall be terminated.\\n\\n# After Deferment period:\\n\\nLoan interest will be recovered from annuity amount payable under the policy. The Loan interest will accrue as per the frequency of annuity payment under the policy and it will be due on the due date of annuity. The loan outstanding shall be recovered from the claim proceeds at the time of exit.\\n\\nThe loan interest rate for all the loans commencing during the 12 months’ period from 1st May to 30th April, shall be compounding half-yearly rate not exceeding 10 year G-Sec Base/Par yield p.a. compounding half-yearly plus 300 basis points. The 10 year G-Sec Base/Par yield shall be as at last trading date of previous financial year. The calculated interest rate shall be applicable for full term of Loan.\\n\\nFor the loan sanctioned during the 12 months’ period commencing from 1st May, 2023 to 30th April, 2024, the applicable interest rate is 9.50% p.a. compounding half-yearly for entire term of the loan.\\n\\nAny change in basis of determination of interest rate for policy loan shall be subject to prior approval of IRDAI.\\n\\nIn case of QROPS, above policy loan provisions shall be subject to Rules and Regulations of HMRC in this regard.\\n\\n# 6. Free Look period:\\n\\nDuring the Free Look period of 30 days from the date of receipt of the electronic or physical mode of the Policy Document, whichever is earlier by the Policyholder, if the Policyholder is not satisfied with the Terms and Conditions of the policy, he/she may return the policy to the Corporation stating the reason of objections. On receipt of the same the Corporation shall cancel the Policy and return the Premium paid after deducting the charges for stamp duty and annuity paid, if any. However, this condition of Free Look period shall only be applicable in case of new purchase of Deferred Annuity plan. Wherever the purchase is from the existing fund the same shall not be applicable.\\n\\nThe treatment of other policies shall be as below:\\n\\n- a) If this policy is purchased out of proceeds of a deferred pension plan of any other Life Insurer: The proceeds from cancellation will be transferred back to that Life Insurer.\\n- b) If this policy has been purchased as QROPS as detailed in Condition 7 below: The proceeds from cancellation shall only be transferred back to the fund house from where the money was received. In case of QROPS, above provisions shall be further subject to any specific provisions regarding procedures as per Rules and Regulations of the HMRC in this regard.\\n\\n# 7. If this policy is purchased as QROPS (Qualifying Recognized Overseas Pension Scheme)\\n\\nThrough transfer of UK tax relieved assets the following terms and conditions prescribed by HMRC (His Majesty Revenue & Customs) shall apply:\\n\\n- i. Minimum Vesting Age shall be 55 years.\\n- ii. If the policy is cancelled during the Free Look period, the proceeds from cancellation shall only be transferred back to the fund house from where the money was received.\\n- iii. Overseas transfer charge - In the event of applicable tax charge arising as a result of an overseas transfer (His Majesty Revenue & Customs (HMRC) - policy paper – The Manager i.e. Life Insurance Corporation of India may become liable, Corporation shall.\\n\\nLIC’s New Jeevan Shanti (UIN: 512N338V05) Page 11 of 21', mimetype='text/plain', start_char_idx=None, end_char_idx=None, text_template='{metadata_str}\\n\\n{content}', metadata_template='{key}: {value}', metadata_seperator='\\n'), Document(id_='9c37b923-3679-4e16-8299-98516aa7b676', embedding=None, metadata={'file_path': '/content/Final Policy document_LICs New Jeevan Shanti_V05_logo.pdf', 'file_name': 'Final Policy document_LICs New Jeevan Shanti_V05_logo.pdf', 'file_type': 'application/pdf', 'file_size': 588928, 'creation_date': '2024-10-16', 'last_modified_date': '2024-10-16'}, excluded_embed_metadata_keys=['file_name', 'file_type', 'file_size', 'creation_date', 'last_modified_date', 'last_accessed_date'], excluded_llm_metadata_keys=['file_name', 'file_type', 'file_size', 'creation_date', 'last_modified_date', 'last_accessed_date'], relationships={}, text='# 8. Option to take the plan for the benefit of dependant person with disability (Divyangjan):\\n\\nIf the Proposer has a dependant person with disability (Divyangjan), the Proposer can purchase Deferred Annuity for Single life (Option 1) on own life for the benefit of Divyangjan as Nominee. In case of death of the Annuitant (Proposer), where the Purchase Price is less than Rs.1,50,000, the Death Benefit shall compulsorily be utilized to purchase Immediate Annuity (as per option chosen by the Annuitant) on the life of the Divyangjan who would be the nominee.\\n\\nIn case of Annuitisation, the annuity payment to Divyangjan shall be paid irrespective of any limit on minimum annuity payment, minimum age at entry and Purchase Price criteria and annuity rates applicable shall be then prevailing Immediate Annuity rates.\\n\\nFor deciding eligible disability of dependant person with disability (Divyangjan) as Nominee, reference is to be made to meaning of “person with benchmark disability” as assigned to it in Section 2(r) of “The Rights of Persons with Disabilities Act, 2016” as amended from time to time or any other applicable Act in this regard.\\n\\n# PART –E\\n\\nNot Applicable.\\n\\n# PART-F: OTHER TERMS AND CONDITIONS\\n\\n# 1. a) Assignment:\\n\\nAssignment is allowed under this Plan as per section 38 of the Insurance Act, 1938 as amended from time to time. The current provisions of Section 38 are contained in Annexure-I of this policy document. The notice of assignment should be submitted for registration to the office of the Corporation, where the policy is serviced.\\n\\n# b) Nomination:\\n\\nNomination by the holder of a policy of life assurance on his /her own life is allowed as per section 39 of the Insurance Act, 1938 as amended from time to time. The current provisions of Section 39 are contained in Annexure-II of this policy document.\\n\\nThe notice of nomination or change of nomination should be submitted for registration to the office of the Corporation, where the policy is serviced. In registering nomination the Corporation does not accept any responsibility or express any opinion as to its validity or legal effect.\\n\\n# 2. Suicide:\\n\\nThis Policy shall be void if the Annuitant/ Last Survivor in case of joint life annuity (whether sane or insane at the time) commits suicide at any time within 12 months from the date of commencement of risk. In such case, an amount which is higher of the 80% of the Premium paid or Surrender Value shall be payable. The Corporation will not entertain any other claim.\\n\\n# 3. Tax:\\n\\nStatutory Taxes, if any, imposed on such insurance plans by the Government of India or any other constitutional Tax Authority of India shall be as per the Tax laws and the rate of tax as applicable from time to time.\\n\\nThe amount of any applicable taxes payable as per the prevailing rates, shall be payable by the policyholder on Premium payable under the policy, which shall be collected separately in addition to the Premium payable by the policyholder. The amount of Tax paid shall not be considered for the calculation of benefits payable under the Plan.\\n\\nLIC’s New Jeevan Shanti (UIN: 512N338V05) Page 12 of 21', mimetype='text/plain', start_char_idx=None, end_char_idx=None, text_template='{metadata_str}\\n\\n{content}', metadata_template='{key}: {value}', metadata_seperator='\\n'), Document(id_='5021995c-a53c-467e-903f-74df607f0c43', embedding=None, metadata={'file_path': '/content/Final Policy document_LICs New Jeevan Shanti_V05_logo.pdf', 'file_name': 'Final Policy document_LICs New Jeevan Shanti_V05_logo.pdf', 'file_type': 'application/pdf', 'file_size': 588928, 'creation_date': '2024-10-16', 'last_modified_date': '2024-10-16'}, excluded_embed_metadata_keys=['file_name', 'file_type', 'file_size', 'creation_date', 'last_modified_date', 'last_accessed_date'], excluded_llm_metadata_keys=['file_name', 'file_type', 'file_size', 'creation_date', 'last_modified_date', 'last_accessed_date'], relationships={}, text='# 4. Normal requirements for benefit payable:\\n\\nFor annuities in payment: The Existence Certificate in the format prescribed by the Corporation is to be submitted by the Annuitant/ Primary Annuitant as and when required by the Corporation. In case of Option 2 (as defined in Condition 1 of Part C), after the death of the Primary Annuitant, the Existence Certificate of the surviving Secondary Annuitant will be required. The Annuity payments shall be released only on receipt of the Existence Certificate.\\n\\nOn death of the Annuitant(s): The normal documents which the claimants shall submit while lodging the claim in case of death of the Annuitant/Secondary Annuitant shall be the claim form, as prescribed by the Corporation, accompanied with original policy document, NEFT mandate from the claimant for direct credit of the claim amount to the bank account, proof of title, proof of death, whichever is applicable, to the satisfaction of the Corporation. If the age is not admitted under the policy, the proof of age of the Annuitant/ Secondary Annuitant shall also be submitted.\\n\\nWithin 90 days from the date of death, intimation of death along with death certificate must be notified in writing to the office of the Corporation where the policy is serviced for any claim to be admissible. However, delay in intimation of the genuine claim by the claimant, may be condoned by the Corporation, on merit and where delay is proved to be for reasons beyond his/her control.\\n\\nOn Surrender: In case of surrender of a policy, the Annuitant shall submit the discharge form along with the original policy document, NEFT mandate from the claimant for direct credit of the claim amount to the bank account besides proof of age, if the age is not admitted earlier.\\n\\nIn addition to above, any requirement mandated under any statutory provision or as may be required as per law shall also be required to be submitted.\\n\\n# 5. Section 45 of Insurance Act, 1938:\\n\\nThe provisions of Section 45 of the Insurance Act, 1938 as amended from time to time shall be applicable. The current provisions are contained in Annexure - III of this policy document.\\n\\n# 6. Legislative Changes:\\n\\nThe Terms and conditions under this policy are subject to variation in accordance with the relevant Legislation & Regulations.\\n\\n# 7. Issuance of Duplicate Policy:\\n\\nThe Policyholder can make an application for duplicate Policy on payment of policy preparation charges, policy stamp charges and applicable taxes, if any, which are specified from time to time* upon loss of policy document along with other requirements as may be prescribed by the Corporation.\\n\\n*As on January, 2024, the applicable duplicate policy preparation charges is Rs. 75. In addition, Indemnity Bond notarized as per requisite stamp value is also required and the stamp fee for the same shall be borne by the Policyholder.\\n\\n# 8. Governing Law and Jurisdiction:\\n\\nThe Policy shall be governed by the laws of India and the Indian Courts shall have jurisdiction to settle any disputes arising under the Policy.\\n\\nLIC’s New Jeevan Shanti (UIN: 512N338V05) Page 13 of 21', mimetype='text/plain', start_char_idx=None, end_char_idx=None, text_template='{metadata_str}\\n\\n{content}', metadata_template='{key}: {value}', metadata_seperator='\\n'), Document(id_='a8d467ac-d688-4a90-8ef0-4a568d100455', embedding=None, metadata={'file_path': '/content/Final Policy document_LICs New Jeevan Shanti_V05_logo.pdf', 'file_name': 'Final Policy document_LICs New Jeevan Shanti_V05_logo.pdf', 'file_type': 'application/pdf', 'file_size': 588928, 'creation_date': '2024-10-16', 'last_modified_date': '2024-10-16'}, excluded_embed_metadata_keys=['file_name', 'file_type', 'file_size', 'creation_date', 'last_modified_date', 'last_accessed_date'], excluded_llm_metadata_keys=['file_name', 'file_type', 'file_size', 'creation_date', 'last_modified_date', 'last_accessed_date'], relationships={}, text='# PART-G: STATUTORY PROVISIONS\\n\\n# Grievance Redressal Mechanism:\\n\\n# Of the Corporation:\\n\\nThe Corporation has Grievance Redressal Officers at Branch/ Divisional/ Zonal/ Central Office to redress grievances of customers. For ensuring quick redressal of customer grievances the Corporation has introduced Customer friendly Integrated Complaint Management System through our Customer Portal (website) which is http://www.licindia.in, where a registered policy holder can directly register complaint/ grievance and track its status. Customers can also contact at e-mail id co_complaints@licindia.com for redressal of any grievances.\\n\\nClaimants not satisfied with the decision of death claim repudiation have the option of referring their cases for review to Zonal Office Claims Dispute Redressal Committee or Central Office Claims Dispute Redressal Committee. A retired High Court/ District Court Judge is member of each of the Claims Dispute Redressal Committees.\\n\\n# Of IRDAI:\\n\\nIn case the customer is not satisfied with the response or does not receive a response from us within 15 days, then the customer may approach the Policyholder’s Protection and Grievance Redressal Department through any of the following modes:\\n\\n- Calling Toll Free Number 155255 / 18004254732 (i.e. IRDAI Grievance Call Centre-BIMA BHAROSA SHIKAYAT NIVARAN KENDRA)\\n- Sending an email to complaints@irdai.gov.in\\n- Register the complaint online at https://bimabharosa.irdai.gov.in\\n- Address for sending the complaint through courier / letter: General Manager, Policyholder’s Protection and, Grievance Redressal Department, Insurance Regulatory and Development Authority of India, Survey no. 115/1, Financial District, Nanakramguda, Gachibowli, Hyderabad – 500 032, Telangana.\\n\\n# Of Ombudsman:\\n\\nFor redressal of Claims related grievances, claimants can also approach Insurance Ombudsman who provides for low cost and speedy arbitration to customers.\\n\\nThe Ombudsman, as per Insurance Ombudsman Rules, 2017, can receive and consider complaints or disputes relating to the matters such as:\\n\\n1. Delay in settlement of claims, beyond the time specified in the regulations, framed under the Insurance Regulatory and Development Authority of India Act, 1999;\\n2. Any partial or total repudiation of claims by the life insurer, General insurer or the health insurer;\\n3. Disputes over premium paid or payable in terms of insurance policy;\\n4. Misrepresentation of policy terms and conditions at any time in the policy document or policy contract;\\n5. Legal construction of insurance policies in so far as the dispute relates to claim;\\n6. Policy servicing related grievances against insurers and their agents and intermediaries;\\n7. Issuance of life insurance policy, general insurance policy including health insurance policy which is not in conformity with the proposal form submitted by the proposer;\\n8. Non-issuance of insurance policy after receipt of premium in life insurance and general insurance including health insurance; and\\n9. Any other matter resulting from the violation of provisions of the Insurance Act, 1938 as amended from time to time or the regulations, circulars, guidelines or instructions issued by the IRDAI from time to time or the terms and conditions of the policy contract, in so far as they relate to issues mentioned at clauses (a) to (f)\\n\\nLIC’s New Jeevan Shanti (UIN: 512N338V05) Page 14 of 21', mimetype='text/plain', start_char_idx=None, end_char_idx=None, text_template='{metadata_str}\\n\\n{content}', metadata_template='{key}: {value}', metadata_seperator='\\n'), Document(id_='c85918ad-6b27-494d-92fb-7be9a6ee5ffb', embedding=None, metadata={'file_path': '/content/Final Policy document_LICs New Jeevan Shanti_V05_logo.pdf', 'file_name': 'Final Policy document_LICs New Jeevan Shanti_V05_logo.pdf', 'file_type': 'application/pdf', 'file_size': 588928, 'creation_date': '2024-10-16', 'last_modified_date': '2024-10-16'}, excluded_embed_metadata_keys=['file_name', 'file_type', 'file_size', 'creation_date', 'last_modified_date', 'last_accessed_date'], excluded_llm_metadata_keys=['file_name', 'file_type', 'file_size', 'creation_date', 'last_modified_date', 'last_accessed_date'], relationships={}, text='Note: In case of dispute in respect of interpretation of these terms and conditions mentioned in this document the English version shall stand valid.\\n\\n# YOU ARE REQUESTED TO EXAMINE THIS POLICY, AND IF ANY MISTAKE BE FOUND THEREIN, RETURN IT IMMEDIATELY FOR CORRECTION.\\n\\n# LIC’s New Jeevan Shanti (UIN: 512N338V05)\\n\\nPage 15 of 21', mimetype='text/plain', start_char_idx=None, end_char_idx=None, text_template='{metadata_str}\\n\\n{content}', metadata_template='{key}: {value}', metadata_seperator='\\n'), Document(id_='a12fd83a-ca11-4735-9a4e-0388bbb2268f', embedding=None, metadata={'file_path': '/content/Final Policy document_LICs New Jeevan Shanti_V05_logo.pdf', 'file_name': 'Final Policy document_LICs New Jeevan Shanti_V05_logo.pdf', 'file_type': 'application/pdf', 'file_size': 588928, 'creation_date': '2024-10-16', 'last_modified_date': '2024-10-16'}, excluded_embed_metadata_keys=['file_name', 'file_type', 'file_size', 'creation_date', 'last_modified_date', 'last_accessed_date'], excluded_llm_metadata_keys=['file_name', 'file_type', 'file_size', 'creation_date', 'last_modified_date', 'last_accessed_date'], relationships={}, text='# Annexure - I\\n\\n# Assignment - As per Section 38 of the Insurance Act 1938 as amended from time to time:\\n\\n1. A transfer or assignment of a policy of insurance, wholly or in part, whether with or without consideration, may be made only by an endorsement upon the policy itself or by a separate instrument, signed in either case by the transferor or by the assignor or his duly authorised agent and attested by at least one witness, specifically setting forth the fact of transfer or assignment and the reasons thereof, the antecedents of the assignee and the terms on which the assignment is made.\\n2. An insurer may accept the transfer or assignment, or decline to act upon any endorsement made under sub-section(1), where it has sufficient reason to believe that such transfer or assignment is not bonafide or is not in the interest of the policyholder or in public interest or is for the purpose of trading of insurance policy.\\n3. The insurer shall, before refusing to act upon the endorsement, record in writing the reasons for such refusal and communicate the same to the policyholder not later than thirty days from the date of the policy-holder giving notice of such transfer or assignment.\\n4. Any person aggrieved by the decision of an insurer to decline to act upon such transfer or assignment may within a period of thirty days from the date of receipt of the communication from the insurer containing reasons for such refusal, prefer a claim to the Authority.\\n5. Subject to the provisions in sub-section (2), the transfer or assignment shall be complete and effectual upon the execution of such endorsement or instrument duly attested but except, where the transfer or assignment is in favour of the insurer, shall not be operative as against an insurer, and shall not confer upon the transferee or assignee, or his legal representative, any right to sue for the amount of such policy or the moneys secured thereby until a notice in writing of the transfer or assignment and either the said endorsement or instrument itself or a copy thereof certified to be correct by both transferor and transferee or their duly authorised agents have been delivered to the insurer:\\n\\nProvided that where the insurer maintains one or more places of business in India, such notice shall be delivered only at the place where the policy is being serviced.\\n6. The date on which the notice referred to in sub-section (5) is delivered to the insurer shall regulate the priority of all claims under a transfer or assignment as between persons interested in the policy; and where there is more than one instrument of transfer or assignment the priority of the claims under such instruments shall be governed by the order in which the notices referred to in sub-section (5) are delivered:\\n\\nProvided that if any dispute as to priority of payment arises as between assignees, the dispute shall be referred to the Authority.\\n7. Upon the receipt of the notice referred to in sub-section (5), the insurer shall record the fact of such transfer or assignment together with the date thereof and the name of the transferee or the assignee and shall, on the request of the person by whom the notice was given, or of the transferee or assignee, on payment of such fee as may be specified by the regulations, grant a written acknowledgement of the receipt of such notice; and any such acknowledgement shall be conclusive evidence against the insurer that he has duly received the notice to which such acknowledgment relates.\\n8. Subject to the terms and conditions of the transfer or assignment, the insurer shall, from the date of the receipt of the notice referred to in sub-section (5), recognize the transferee or assignee named in the notice as the absolute transferee or assignee entitled to benefit under the policy, and such person shall be subject to all liabilities and equities to which the transferor or assignor was subject at the date of the transfer or assignment and may institute any proceedings in\\n\\nLIC’s New Jeevan Shanti (UIN: 512N338V05) Page 16 of 21', mimetype='text/plain', start_char_idx=None, end_char_idx=None, text_template='{metadata_str}\\n\\n{content}', metadata_template='{key}: {value}', metadata_seperator='\\n'), Document(id_='e8385634-640d-4935-a073-d56a338f0599', embedding=None, metadata={'file_path': '/content/Final Policy document_LICs New Jeevan Shanti_V05_logo.pdf', 'file_name': 'Final Policy document_LICs New Jeevan Shanti_V05_logo.pdf', 'file_type': 'application/pdf', 'file_size': 588928, 'creation_date': '2024-10-16', 'last_modified_date': '2024-10-16'}, excluded_embed_metadata_keys=['file_name', 'file_type', 'file_size', 'creation_date', 'last_modified_date', 'last_accessed_date'], excluded_llm_metadata_keys=['file_name', 'file_type', 'file_size', 'creation_date', 'last_modified_date', 'last_accessed_date'], relationships={}, text='# LIC’s New Jeevan Shanti (UIN: 512N338V05)\\n\\n# 17\\n\\nrelation to the policy, obtain a loan under the policy or surrender the policy without obtaining the consent of the transferor or assignor or making him a party to such proceedings.\\n\\nExplanation – Except where the endorsement referred to in sub-section (1) expressly indicates that the assignment or transfer is conditional in terms of subsection (10) hereunder, every assignment or transfer shall be deemed to be an absolute assignment or transfer and the assignee or transferee, as the case may be, shall be deemed to be the absolute assignee or transferee respectively.\\n\\n(9) Any rights and remedies of an assignee or transferee of a policy of life insurance under an assignment or transfer effected prior to the commencement of the Insurance Laws (Amendment) Act, 2015 shall not be affected by the provisions of this section.\\n\\n(10) Notwithstanding any law or custom having the force of law to the contrary, an assignment in favour of a person made upon the condition that-\\n\\n- a. The proceeds under the policy shall become payable to the policyholder or the nominee or nominees in the event of either the assignee or transferee predeceasing the insured; or\\n- b. The insured surviving the term of the policy, shall be valid:\\n\\nProvided that a conditional assignee shall not be entitled to obtain a loan on the policy or surrender a policy.\\n\\n(11) In the case of the partial assignment or transfer of a policy of insurance under sub-section (1), the liability of the insurer shall be limited to the amount secured by partial assignment or transfer and such policyholder shall not be entitled to further assign or transfer the residual amount payable under the same policy.', mimetype='text/plain', start_char_idx=None, end_char_idx=None, text_template='{metadata_str}\\n\\n{content}', metadata_template='{key}: {value}', metadata_seperator='\\n'), Document(id_='91fe03f5-8452-4f3a-8040-a4a5e9d8b6b2', embedding=None, metadata={'file_path': '/content/Final Policy document_LICs New Jeevan Shanti_V05_logo.pdf', 'file_name': 'Final Policy document_LICs New Jeevan Shanti_V05_logo.pdf', 'file_type': 'application/pdf', 'file_size': 588928, 'creation_date': '2024-10-16', 'last_modified_date': '2024-10-16'}, excluded_embed_metadata_keys=['file_name', 'file_type', 'file_size', 'creation_date', 'last_modified_date', 'last_accessed_date'], excluded_llm_metadata_keys=['file_name', 'file_type', 'file_size', 'creation_date', 'last_modified_date', 'last_accessed_date'], relationships={}, text='# Annexure – II\\n\\n# Nomination - As per Section 39 of the Insurance Act, 1938 as amended from time to time:\\n\\n1. The holder of a policy of life insurance on his own life may, when effecting the policy or at any time before the policy matures for payment, nominate the person or persons to whom the money secured by the policy shall be paid in the event of his death:\\n\\nProvided that, where any nominee is a minor, it shall be lawful for the policy holder to appoint any person in the manner laid down by the insurer, to receive the money secured by policy in the event of his death during the minority of the nominee.\\n2. Any such nomination in order to be effectual shall, unless it is incorporated in the text of the policy itself, be made by an endorsement on the policy communicated to the insurer and registered by him in the records relating to the policy and any such nomination may at any time before the policy matures for payment be cancelled or changed by an endorsement or a further endorsement or a will, as the case may be, but unless notice in writing of any such cancellation or change has been delivered to the insurer, the insurer shall not be liable for any payment under the policy made bonafide by him to a nominee mentioned in the text of the policy or registered in records of the insurer.\\n3. The insurer shall furnish to the policy holder a written acknowledgement of having registered a nomination or a cancellation or change thereof, and may charge such fee as may be specified by regulations for registering such cancellation or change.\\n4. A transfer or assignment of a policy made in accordance with section 38 shall automatically cancel a nomination:\\n\\nProvided that the assignment of a policy to the insurer who bears the risk on the policy at the time of the assignment, in consideration of a loan granted by that insurer on the security of the policy within its surrender value, or its reassignment on repayment of the loan shall not cancel a nomination, but shall affect the rights of the nominee only to the extent of the insurer’s interest in the policy:\\n\\nProvided further that the transfer or assignment of a policy, whether wholly or in part, in consideration of a loan advanced by the transferee or assignee to the policyholder, shall not cancel the nomination but shall affect the rights of the nominee only to the extent of the interest of the transferee or assignee, as the case may be, in the policy:\\n\\nProvided also that the nomination, which has been automatically cancelled consequent upon the transfer or assignment, the same nomination shall stand automatically revived when the policy is reassigned by the assignee or retransferred by the transferee in favour of the policyholder on repayment of loan other than on a security of policy to the insurer.\\n5. Where the policy matures for payment during the lifetime of the person whose life is insured or where the nominee or, if there are more nominees than one, all the nominees die before the policy matures for payment, the amount secured by the policy shall be payable to the policyholder or his heirs or legal representatives or the holder of a succession certificate, as the case may be.\\n6. Where the nominee or if there are more nominees than one, a nominee or nominees survive the person whose life is insured, the amount secured by the policy shall be payable to such survivor or survivors.\\n7. Subject to the other provisions of this section, where the holder of a policy of insurance on his own life nominates his parents, or his spouse, or his children, or his spouse and children, or any of them, the nominee or nominees shall be beneficially entitled to the amount payable by the insurer to him or them under sub-section (6) unless it is proved that the holder of the policy,\\n\\nLIC’s New Jeevan Shanti (UIN: 512N338V05) Page 18 of 21', mimetype='text/plain', start_char_idx=None, end_char_idx=None, text_template='{metadata_str}\\n\\n{content}', metadata_template='{key}: {value}', metadata_seperator='\\n'), Document(id_='799c80b1-bb56-49d4-a3a4-3c079c830a7f', embedding=None, metadata={'file_path': '/content/Final Policy document_LICs New Jeevan Shanti_V05_logo.pdf', 'file_name': 'Final Policy document_LICs New Jeevan Shanti_V05_logo.pdf', 'file_type': 'application/pdf', 'file_size': 588928, 'creation_date': '2024-10-16', 'last_modified_date': '2024-10-16'}, excluded_embed_metadata_keys=['file_name', 'file_type', 'file_size', 'creation_date', 'last_modified_date', 'last_accessed_date'], excluded_llm_metadata_keys=['file_name', 'file_type', 'file_size', 'creation_date', 'last_modified_date', 'last_accessed_date'], relationships={}, text='# 8.\\n\\nSubject as aforesaid, where the nominee, or if there are more nominees than one, a nominee or nominees, to whom sub-section (7) applies, die after the person whose life is insured but before the amount secured by the policy is paid, the amount secured by the policy, or so much of the amount secured by the policy as represents the share of the nominee or nominees so dying (as the case may be), shall be payable to the heirs or legal representatives of the nominee or nominees or the holder of a succession certificate, as the case may be, and they shall be beneficially entitled to such amount.\\n\\n# 9.\\n\\nNothing in sub-sections (7) and (8) shall operate to destroy or impede the right of any creditor to be paid out of the proceeds of any policy of life insurance.\\n\\n# 10.\\n\\nThe provisions of sub-sections (7) and (8) shall apply to all policies of life insurance maturing for payment after the commencement of the Insurance Laws (Amendment) Act, 2015.\\n\\n# 11.\\n\\nWhere a policyholder dies after the maturity of the policy but the proceeds and benefit of his policy has not been made to him because of his death, in such a case, his nominee shall be entitled to the proceed and benefit of his policy.\\n\\n# 12.\\n\\nThe provisions of this section shall not apply to any policy of life insurance to which section 6 of the Married Women’s Property Act, 1874, applies or has at any time applied:\\n\\nProvided that where a nomination made whether before or after the commencement of the Insurance Laws (Amendment) Act, 2015, in favour of the wife of the person who has insured his life or of his wife and children or any of them is expressed, whether or not on the face of the policy, as being made under this section, the said section 6 shall be deemed not to apply or not to have applied to the policy.\\n\\nLIC’s New Jeevan Shanti (UIN: 512N338V05)                   Page 19 of 21', mimetype='text/plain', start_char_idx=None, end_char_idx=None, text_template='{metadata_str}\\n\\n{content}', metadata_template='{key}: {value}', metadata_seperator='\\n'), Document(id_='f00e9143-f455-46bc-9b00-51b9a1515b9c', embedding=None, metadata={'file_path': '/content/Final Policy document_LICs New Jeevan Shanti_V05_logo.pdf', 'file_name': 'Final Policy document_LICs New Jeevan Shanti_V05_logo.pdf', 'file_type': 'application/pdf', 'file_size': 588928, 'creation_date': '2024-10-16', 'last_modified_date': '2024-10-16'}, excluded_embed_metadata_keys=['file_name', 'file_type', 'file_size', 'creation_date', 'last_modified_date', 'last_accessed_date'], excluded_llm_metadata_keys=['file_name', 'file_type', 'file_size', 'creation_date', 'last_modified_date', 'last_accessed_date'], relationships={}, text='# Annexure-III\\n\\n# Section- 45 as per the Insurance Act, 1938 as amended from time to time:\\n\\n1. No policy of life insurance shall be called in question on any ground whatsoever after the expiry of three years from the date of the policy, i.e. from the date of issuance of the policy or the date of commencement of risk or the date of revival of the policy or the date of the rider to the policy, whichever is later.\\n2. A policy of life insurance may be called in question at any time within three years from the date of issuance of the policy or the date of commencement of risk or the date of revival of the policy or the date of the rider to the policy, whichever is later on the ground of fraud:\\n- Provided that the insurer shall have to communicate in writing to the insured or the legal representatives or nominees or assignees of the insured the grounds and materials on which such decision is based.\\n\\nExplanation I.-For the purposes of this sub-section, the expression “fraud” means any of the following acts committed by the insured or by his agent, with the intent to deceive the insurer or to induce the insurer to issue a life insurance policy:\\n\\n- a) the suggestion, as a fact of that which is not true and which the insured does not believe to be true;\\n- b) the active concealment of a fact by the insured having knowledge or belief of the fact;\\n- c) any other act fitted to deceive; and\\n- d) any such act or omission as the law specially declares to be fraudulent.\\n\\nExplanation II- Mere silence as to facts likely to affect the assessment of the risk by the insurer is not fraud, unless the circumstances of the case are such that regard being had to them, it is the duty of the insured or his agent, keeping silence to speak, or unless his silence is, in itself, equivalent to speak.\\n3. Notwithstanding anything contained in subsection (2), no insurer shall repudiate a life insurance policy on the ground of fraud if the insured can prove that the misstatement of or suppression of a material fact was true to the best of his knowledge and belief or that there was no deliberate intention to suppress the fact or that such misstatement of or suppression of a material fact are within the knowledge of the insurer:\\n- Provided that in case of fraud, the onus of disproving lies upon the beneficiaries, in case the policyholder is not alive.\\n\\nExplanation – A person who solicits and negotiates a contract of insurance shall be deemed for the purpose of the formation of the contract, to be the agent of the insurer.\\n4. A policy of life insurance may be called in question at any time within three years from the date of issuance of the policy or the date of commencement of risk or the date of revival of the policy or the date of the rider to the policy, whichever is later, on the ground that any statement of or suppression of a fact material to the expectancy of the life of the insured was incorrectly made in the proposal or other document on the basis of which the policy was issued or revived or rider issued:\\n- Provided that the insurer shall have to communicate in writing to the insured or the legal representatives or nominees or assignees of the insured the grounds and materials on which such decision to repudiate the policy of life insurance is based:\\n- Provided further that in case of repudiation of the policy on the ground of misstatement or suppression of a material fact, and not on the ground of fraud the premiums collected on the policy till the date of repudiation shall be paid to the insured or the legal representatives or nominees or assignees of the insured within a period of ninety days from the date of such repudiation.\\n\\nLIC’s New Jeevan Shanti (UIN: 512N338V05) Page 20 of 21', mimetype='text/plain', start_char_idx=None, end_char_idx=None, text_template='{metadata_str}\\n\\n{content}', metadata_template='{key}: {value}', metadata_seperator='\\n'), Document(id_='a050721d-c7a5-4af5-a88e-a7fb31898016', embedding=None, metadata={'file_path': '/content/Final Policy document_LICs New Jeevan Shanti_V05_logo.pdf', 'file_name': 'Final Policy document_LICs New Jeevan Shanti_V05_logo.pdf', 'file_type': 'application/pdf', 'file_size': 588928, 'creation_date': '2024-10-16', 'last_modified_date': '2024-10-16'}, excluded_embed_metadata_keys=['file_name', 'file_type', 'file_size', 'creation_date', 'last_modified_date', 'last_accessed_date'], excluded_llm_metadata_keys=['file_name', 'file_type', 'file_size', 'creation_date', 'last_modified_date', 'last_accessed_date'], relationships={}, text='# Explanation\\n\\nFor the purposes of this sub-section, the misstatement of or suppression of fact shall not be considered material unless it has a direct bearing on the risk undertaken by the insurer, the onus is on the insurer to show that had the insurer been aware of the said fact no life insurance policy would have been issued to the insured.\\n\\n# 5.\\n\\nNothing in this section shall prevent the insurer from calling for proof of age at any time if he is entitled to do so, and no policy shall be deemed to be called in question merely because the terms of the policy are adjusted on subsequent proof that the age of the life insured was incorrectly stated in the proposal.\\n\\nLIC’s New Jeevan Shanti (UIN: 512N338V05)\\n\\nPage 21 of 21', mimetype='text/plain', start_char_idx=None, end_char_idx=None, text_template='{metadata_str}\\n\\n{content}', metadata_template='{key}: {value}', metadata_seperator='\\n')]\n"
          ]
        }
      ]
    },
    {
      "cell_type": "code",
      "source": [],
      "metadata": {
        "id": "p-Np2Yyg0jbZ"
      },
      "execution_count": null,
      "outputs": []
    },
    {
      "cell_type": "code",
      "source": [
        "!pip install llama_index.llms.gemini\n",
        "from llama_index.core import Settings\n",
        "from llama_index.llms.gemini import Gemini\n"
      ],
      "metadata": {
        "colab": {
          "base_uri": "https://localhost:8080/"
        },
        "id": "Cm229ijiU2ef",
        "outputId": "5025767c-f7fe-4483-e993-e133cc73a18b"
      },
      "execution_count": 5,
      "outputs": [
        {
          "output_type": "stream",
          "name": "stdout",
          "text": [
            "Requirement already satisfied: llama_index.llms.gemini in /usr/local/lib/python3.10/dist-packages (0.3.7)\n",
            "Requirement already satisfied: google-generativeai<0.6.0,>=0.5.2 in /usr/local/lib/python3.10/dist-packages (from llama_index.llms.gemini) (0.5.4)\n",
            "Requirement already satisfied: llama-index-core<0.12.0,>=0.11.0 in /usr/local/lib/python3.10/dist-packages (from llama_index.llms.gemini) (0.11.18)\n",
            "Requirement already satisfied: pillow<11.0.0,>=10.2.0 in /usr/local/lib/python3.10/dist-packages (from llama_index.llms.gemini) (10.4.0)\n",
            "Requirement already satisfied: google-ai-generativelanguage==0.6.4 in /usr/local/lib/python3.10/dist-packages (from google-generativeai<0.6.0,>=0.5.2->llama_index.llms.gemini) (0.6.4)\n",
            "Requirement already satisfied: google-api-core in /usr/local/lib/python3.10/dist-packages (from google-generativeai<0.6.0,>=0.5.2->llama_index.llms.gemini) (2.19.2)\n",
            "Requirement already satisfied: google-api-python-client in /usr/local/lib/python3.10/dist-packages (from google-generativeai<0.6.0,>=0.5.2->llama_index.llms.gemini) (2.137.0)\n",
            "Requirement already satisfied: google-auth>=2.15.0 in /usr/local/lib/python3.10/dist-packages (from google-generativeai<0.6.0,>=0.5.2->llama_index.llms.gemini) (2.27.0)\n",
            "Requirement already satisfied: protobuf in /usr/local/lib/python3.10/dist-packages (from google-generativeai<0.6.0,>=0.5.2->llama_index.llms.gemini) (3.20.3)\n",
            "Requirement already satisfied: pydantic in /usr/local/lib/python3.10/dist-packages (from google-generativeai<0.6.0,>=0.5.2->llama_index.llms.gemini) (2.9.2)\n",
            "Requirement already satisfied: tqdm in /usr/local/lib/python3.10/dist-packages (from google-generativeai<0.6.0,>=0.5.2->llama_index.llms.gemini) (4.66.5)\n",
            "Requirement already satisfied: typing-extensions in /usr/local/lib/python3.10/dist-packages (from google-generativeai<0.6.0,>=0.5.2->llama_index.llms.gemini) (4.12.2)\n",
            "Requirement already satisfied: proto-plus<2.0.0dev,>=1.22.3 in /usr/local/lib/python3.10/dist-packages (from google-ai-generativelanguage==0.6.4->google-generativeai<0.6.0,>=0.5.2->llama_index.llms.gemini) (1.24.0)\n",
            "Requirement already satisfied: PyYAML>=6.0.1 in /usr/local/lib/python3.10/dist-packages (from llama-index-core<0.12.0,>=0.11.0->llama_index.llms.gemini) (6.0.2)\n",
            "Requirement already satisfied: SQLAlchemy>=1.4.49 in /usr/local/lib/python3.10/dist-packages (from SQLAlchemy[asyncio]>=1.4.49->llama-index-core<0.12.0,>=0.11.0->llama_index.llms.gemini) (2.0.35)\n",
            "Requirement already satisfied: aiohttp<4.0.0,>=3.8.6 in /usr/local/lib/python3.10/dist-packages (from llama-index-core<0.12.0,>=0.11.0->llama_index.llms.gemini) (3.10.10)\n",
            "Requirement already satisfied: dataclasses-json in /usr/local/lib/python3.10/dist-packages (from llama-index-core<0.12.0,>=0.11.0->llama_index.llms.gemini) (0.6.7)\n",
            "Requirement already satisfied: deprecated>=1.2.9.3 in /usr/local/lib/python3.10/dist-packages (from llama-index-core<0.12.0,>=0.11.0->llama_index.llms.gemini) (1.2.14)\n",
            "Requirement already satisfied: dirtyjson<2.0.0,>=1.0.8 in /usr/local/lib/python3.10/dist-packages (from llama-index-core<0.12.0,>=0.11.0->llama_index.llms.gemini) (1.0.8)\n",
            "Requirement already satisfied: fsspec>=2023.5.0 in /usr/local/lib/python3.10/dist-packages (from llama-index-core<0.12.0,>=0.11.0->llama_index.llms.gemini) (2024.6.1)\n",
            "Requirement already satisfied: httpx in /usr/local/lib/python3.10/dist-packages (from llama-index-core<0.12.0,>=0.11.0->llama_index.llms.gemini) (0.27.2)\n",
            "Requirement already satisfied: nest-asyncio<2.0.0,>=1.5.8 in /usr/local/lib/python3.10/dist-packages (from llama-index-core<0.12.0,>=0.11.0->llama_index.llms.gemini) (1.6.0)\n",
            "Requirement already satisfied: networkx>=3.0 in /usr/local/lib/python3.10/dist-packages (from llama-index-core<0.12.0,>=0.11.0->llama_index.llms.gemini) (3.4)\n",
            "Requirement already satisfied: nltk>3.8.1 in /usr/local/lib/python3.10/dist-packages (from llama-index-core<0.12.0,>=0.11.0->llama_index.llms.gemini) (3.9.1)\n",
            "Requirement already satisfied: numpy<2.0.0 in /usr/local/lib/python3.10/dist-packages (from llama-index-core<0.12.0,>=0.11.0->llama_index.llms.gemini) (1.26.4)\n",
            "Requirement already satisfied: requests>=2.31.0 in /usr/local/lib/python3.10/dist-packages (from llama-index-core<0.12.0,>=0.11.0->llama_index.llms.gemini) (2.32.3)\n",
            "Requirement already satisfied: tenacity!=8.4.0,<9.0.0,>=8.2.0 in /usr/local/lib/python3.10/dist-packages (from llama-index-core<0.12.0,>=0.11.0->llama_index.llms.gemini) (8.5.0)\n",
            "Requirement already satisfied: tiktoken>=0.3.3 in /usr/local/lib/python3.10/dist-packages (from llama-index-core<0.12.0,>=0.11.0->llama_index.llms.gemini) (0.8.0)\n",
            "Requirement already satisfied: typing-inspect>=0.8.0 in /usr/local/lib/python3.10/dist-packages (from llama-index-core<0.12.0,>=0.11.0->llama_index.llms.gemini) (0.9.0)\n",
            "Requirement already satisfied: wrapt in /usr/local/lib/python3.10/dist-packages (from llama-index-core<0.12.0,>=0.11.0->llama_index.llms.gemini) (1.16.0)\n",
            "Requirement already satisfied: aiohappyeyeballs>=2.3.0 in /usr/local/lib/python3.10/dist-packages (from aiohttp<4.0.0,>=3.8.6->llama-index-core<0.12.0,>=0.11.0->llama_index.llms.gemini) (2.4.3)\n",
            "Requirement already satisfied: aiosignal>=1.1.2 in /usr/local/lib/python3.10/dist-packages (from aiohttp<4.0.0,>=3.8.6->llama-index-core<0.12.0,>=0.11.0->llama_index.llms.gemini) (1.3.1)\n",
            "Requirement already satisfied: attrs>=17.3.0 in /usr/local/lib/python3.10/dist-packages (from aiohttp<4.0.0,>=3.8.6->llama-index-core<0.12.0,>=0.11.0->llama_index.llms.gemini) (24.2.0)\n",
            "Requirement already satisfied: frozenlist>=1.1.1 in /usr/local/lib/python3.10/dist-packages (from aiohttp<4.0.0,>=3.8.6->llama-index-core<0.12.0,>=0.11.0->llama_index.llms.gemini) (1.4.1)\n",
            "Requirement already satisfied: multidict<7.0,>=4.5 in /usr/local/lib/python3.10/dist-packages (from aiohttp<4.0.0,>=3.8.6->llama-index-core<0.12.0,>=0.11.0->llama_index.llms.gemini) (6.1.0)\n",
            "Requirement already satisfied: yarl<2.0,>=1.12.0 in /usr/local/lib/python3.10/dist-packages (from aiohttp<4.0.0,>=3.8.6->llama-index-core<0.12.0,>=0.11.0->llama_index.llms.gemini) (1.14.0)\n",
            "Requirement already satisfied: async-timeout<5.0,>=4.0 in /usr/local/lib/python3.10/dist-packages (from aiohttp<4.0.0,>=3.8.6->llama-index-core<0.12.0,>=0.11.0->llama_index.llms.gemini) (4.0.3)\n",
            "Requirement already satisfied: googleapis-common-protos<2.0.dev0,>=1.56.2 in /usr/local/lib/python3.10/dist-packages (from google-api-core->google-generativeai<0.6.0,>=0.5.2->llama_index.llms.gemini) (1.65.0)\n",
            "Requirement already satisfied: cachetools<6.0,>=2.0.0 in /usr/local/lib/python3.10/dist-packages (from google-auth>=2.15.0->google-generativeai<0.6.0,>=0.5.2->llama_index.llms.gemini) (5.5.0)\n",
            "Requirement already satisfied: pyasn1-modules>=0.2.1 in /usr/local/lib/python3.10/dist-packages (from google-auth>=2.15.0->google-generativeai<0.6.0,>=0.5.2->llama_index.llms.gemini) (0.4.1)\n",
            "Requirement already satisfied: rsa<5,>=3.1.4 in /usr/local/lib/python3.10/dist-packages (from google-auth>=2.15.0->google-generativeai<0.6.0,>=0.5.2->llama_index.llms.gemini) (4.9)\n",
            "Requirement already satisfied: click in /usr/local/lib/python3.10/dist-packages (from nltk>3.8.1->llama-index-core<0.12.0,>=0.11.0->llama_index.llms.gemini) (8.1.7)\n",
            "Requirement already satisfied: joblib in /usr/local/lib/python3.10/dist-packages (from nltk>3.8.1->llama-index-core<0.12.0,>=0.11.0->llama_index.llms.gemini) (1.4.2)\n",
            "Requirement already satisfied: regex>=2021.8.3 in /usr/local/lib/python3.10/dist-packages (from nltk>3.8.1->llama-index-core<0.12.0,>=0.11.0->llama_index.llms.gemini) (2024.9.11)\n",
            "Requirement already satisfied: annotated-types>=0.6.0 in /usr/local/lib/python3.10/dist-packages (from pydantic->google-generativeai<0.6.0,>=0.5.2->llama_index.llms.gemini) (0.7.0)\n",
            "Requirement already satisfied: pydantic-core==2.23.4 in /usr/local/lib/python3.10/dist-packages (from pydantic->google-generativeai<0.6.0,>=0.5.2->llama_index.llms.gemini) (2.23.4)\n",
            "Requirement already satisfied: charset-normalizer<4,>=2 in /usr/local/lib/python3.10/dist-packages (from requests>=2.31.0->llama-index-core<0.12.0,>=0.11.0->llama_index.llms.gemini) (3.4.0)\n",
            "Requirement already satisfied: idna<4,>=2.5 in /usr/local/lib/python3.10/dist-packages (from requests>=2.31.0->llama-index-core<0.12.0,>=0.11.0->llama_index.llms.gemini) (3.10)\n",
            "Requirement already satisfied: urllib3<3,>=1.21.1 in /usr/local/lib/python3.10/dist-packages (from requests>=2.31.0->llama-index-core<0.12.0,>=0.11.0->llama_index.llms.gemini) (2.2.3)\n",
            "Requirement already satisfied: certifi>=2017.4.17 in /usr/local/lib/python3.10/dist-packages (from requests>=2.31.0->llama-index-core<0.12.0,>=0.11.0->llama_index.llms.gemini) (2024.8.30)\n",
            "Requirement already satisfied: greenlet!=0.4.17 in /usr/local/lib/python3.10/dist-packages (from SQLAlchemy>=1.4.49->SQLAlchemy[asyncio]>=1.4.49->llama-index-core<0.12.0,>=0.11.0->llama_index.llms.gemini) (3.1.1)\n",
            "Requirement already satisfied: mypy-extensions>=0.3.0 in /usr/local/lib/python3.10/dist-packages (from typing-inspect>=0.8.0->llama-index-core<0.12.0,>=0.11.0->llama_index.llms.gemini) (1.0.0)\n",
            "Requirement already satisfied: marshmallow<4.0.0,>=3.18.0 in /usr/local/lib/python3.10/dist-packages (from dataclasses-json->llama-index-core<0.12.0,>=0.11.0->llama_index.llms.gemini) (3.22.0)\n",
            "Requirement already satisfied: httplib2<1.dev0,>=0.19.0 in /usr/local/lib/python3.10/dist-packages (from google-api-python-client->google-generativeai<0.6.0,>=0.5.2->llama_index.llms.gemini) (0.22.0)\n",
            "Requirement already satisfied: google-auth-httplib2<1.0.0,>=0.2.0 in /usr/local/lib/python3.10/dist-packages (from google-api-python-client->google-generativeai<0.6.0,>=0.5.2->llama_index.llms.gemini) (0.2.0)\n",
            "Requirement already satisfied: uritemplate<5,>=3.0.1 in /usr/local/lib/python3.10/dist-packages (from google-api-python-client->google-generativeai<0.6.0,>=0.5.2->llama_index.llms.gemini) (4.1.1)\n",
            "Requirement already satisfied: anyio in /usr/local/lib/python3.10/dist-packages (from httpx->llama-index-core<0.12.0,>=0.11.0->llama_index.llms.gemini) (3.7.1)\n",
            "Requirement already satisfied: httpcore==1.* in /usr/local/lib/python3.10/dist-packages (from httpx->llama-index-core<0.12.0,>=0.11.0->llama_index.llms.gemini) (1.0.6)\n",
            "Requirement already satisfied: sniffio in /usr/local/lib/python3.10/dist-packages (from httpx->llama-index-core<0.12.0,>=0.11.0->llama_index.llms.gemini) (1.3.1)\n",
            "Requirement already satisfied: h11<0.15,>=0.13 in /usr/local/lib/python3.10/dist-packages (from httpcore==1.*->httpx->llama-index-core<0.12.0,>=0.11.0->llama_index.llms.gemini) (0.14.0)\n",
            "Requirement already satisfied: grpcio<2.0dev,>=1.33.2 in /usr/local/lib/python3.10/dist-packages (from google-api-core[grpc]!=2.0.*,!=2.1.*,!=2.10.*,!=2.2.*,!=2.3.*,!=2.4.*,!=2.5.*,!=2.6.*,!=2.7.*,!=2.8.*,!=2.9.*,<3.0.0dev,>=1.34.1->google-ai-generativelanguage==0.6.4->google-generativeai<0.6.0,>=0.5.2->llama_index.llms.gemini) (1.64.1)\n",
            "Requirement already satisfied: grpcio-status<2.0.dev0,>=1.33.2 in /usr/local/lib/python3.10/dist-packages (from google-api-core[grpc]!=2.0.*,!=2.1.*,!=2.10.*,!=2.2.*,!=2.3.*,!=2.4.*,!=2.5.*,!=2.6.*,!=2.7.*,!=2.8.*,!=2.9.*,<3.0.0dev,>=1.34.1->google-ai-generativelanguage==0.6.4->google-generativeai<0.6.0,>=0.5.2->llama_index.llms.gemini) (1.48.2)\n",
            "Requirement already satisfied: pyparsing!=3.0.0,!=3.0.1,!=3.0.2,!=3.0.3,<4,>=2.4.2 in /usr/local/lib/python3.10/dist-packages (from httplib2<1.dev0,>=0.19.0->google-api-python-client->google-generativeai<0.6.0,>=0.5.2->llama_index.llms.gemini) (3.1.4)\n",
            "Requirement already satisfied: packaging>=17.0 in /usr/local/lib/python3.10/dist-packages (from marshmallow<4.0.0,>=3.18.0->dataclasses-json->llama-index-core<0.12.0,>=0.11.0->llama_index.llms.gemini) (24.1)\n",
            "Requirement already satisfied: pyasn1<0.7.0,>=0.4.6 in /usr/local/lib/python3.10/dist-packages (from pyasn1-modules>=0.2.1->google-auth>=2.15.0->google-generativeai<0.6.0,>=0.5.2->llama_index.llms.gemini) (0.6.1)\n",
            "Requirement already satisfied: propcache>=0.2.0 in /usr/local/lib/python3.10/dist-packages (from yarl<2.0,>=1.12.0->aiohttp<4.0.0,>=3.8.6->llama-index-core<0.12.0,>=0.11.0->llama_index.llms.gemini) (0.2.0)\n",
            "Requirement already satisfied: exceptiongroup in /usr/local/lib/python3.10/dist-packages (from anyio->httpx->llama-index-core<0.12.0,>=0.11.0->llama_index.llms.gemini) (1.2.2)\n"
          ]
        }
      ]
    },
    {
      "cell_type": "code",
      "source": [
        "!pip install llama-index-embeddings-gemini\n",
        "from llama_index.embeddings.gemini import GeminiEmbedding"
      ],
      "metadata": {
        "colab": {
          "base_uri": "https://localhost:8080/"
        },
        "id": "A2Fg48mYrBY1",
        "outputId": "770645f0-1cd3-468f-be79-cbec0d507cee"
      },
      "execution_count": 6,
      "outputs": [
        {
          "output_type": "stream",
          "name": "stdout",
          "text": [
            "Requirement already satisfied: llama-index-embeddings-gemini in /usr/local/lib/python3.10/dist-packages (0.2.1)\n",
            "Requirement already satisfied: google-generativeai<0.6.0,>=0.5.2 in /usr/local/lib/python3.10/dist-packages (from llama-index-embeddings-gemini) (0.5.4)\n",
            "Requirement already satisfied: llama-index-core<0.12.0,>=0.11.0 in /usr/local/lib/python3.10/dist-packages (from llama-index-embeddings-gemini) (0.11.18)\n",
            "Requirement already satisfied: google-ai-generativelanguage==0.6.4 in /usr/local/lib/python3.10/dist-packages (from google-generativeai<0.6.0,>=0.5.2->llama-index-embeddings-gemini) (0.6.4)\n",
            "Requirement already satisfied: google-api-core in /usr/local/lib/python3.10/dist-packages (from google-generativeai<0.6.0,>=0.5.2->llama-index-embeddings-gemini) (2.19.2)\n",
            "Requirement already satisfied: google-api-python-client in /usr/local/lib/python3.10/dist-packages (from google-generativeai<0.6.0,>=0.5.2->llama-index-embeddings-gemini) (2.137.0)\n",
            "Requirement already satisfied: google-auth>=2.15.0 in /usr/local/lib/python3.10/dist-packages (from google-generativeai<0.6.0,>=0.5.2->llama-index-embeddings-gemini) (2.27.0)\n",
            "Requirement already satisfied: protobuf in /usr/local/lib/python3.10/dist-packages (from google-generativeai<0.6.0,>=0.5.2->llama-index-embeddings-gemini) (3.20.3)\n",
            "Requirement already satisfied: pydantic in /usr/local/lib/python3.10/dist-packages (from google-generativeai<0.6.0,>=0.5.2->llama-index-embeddings-gemini) (2.9.2)\n",
            "Requirement already satisfied: tqdm in /usr/local/lib/python3.10/dist-packages (from google-generativeai<0.6.0,>=0.5.2->llama-index-embeddings-gemini) (4.66.5)\n",
            "Requirement already satisfied: typing-extensions in /usr/local/lib/python3.10/dist-packages (from google-generativeai<0.6.0,>=0.5.2->llama-index-embeddings-gemini) (4.12.2)\n",
            "Requirement already satisfied: proto-plus<2.0.0dev,>=1.22.3 in /usr/local/lib/python3.10/dist-packages (from google-ai-generativelanguage==0.6.4->google-generativeai<0.6.0,>=0.5.2->llama-index-embeddings-gemini) (1.24.0)\n",
            "Requirement already satisfied: PyYAML>=6.0.1 in /usr/local/lib/python3.10/dist-packages (from llama-index-core<0.12.0,>=0.11.0->llama-index-embeddings-gemini) (6.0.2)\n",
            "Requirement already satisfied: SQLAlchemy>=1.4.49 in /usr/local/lib/python3.10/dist-packages (from SQLAlchemy[asyncio]>=1.4.49->llama-index-core<0.12.0,>=0.11.0->llama-index-embeddings-gemini) (2.0.35)\n",
            "Requirement already satisfied: aiohttp<4.0.0,>=3.8.6 in /usr/local/lib/python3.10/dist-packages (from llama-index-core<0.12.0,>=0.11.0->llama-index-embeddings-gemini) (3.10.10)\n",
            "Requirement already satisfied: dataclasses-json in /usr/local/lib/python3.10/dist-packages (from llama-index-core<0.12.0,>=0.11.0->llama-index-embeddings-gemini) (0.6.7)\n",
            "Requirement already satisfied: deprecated>=1.2.9.3 in /usr/local/lib/python3.10/dist-packages (from llama-index-core<0.12.0,>=0.11.0->llama-index-embeddings-gemini) (1.2.14)\n",
            "Requirement already satisfied: dirtyjson<2.0.0,>=1.0.8 in /usr/local/lib/python3.10/dist-packages (from llama-index-core<0.12.0,>=0.11.0->llama-index-embeddings-gemini) (1.0.8)\n",
            "Requirement already satisfied: fsspec>=2023.5.0 in /usr/local/lib/python3.10/dist-packages (from llama-index-core<0.12.0,>=0.11.0->llama-index-embeddings-gemini) (2024.6.1)\n",
            "Requirement already satisfied: httpx in /usr/local/lib/python3.10/dist-packages (from llama-index-core<0.12.0,>=0.11.0->llama-index-embeddings-gemini) (0.27.2)\n",
            "Requirement already satisfied: nest-asyncio<2.0.0,>=1.5.8 in /usr/local/lib/python3.10/dist-packages (from llama-index-core<0.12.0,>=0.11.0->llama-index-embeddings-gemini) (1.6.0)\n",
            "Requirement already satisfied: networkx>=3.0 in /usr/local/lib/python3.10/dist-packages (from llama-index-core<0.12.0,>=0.11.0->llama-index-embeddings-gemini) (3.4)\n",
            "Requirement already satisfied: nltk>3.8.1 in /usr/local/lib/python3.10/dist-packages (from llama-index-core<0.12.0,>=0.11.0->llama-index-embeddings-gemini) (3.9.1)\n",
            "Requirement already satisfied: numpy<2.0.0 in /usr/local/lib/python3.10/dist-packages (from llama-index-core<0.12.0,>=0.11.0->llama-index-embeddings-gemini) (1.26.4)\n",
            "Requirement already satisfied: pillow>=9.0.0 in /usr/local/lib/python3.10/dist-packages (from llama-index-core<0.12.0,>=0.11.0->llama-index-embeddings-gemini) (10.4.0)\n",
            "Requirement already satisfied: requests>=2.31.0 in /usr/local/lib/python3.10/dist-packages (from llama-index-core<0.12.0,>=0.11.0->llama-index-embeddings-gemini) (2.32.3)\n",
            "Requirement already satisfied: tenacity!=8.4.0,<9.0.0,>=8.2.0 in /usr/local/lib/python3.10/dist-packages (from llama-index-core<0.12.0,>=0.11.0->llama-index-embeddings-gemini) (8.5.0)\n",
            "Requirement already satisfied: tiktoken>=0.3.3 in /usr/local/lib/python3.10/dist-packages (from llama-index-core<0.12.0,>=0.11.0->llama-index-embeddings-gemini) (0.8.0)\n",
            "Requirement already satisfied: typing-inspect>=0.8.0 in /usr/local/lib/python3.10/dist-packages (from llama-index-core<0.12.0,>=0.11.0->llama-index-embeddings-gemini) (0.9.0)\n",
            "Requirement already satisfied: wrapt in /usr/local/lib/python3.10/dist-packages (from llama-index-core<0.12.0,>=0.11.0->llama-index-embeddings-gemini) (1.16.0)\n",
            "Requirement already satisfied: aiohappyeyeballs>=2.3.0 in /usr/local/lib/python3.10/dist-packages (from aiohttp<4.0.0,>=3.8.6->llama-index-core<0.12.0,>=0.11.0->llama-index-embeddings-gemini) (2.4.3)\n",
            "Requirement already satisfied: aiosignal>=1.1.2 in /usr/local/lib/python3.10/dist-packages (from aiohttp<4.0.0,>=3.8.6->llama-index-core<0.12.0,>=0.11.0->llama-index-embeddings-gemini) (1.3.1)\n",
            "Requirement already satisfied: attrs>=17.3.0 in /usr/local/lib/python3.10/dist-packages (from aiohttp<4.0.0,>=3.8.6->llama-index-core<0.12.0,>=0.11.0->llama-index-embeddings-gemini) (24.2.0)\n",
            "Requirement already satisfied: frozenlist>=1.1.1 in /usr/local/lib/python3.10/dist-packages (from aiohttp<4.0.0,>=3.8.6->llama-index-core<0.12.0,>=0.11.0->llama-index-embeddings-gemini) (1.4.1)\n",
            "Requirement already satisfied: multidict<7.0,>=4.5 in /usr/local/lib/python3.10/dist-packages (from aiohttp<4.0.0,>=3.8.6->llama-index-core<0.12.0,>=0.11.0->llama-index-embeddings-gemini) (6.1.0)\n",
            "Requirement already satisfied: yarl<2.0,>=1.12.0 in /usr/local/lib/python3.10/dist-packages (from aiohttp<4.0.0,>=3.8.6->llama-index-core<0.12.0,>=0.11.0->llama-index-embeddings-gemini) (1.14.0)\n",
            "Requirement already satisfied: async-timeout<5.0,>=4.0 in /usr/local/lib/python3.10/dist-packages (from aiohttp<4.0.0,>=3.8.6->llama-index-core<0.12.0,>=0.11.0->llama-index-embeddings-gemini) (4.0.3)\n",
            "Requirement already satisfied: googleapis-common-protos<2.0.dev0,>=1.56.2 in /usr/local/lib/python3.10/dist-packages (from google-api-core->google-generativeai<0.6.0,>=0.5.2->llama-index-embeddings-gemini) (1.65.0)\n",
            "Requirement already satisfied: cachetools<6.0,>=2.0.0 in /usr/local/lib/python3.10/dist-packages (from google-auth>=2.15.0->google-generativeai<0.6.0,>=0.5.2->llama-index-embeddings-gemini) (5.5.0)\n",
            "Requirement already satisfied: pyasn1-modules>=0.2.1 in /usr/local/lib/python3.10/dist-packages (from google-auth>=2.15.0->google-generativeai<0.6.0,>=0.5.2->llama-index-embeddings-gemini) (0.4.1)\n",
            "Requirement already satisfied: rsa<5,>=3.1.4 in /usr/local/lib/python3.10/dist-packages (from google-auth>=2.15.0->google-generativeai<0.6.0,>=0.5.2->llama-index-embeddings-gemini) (4.9)\n",
            "Requirement already satisfied: click in /usr/local/lib/python3.10/dist-packages (from nltk>3.8.1->llama-index-core<0.12.0,>=0.11.0->llama-index-embeddings-gemini) (8.1.7)\n",
            "Requirement already satisfied: joblib in /usr/local/lib/python3.10/dist-packages (from nltk>3.8.1->llama-index-core<0.12.0,>=0.11.0->llama-index-embeddings-gemini) (1.4.2)\n",
            "Requirement already satisfied: regex>=2021.8.3 in /usr/local/lib/python3.10/dist-packages (from nltk>3.8.1->llama-index-core<0.12.0,>=0.11.0->llama-index-embeddings-gemini) (2024.9.11)\n",
            "Requirement already satisfied: annotated-types>=0.6.0 in /usr/local/lib/python3.10/dist-packages (from pydantic->google-generativeai<0.6.0,>=0.5.2->llama-index-embeddings-gemini) (0.7.0)\n",
            "Requirement already satisfied: pydantic-core==2.23.4 in /usr/local/lib/python3.10/dist-packages (from pydantic->google-generativeai<0.6.0,>=0.5.2->llama-index-embeddings-gemini) (2.23.4)\n",
            "Requirement already satisfied: charset-normalizer<4,>=2 in /usr/local/lib/python3.10/dist-packages (from requests>=2.31.0->llama-index-core<0.12.0,>=0.11.0->llama-index-embeddings-gemini) (3.4.0)\n",
            "Requirement already satisfied: idna<4,>=2.5 in /usr/local/lib/python3.10/dist-packages (from requests>=2.31.0->llama-index-core<0.12.0,>=0.11.0->llama-index-embeddings-gemini) (3.10)\n",
            "Requirement already satisfied: urllib3<3,>=1.21.1 in /usr/local/lib/python3.10/dist-packages (from requests>=2.31.0->llama-index-core<0.12.0,>=0.11.0->llama-index-embeddings-gemini) (2.2.3)\n",
            "Requirement already satisfied: certifi>=2017.4.17 in /usr/local/lib/python3.10/dist-packages (from requests>=2.31.0->llama-index-core<0.12.0,>=0.11.0->llama-index-embeddings-gemini) (2024.8.30)\n",
            "Requirement already satisfied: greenlet!=0.4.17 in /usr/local/lib/python3.10/dist-packages (from SQLAlchemy>=1.4.49->SQLAlchemy[asyncio]>=1.4.49->llama-index-core<0.12.0,>=0.11.0->llama-index-embeddings-gemini) (3.1.1)\n",
            "Requirement already satisfied: mypy-extensions>=0.3.0 in /usr/local/lib/python3.10/dist-packages (from typing-inspect>=0.8.0->llama-index-core<0.12.0,>=0.11.0->llama-index-embeddings-gemini) (1.0.0)\n",
            "Requirement already satisfied: marshmallow<4.0.0,>=3.18.0 in /usr/local/lib/python3.10/dist-packages (from dataclasses-json->llama-index-core<0.12.0,>=0.11.0->llama-index-embeddings-gemini) (3.22.0)\n",
            "Requirement already satisfied: httplib2<1.dev0,>=0.19.0 in /usr/local/lib/python3.10/dist-packages (from google-api-python-client->google-generativeai<0.6.0,>=0.5.2->llama-index-embeddings-gemini) (0.22.0)\n",
            "Requirement already satisfied: google-auth-httplib2<1.0.0,>=0.2.0 in /usr/local/lib/python3.10/dist-packages (from google-api-python-client->google-generativeai<0.6.0,>=0.5.2->llama-index-embeddings-gemini) (0.2.0)\n",
            "Requirement already satisfied: uritemplate<5,>=3.0.1 in /usr/local/lib/python3.10/dist-packages (from google-api-python-client->google-generativeai<0.6.0,>=0.5.2->llama-index-embeddings-gemini) (4.1.1)\n",
            "Requirement already satisfied: anyio in /usr/local/lib/python3.10/dist-packages (from httpx->llama-index-core<0.12.0,>=0.11.0->llama-index-embeddings-gemini) (3.7.1)\n",
            "Requirement already satisfied: httpcore==1.* in /usr/local/lib/python3.10/dist-packages (from httpx->llama-index-core<0.12.0,>=0.11.0->llama-index-embeddings-gemini) (1.0.6)\n",
            "Requirement already satisfied: sniffio in /usr/local/lib/python3.10/dist-packages (from httpx->llama-index-core<0.12.0,>=0.11.0->llama-index-embeddings-gemini) (1.3.1)\n",
            "Requirement already satisfied: h11<0.15,>=0.13 in /usr/local/lib/python3.10/dist-packages (from httpcore==1.*->httpx->llama-index-core<0.12.0,>=0.11.0->llama-index-embeddings-gemini) (0.14.0)\n",
            "Requirement already satisfied: grpcio<2.0dev,>=1.33.2 in /usr/local/lib/python3.10/dist-packages (from google-api-core[grpc]!=2.0.*,!=2.1.*,!=2.10.*,!=2.2.*,!=2.3.*,!=2.4.*,!=2.5.*,!=2.6.*,!=2.7.*,!=2.8.*,!=2.9.*,<3.0.0dev,>=1.34.1->google-ai-generativelanguage==0.6.4->google-generativeai<0.6.0,>=0.5.2->llama-index-embeddings-gemini) (1.64.1)\n",
            "Requirement already satisfied: grpcio-status<2.0.dev0,>=1.33.2 in /usr/local/lib/python3.10/dist-packages (from google-api-core[grpc]!=2.0.*,!=2.1.*,!=2.10.*,!=2.2.*,!=2.3.*,!=2.4.*,!=2.5.*,!=2.6.*,!=2.7.*,!=2.8.*,!=2.9.*,<3.0.0dev,>=1.34.1->google-ai-generativelanguage==0.6.4->google-generativeai<0.6.0,>=0.5.2->llama-index-embeddings-gemini) (1.48.2)\n",
            "Requirement already satisfied: pyparsing!=3.0.0,!=3.0.1,!=3.0.2,!=3.0.3,<4,>=2.4.2 in /usr/local/lib/python3.10/dist-packages (from httplib2<1.dev0,>=0.19.0->google-api-python-client->google-generativeai<0.6.0,>=0.5.2->llama-index-embeddings-gemini) (3.1.4)\n",
            "Requirement already satisfied: packaging>=17.0 in /usr/local/lib/python3.10/dist-packages (from marshmallow<4.0.0,>=3.18.0->dataclasses-json->llama-index-core<0.12.0,>=0.11.0->llama-index-embeddings-gemini) (24.1)\n",
            "Requirement already satisfied: pyasn1<0.7.0,>=0.4.6 in /usr/local/lib/python3.10/dist-packages (from pyasn1-modules>=0.2.1->google-auth>=2.15.0->google-generativeai<0.6.0,>=0.5.2->llama-index-embeddings-gemini) (0.6.1)\n",
            "Requirement already satisfied: propcache>=0.2.0 in /usr/local/lib/python3.10/dist-packages (from yarl<2.0,>=1.12.0->aiohttp<4.0.0,>=3.8.6->llama-index-core<0.12.0,>=0.11.0->llama-index-embeddings-gemini) (0.2.0)\n",
            "Requirement already satisfied: exceptiongroup in /usr/local/lib/python3.10/dist-packages (from anyio->httpx->llama-index-core<0.12.0,>=0.11.0->llama-index-embeddings-gemini) (1.2.2)\n"
          ]
        }
      ]
    },
    {
      "cell_type": "code",
      "source": [
        "from llama_index.core.node_parser import TokenTextSplitter\n",
        "token_text_splitter = TokenTextSplitter(\n",
        "    chunk_size=500,\n",
        "    chunk_overlap=100,\n",
        "    separator=\"\\n\",\n",
        "    backup_separators = [\" \", \"!\", \"?\"]\n",
        ")\n",
        "\n"
      ],
      "metadata": {
        "id": "pYpUWlDwtUmn"
      },
      "execution_count": 7,
      "outputs": []
    },
    {
      "cell_type": "code",
      "source": [
        "from llama_index.core import VectorStoreIndex\n",
        "import shutil\n",
        "#shutil.rmtree('./index_openai')"
      ],
      "metadata": {
        "id": "okMFPI6qdotf"
      },
      "execution_count": 16,
      "outputs": []
    },
    {
      "cell_type": "code",
      "source": [
        "# CReate Vector Store with Gemini Embedding\n",
        "\n",
        "GOOGLE_API_KEY=userdata.get('gemini_api_key')\n",
        "model_name = \"models/embedding-001\"\n",
        "embed_model_gemini = GeminiEmbedding(model_name=model_name, api_key=GOOGLE_API_KEY)\n",
        "index_gemini = VectorStoreIndex.from_documents(documents, embed_model=embed_model_gemini, transformations=[token_text_splitter])\n",
        "!mkdir index_gemini\n",
        "index_gemini.storage_context.persist(persist_dir=\"./index_gemini\")\n",
        "vector_retriever_gemini=index_gemini.as_retriever(similarity_top_k=3)\n"
      ],
      "metadata": {
        "colab": {
          "base_uri": "https://localhost:8080/",
          "height": 34
        },
        "id": "VA_BVq0fWW8q",
        "outputId": "d36dcdb3-7940-407e-dce5-09854e3d5efe"
      },
      "execution_count": 17,
      "outputs": [
        {
          "output_type": "stream",
          "name": "stdout",
          "text": [
            "mkdir: cannot create directory ‘index_gemini’: File exists\n"
          ]
        }
      ]
    },
    {
      "cell_type": "code",
      "source": [
        "# Create Vector Store with OpenAI Embedding\n",
        "!pip install llama_index.embeddings.openai\n",
        "from llama_index.embeddings.openai import OpenAIEmbedding\n",
        "embed_model_openai = OpenAIEmbedding(api_key=openai_api_key)\n",
        "index_openai = VectorStoreIndex.from_documents(documents, embed_model=embed_model_openai, transformations=[token_text_splitter])\n",
        "!mkdir index_openai\n",
        "index_openai.storage_context.persist(persist_dir=\"./index_openai\")\n",
        "vector_retriever_openai=index_openai.as_retriever(similarity_top_k=3)"
      ],
      "metadata": {
        "colab": {
          "base_uri": "https://localhost:8080/"
        },
        "id": "JehbdzCX-uAS",
        "outputId": "c0e75b03-c89e-473b-fbea-345148f0e9ea"
      },
      "execution_count": 10,
      "outputs": [
        {
          "output_type": "stream",
          "name": "stdout",
          "text": [
            "Requirement already satisfied: llama_index.embeddings.openai in /usr/local/lib/python3.10/dist-packages (0.2.5)\n",
            "Requirement already satisfied: llama-index-core<0.12.0,>=0.11.0 in /usr/local/lib/python3.10/dist-packages (from llama_index.embeddings.openai) (0.11.18)\n",
            "Requirement already satisfied: openai>=1.1.0 in /usr/local/lib/python3.10/dist-packages (from llama_index.embeddings.openai) (1.51.2)\n",
            "Requirement already satisfied: PyYAML>=6.0.1 in /usr/local/lib/python3.10/dist-packages (from llama-index-core<0.12.0,>=0.11.0->llama_index.embeddings.openai) (6.0.2)\n",
            "Requirement already satisfied: SQLAlchemy>=1.4.49 in /usr/local/lib/python3.10/dist-packages (from SQLAlchemy[asyncio]>=1.4.49->llama-index-core<0.12.0,>=0.11.0->llama_index.embeddings.openai) (2.0.35)\n",
            "Requirement already satisfied: aiohttp<4.0.0,>=3.8.6 in /usr/local/lib/python3.10/dist-packages (from llama-index-core<0.12.0,>=0.11.0->llama_index.embeddings.openai) (3.10.10)\n",
            "Requirement already satisfied: dataclasses-json in /usr/local/lib/python3.10/dist-packages (from llama-index-core<0.12.0,>=0.11.0->llama_index.embeddings.openai) (0.6.7)\n",
            "Requirement already satisfied: deprecated>=1.2.9.3 in /usr/local/lib/python3.10/dist-packages (from llama-index-core<0.12.0,>=0.11.0->llama_index.embeddings.openai) (1.2.14)\n",
            "Requirement already satisfied: dirtyjson<2.0.0,>=1.0.8 in /usr/local/lib/python3.10/dist-packages (from llama-index-core<0.12.0,>=0.11.0->llama_index.embeddings.openai) (1.0.8)\n",
            "Requirement already satisfied: fsspec>=2023.5.0 in /usr/local/lib/python3.10/dist-packages (from llama-index-core<0.12.0,>=0.11.0->llama_index.embeddings.openai) (2024.6.1)\n",
            "Requirement already satisfied: httpx in /usr/local/lib/python3.10/dist-packages (from llama-index-core<0.12.0,>=0.11.0->llama_index.embeddings.openai) (0.27.2)\n",
            "Requirement already satisfied: nest-asyncio<2.0.0,>=1.5.8 in /usr/local/lib/python3.10/dist-packages (from llama-index-core<0.12.0,>=0.11.0->llama_index.embeddings.openai) (1.6.0)\n",
            "Requirement already satisfied: networkx>=3.0 in /usr/local/lib/python3.10/dist-packages (from llama-index-core<0.12.0,>=0.11.0->llama_index.embeddings.openai) (3.4)\n",
            "Requirement already satisfied: nltk>3.8.1 in /usr/local/lib/python3.10/dist-packages (from llama-index-core<0.12.0,>=0.11.0->llama_index.embeddings.openai) (3.9.1)\n",
            "Requirement already satisfied: numpy<2.0.0 in /usr/local/lib/python3.10/dist-packages (from llama-index-core<0.12.0,>=0.11.0->llama_index.embeddings.openai) (1.26.4)\n",
            "Requirement already satisfied: pillow>=9.0.0 in /usr/local/lib/python3.10/dist-packages (from llama-index-core<0.12.0,>=0.11.0->llama_index.embeddings.openai) (10.4.0)\n",
            "Requirement already satisfied: pydantic<3.0.0,>=2.7.0 in /usr/local/lib/python3.10/dist-packages (from llama-index-core<0.12.0,>=0.11.0->llama_index.embeddings.openai) (2.9.2)\n",
            "Requirement already satisfied: requests>=2.31.0 in /usr/local/lib/python3.10/dist-packages (from llama-index-core<0.12.0,>=0.11.0->llama_index.embeddings.openai) (2.32.3)\n",
            "Requirement already satisfied: tenacity!=8.4.0,<9.0.0,>=8.2.0 in /usr/local/lib/python3.10/dist-packages (from llama-index-core<0.12.0,>=0.11.0->llama_index.embeddings.openai) (8.5.0)\n",
            "Requirement already satisfied: tiktoken>=0.3.3 in /usr/local/lib/python3.10/dist-packages (from llama-index-core<0.12.0,>=0.11.0->llama_index.embeddings.openai) (0.8.0)\n",
            "Requirement already satisfied: tqdm<5.0.0,>=4.66.1 in /usr/local/lib/python3.10/dist-packages (from llama-index-core<0.12.0,>=0.11.0->llama_index.embeddings.openai) (4.66.5)\n",
            "Requirement already satisfied: typing-extensions>=4.5.0 in /usr/local/lib/python3.10/dist-packages (from llama-index-core<0.12.0,>=0.11.0->llama_index.embeddings.openai) (4.12.2)\n",
            "Requirement already satisfied: typing-inspect>=0.8.0 in /usr/local/lib/python3.10/dist-packages (from llama-index-core<0.12.0,>=0.11.0->llama_index.embeddings.openai) (0.9.0)\n",
            "Requirement already satisfied: wrapt in /usr/local/lib/python3.10/dist-packages (from llama-index-core<0.12.0,>=0.11.0->llama_index.embeddings.openai) (1.16.0)\n",
            "Requirement already satisfied: anyio<5,>=3.5.0 in /usr/local/lib/python3.10/dist-packages (from openai>=1.1.0->llama_index.embeddings.openai) (3.7.1)\n",
            "Requirement already satisfied: distro<2,>=1.7.0 in /usr/lib/python3/dist-packages (from openai>=1.1.0->llama_index.embeddings.openai) (1.7.0)\n",
            "Requirement already satisfied: jiter<1,>=0.4.0 in /usr/local/lib/python3.10/dist-packages (from openai>=1.1.0->llama_index.embeddings.openai) (0.6.1)\n",
            "Requirement already satisfied: sniffio in /usr/local/lib/python3.10/dist-packages (from openai>=1.1.0->llama_index.embeddings.openai) (1.3.1)\n",
            "Requirement already satisfied: aiohappyeyeballs>=2.3.0 in /usr/local/lib/python3.10/dist-packages (from aiohttp<4.0.0,>=3.8.6->llama-index-core<0.12.0,>=0.11.0->llama_index.embeddings.openai) (2.4.3)\n",
            "Requirement already satisfied: aiosignal>=1.1.2 in /usr/local/lib/python3.10/dist-packages (from aiohttp<4.0.0,>=3.8.6->llama-index-core<0.12.0,>=0.11.0->llama_index.embeddings.openai) (1.3.1)\n",
            "Requirement already satisfied: attrs>=17.3.0 in /usr/local/lib/python3.10/dist-packages (from aiohttp<4.0.0,>=3.8.6->llama-index-core<0.12.0,>=0.11.0->llama_index.embeddings.openai) (24.2.0)\n",
            "Requirement already satisfied: frozenlist>=1.1.1 in /usr/local/lib/python3.10/dist-packages (from aiohttp<4.0.0,>=3.8.6->llama-index-core<0.12.0,>=0.11.0->llama_index.embeddings.openai) (1.4.1)\n",
            "Requirement already satisfied: multidict<7.0,>=4.5 in /usr/local/lib/python3.10/dist-packages (from aiohttp<4.0.0,>=3.8.6->llama-index-core<0.12.0,>=0.11.0->llama_index.embeddings.openai) (6.1.0)\n",
            "Requirement already satisfied: yarl<2.0,>=1.12.0 in /usr/local/lib/python3.10/dist-packages (from aiohttp<4.0.0,>=3.8.6->llama-index-core<0.12.0,>=0.11.0->llama_index.embeddings.openai) (1.14.0)\n",
            "Requirement already satisfied: async-timeout<5.0,>=4.0 in /usr/local/lib/python3.10/dist-packages (from aiohttp<4.0.0,>=3.8.6->llama-index-core<0.12.0,>=0.11.0->llama_index.embeddings.openai) (4.0.3)\n",
            "Requirement already satisfied: idna>=2.8 in /usr/local/lib/python3.10/dist-packages (from anyio<5,>=3.5.0->openai>=1.1.0->llama_index.embeddings.openai) (3.10)\n",
            "Requirement already satisfied: exceptiongroup in /usr/local/lib/python3.10/dist-packages (from anyio<5,>=3.5.0->openai>=1.1.0->llama_index.embeddings.openai) (1.2.2)\n",
            "Requirement already satisfied: certifi in /usr/local/lib/python3.10/dist-packages (from httpx->llama-index-core<0.12.0,>=0.11.0->llama_index.embeddings.openai) (2024.8.30)\n",
            "Requirement already satisfied: httpcore==1.* in /usr/local/lib/python3.10/dist-packages (from httpx->llama-index-core<0.12.0,>=0.11.0->llama_index.embeddings.openai) (1.0.6)\n",
            "Requirement already satisfied: h11<0.15,>=0.13 in /usr/local/lib/python3.10/dist-packages (from httpcore==1.*->httpx->llama-index-core<0.12.0,>=0.11.0->llama_index.embeddings.openai) (0.14.0)\n",
            "Requirement already satisfied: click in /usr/local/lib/python3.10/dist-packages (from nltk>3.8.1->llama-index-core<0.12.0,>=0.11.0->llama_index.embeddings.openai) (8.1.7)\n",
            "Requirement already satisfied: joblib in /usr/local/lib/python3.10/dist-packages (from nltk>3.8.1->llama-index-core<0.12.0,>=0.11.0->llama_index.embeddings.openai) (1.4.2)\n",
            "Requirement already satisfied: regex>=2021.8.3 in /usr/local/lib/python3.10/dist-packages (from nltk>3.8.1->llama-index-core<0.12.0,>=0.11.0->llama_index.embeddings.openai) (2024.9.11)\n",
            "Requirement already satisfied: annotated-types>=0.6.0 in /usr/local/lib/python3.10/dist-packages (from pydantic<3.0.0,>=2.7.0->llama-index-core<0.12.0,>=0.11.0->llama_index.embeddings.openai) (0.7.0)\n",
            "Requirement already satisfied: pydantic-core==2.23.4 in /usr/local/lib/python3.10/dist-packages (from pydantic<3.0.0,>=2.7.0->llama-index-core<0.12.0,>=0.11.0->llama_index.embeddings.openai) (2.23.4)\n",
            "Requirement already satisfied: charset-normalizer<4,>=2 in /usr/local/lib/python3.10/dist-packages (from requests>=2.31.0->llama-index-core<0.12.0,>=0.11.0->llama_index.embeddings.openai) (3.4.0)\n",
            "Requirement already satisfied: urllib3<3,>=1.21.1 in /usr/local/lib/python3.10/dist-packages (from requests>=2.31.0->llama-index-core<0.12.0,>=0.11.0->llama_index.embeddings.openai) (2.2.3)\n",
            "Requirement already satisfied: greenlet!=0.4.17 in /usr/local/lib/python3.10/dist-packages (from SQLAlchemy>=1.4.49->SQLAlchemy[asyncio]>=1.4.49->llama-index-core<0.12.0,>=0.11.0->llama_index.embeddings.openai) (3.1.1)\n",
            "Requirement already satisfied: mypy-extensions>=0.3.0 in /usr/local/lib/python3.10/dist-packages (from typing-inspect>=0.8.0->llama-index-core<0.12.0,>=0.11.0->llama_index.embeddings.openai) (1.0.0)\n",
            "Requirement already satisfied: marshmallow<4.0.0,>=3.18.0 in /usr/local/lib/python3.10/dist-packages (from dataclasses-json->llama-index-core<0.12.0,>=0.11.0->llama_index.embeddings.openai) (3.22.0)\n",
            "Requirement already satisfied: packaging>=17.0 in /usr/local/lib/python3.10/dist-packages (from marshmallow<4.0.0,>=3.18.0->dataclasses-json->llama-index-core<0.12.0,>=0.11.0->llama_index.embeddings.openai) (24.1)\n",
            "Requirement already satisfied: propcache>=0.2.0 in /usr/local/lib/python3.10/dist-packages (from yarl<2.0,>=1.12.0->aiohttp<4.0.0,>=3.8.6->llama-index-core<0.12.0,>=0.11.0->llama_index.embeddings.openai) (0.2.0)\n",
            "mkdir: cannot create directory ‘index_openai’: File exists\n"
          ]
        }
      ]
    },
    {
      "cell_type": "markdown",
      "source": [],
      "metadata": {
        "id": "d-fBcJeVS_4C"
      }
    },
    {
      "cell_type": "markdown",
      "source": [],
      "metadata": {
        "id": "E5i1iKGZS_0q"
      }
    },
    {
      "cell_type": "code",
      "source": [
        "from llama_index.embeddings.huggingface import HuggingFaceEmbedding\n",
        "huggingfacehub=userdata.get('huggingfacehub')\n",
        "os.environ['HUGGINGFACEHUB_API_TOKEN'] = huggingfacehub\n",
        "embed_model_bgesmall = HuggingFaceEmbedding(model_name=\"BAAI/bge-small-en-v1.5\")\n",
        "index_bgesmall = VectorStoreIndex.from_documents(documents, embed_model=embed_model_bgesmall, transformations=[token_text_splitter])\n",
        "!mkdir index_bgesmall\n",
        "index_bgesmall.storage_context.persist(persist_dir=\"./index_bgesmall\")\n",
        "vector_retriever_bgesmall=index_bgesmall.as_retriever(similarity_top_k=3)"
      ],
      "metadata": {
        "colab": {
          "base_uri": "https://localhost:8080/"
        },
        "id": "O_AzyNn_B7bj",
        "outputId": "47e20b74-2236-43cd-b1cf-2fbaabd91870"
      },
      "execution_count": 18,
      "outputs": [
        {
          "output_type": "stream",
          "name": "stdout",
          "text": [
            "mkdir: cannot create directory ‘index_bgesmall’: File exists\n"
          ]
        }
      ]
    },
    {
      "cell_type": "code",
      "source": [
        "!pip install llama-index-embeddings-jinaai\n",
        "!pip install llama-index-llms-openai\n",
        "!pip install Pillow\n",
        "from llama_index.embeddings.jinaai import JinaEmbedding\n",
        "jinaai_api_key = userdata.get('jina')\n",
        "os.environ[\"JINAAI_API_KEY\"] = jinaai_api_key\n",
        "embed_model_jina = JinaEmbedding(api_key=jinaai_api_key,model=\"jina-embeddings-v3\",task=\"retrieval.passage\",)\n",
        "index_jina = VectorStoreIndex.from_documents(documents, embed_model=embed_model_jina, transformations=[token_text_splitter])\n",
        "!mkdir index_jina\n",
        "index_jina.storage_context.persist(persist_dir=\"./index_jina\")\n",
        "vector_retriever_jina=index_jina.as_retriever(similarity_top_k=3)\n"
      ],
      "metadata": {
        "colab": {
          "base_uri": "https://localhost:8080/"
        },
        "id": "jICqs1dO--Vb",
        "outputId": "15348187-2cf2-45e9-9c90-547b95613548"
      },
      "execution_count": 19,
      "outputs": [
        {
          "output_type": "stream",
          "name": "stdout",
          "text": [
            "Requirement already satisfied: llama-index-embeddings-jinaai in /usr/local/lib/python3.10/dist-packages (0.3.1)\n",
            "Requirement already satisfied: llama-index-core<0.12.0,>=0.11.0 in /usr/local/lib/python3.10/dist-packages (from llama-index-embeddings-jinaai) (0.11.18)\n",
            "Requirement already satisfied: PyYAML>=6.0.1 in /usr/local/lib/python3.10/dist-packages (from llama-index-core<0.12.0,>=0.11.0->llama-index-embeddings-jinaai) (6.0.2)\n",
            "Requirement already satisfied: SQLAlchemy>=1.4.49 in /usr/local/lib/python3.10/dist-packages (from SQLAlchemy[asyncio]>=1.4.49->llama-index-core<0.12.0,>=0.11.0->llama-index-embeddings-jinaai) (2.0.35)\n",
            "Requirement already satisfied: aiohttp<4.0.0,>=3.8.6 in /usr/local/lib/python3.10/dist-packages (from llama-index-core<0.12.0,>=0.11.0->llama-index-embeddings-jinaai) (3.10.10)\n",
            "Requirement already satisfied: dataclasses-json in /usr/local/lib/python3.10/dist-packages (from llama-index-core<0.12.0,>=0.11.0->llama-index-embeddings-jinaai) (0.6.7)\n",
            "Requirement already satisfied: deprecated>=1.2.9.3 in /usr/local/lib/python3.10/dist-packages (from llama-index-core<0.12.0,>=0.11.0->llama-index-embeddings-jinaai) (1.2.14)\n",
            "Requirement already satisfied: dirtyjson<2.0.0,>=1.0.8 in /usr/local/lib/python3.10/dist-packages (from llama-index-core<0.12.0,>=0.11.0->llama-index-embeddings-jinaai) (1.0.8)\n",
            "Requirement already satisfied: fsspec>=2023.5.0 in /usr/local/lib/python3.10/dist-packages (from llama-index-core<0.12.0,>=0.11.0->llama-index-embeddings-jinaai) (2024.6.1)\n",
            "Requirement already satisfied: httpx in /usr/local/lib/python3.10/dist-packages (from llama-index-core<0.12.0,>=0.11.0->llama-index-embeddings-jinaai) (0.27.2)\n",
            "Requirement already satisfied: nest-asyncio<2.0.0,>=1.5.8 in /usr/local/lib/python3.10/dist-packages (from llama-index-core<0.12.0,>=0.11.0->llama-index-embeddings-jinaai) (1.6.0)\n",
            "Requirement already satisfied: networkx>=3.0 in /usr/local/lib/python3.10/dist-packages (from llama-index-core<0.12.0,>=0.11.0->llama-index-embeddings-jinaai) (3.4)\n",
            "Requirement already satisfied: nltk>3.8.1 in /usr/local/lib/python3.10/dist-packages (from llama-index-core<0.12.0,>=0.11.0->llama-index-embeddings-jinaai) (3.9.1)\n",
            "Requirement already satisfied: numpy<2.0.0 in /usr/local/lib/python3.10/dist-packages (from llama-index-core<0.12.0,>=0.11.0->llama-index-embeddings-jinaai) (1.26.4)\n",
            "Requirement already satisfied: pillow>=9.0.0 in /usr/local/lib/python3.10/dist-packages (from llama-index-core<0.12.0,>=0.11.0->llama-index-embeddings-jinaai) (10.4.0)\n",
            "Requirement already satisfied: pydantic<3.0.0,>=2.7.0 in /usr/local/lib/python3.10/dist-packages (from llama-index-core<0.12.0,>=0.11.0->llama-index-embeddings-jinaai) (2.9.2)\n",
            "Requirement already satisfied: requests>=2.31.0 in /usr/local/lib/python3.10/dist-packages (from llama-index-core<0.12.0,>=0.11.0->llama-index-embeddings-jinaai) (2.32.3)\n",
            "Requirement already satisfied: tenacity!=8.4.0,<9.0.0,>=8.2.0 in /usr/local/lib/python3.10/dist-packages (from llama-index-core<0.12.0,>=0.11.0->llama-index-embeddings-jinaai) (8.5.0)\n",
            "Requirement already satisfied: tiktoken>=0.3.3 in /usr/local/lib/python3.10/dist-packages (from llama-index-core<0.12.0,>=0.11.0->llama-index-embeddings-jinaai) (0.8.0)\n",
            "Requirement already satisfied: tqdm<5.0.0,>=4.66.1 in /usr/local/lib/python3.10/dist-packages (from llama-index-core<0.12.0,>=0.11.0->llama-index-embeddings-jinaai) (4.66.5)\n",
            "Requirement already satisfied: typing-extensions>=4.5.0 in /usr/local/lib/python3.10/dist-packages (from llama-index-core<0.12.0,>=0.11.0->llama-index-embeddings-jinaai) (4.12.2)\n",
            "Requirement already satisfied: typing-inspect>=0.8.0 in /usr/local/lib/python3.10/dist-packages (from llama-index-core<0.12.0,>=0.11.0->llama-index-embeddings-jinaai) (0.9.0)\n",
            "Requirement already satisfied: wrapt in /usr/local/lib/python3.10/dist-packages (from llama-index-core<0.12.0,>=0.11.0->llama-index-embeddings-jinaai) (1.16.0)\n",
            "Requirement already satisfied: aiohappyeyeballs>=2.3.0 in /usr/local/lib/python3.10/dist-packages (from aiohttp<4.0.0,>=3.8.6->llama-index-core<0.12.0,>=0.11.0->llama-index-embeddings-jinaai) (2.4.3)\n",
            "Requirement already satisfied: aiosignal>=1.1.2 in /usr/local/lib/python3.10/dist-packages (from aiohttp<4.0.0,>=3.8.6->llama-index-core<0.12.0,>=0.11.0->llama-index-embeddings-jinaai) (1.3.1)\n",
            "Requirement already satisfied: attrs>=17.3.0 in /usr/local/lib/python3.10/dist-packages (from aiohttp<4.0.0,>=3.8.6->llama-index-core<0.12.0,>=0.11.0->llama-index-embeddings-jinaai) (24.2.0)\n",
            "Requirement already satisfied: frozenlist>=1.1.1 in /usr/local/lib/python3.10/dist-packages (from aiohttp<4.0.0,>=3.8.6->llama-index-core<0.12.0,>=0.11.0->llama-index-embeddings-jinaai) (1.4.1)\n",
            "Requirement already satisfied: multidict<7.0,>=4.5 in /usr/local/lib/python3.10/dist-packages (from aiohttp<4.0.0,>=3.8.6->llama-index-core<0.12.0,>=0.11.0->llama-index-embeddings-jinaai) (6.1.0)\n",
            "Requirement already satisfied: yarl<2.0,>=1.12.0 in /usr/local/lib/python3.10/dist-packages (from aiohttp<4.0.0,>=3.8.6->llama-index-core<0.12.0,>=0.11.0->llama-index-embeddings-jinaai) (1.14.0)\n",
            "Requirement already satisfied: async-timeout<5.0,>=4.0 in /usr/local/lib/python3.10/dist-packages (from aiohttp<4.0.0,>=3.8.6->llama-index-core<0.12.0,>=0.11.0->llama-index-embeddings-jinaai) (4.0.3)\n",
            "Requirement already satisfied: click in /usr/local/lib/python3.10/dist-packages (from nltk>3.8.1->llama-index-core<0.12.0,>=0.11.0->llama-index-embeddings-jinaai) (8.1.7)\n",
            "Requirement already satisfied: joblib in /usr/local/lib/python3.10/dist-packages (from nltk>3.8.1->llama-index-core<0.12.0,>=0.11.0->llama-index-embeddings-jinaai) (1.4.2)\n",
            "Requirement already satisfied: regex>=2021.8.3 in /usr/local/lib/python3.10/dist-packages (from nltk>3.8.1->llama-index-core<0.12.0,>=0.11.0->llama-index-embeddings-jinaai) (2024.9.11)\n",
            "Requirement already satisfied: annotated-types>=0.6.0 in /usr/local/lib/python3.10/dist-packages (from pydantic<3.0.0,>=2.7.0->llama-index-core<0.12.0,>=0.11.0->llama-index-embeddings-jinaai) (0.7.0)\n",
            "Requirement already satisfied: pydantic-core==2.23.4 in /usr/local/lib/python3.10/dist-packages (from pydantic<3.0.0,>=2.7.0->llama-index-core<0.12.0,>=0.11.0->llama-index-embeddings-jinaai) (2.23.4)\n",
            "Requirement already satisfied: charset-normalizer<4,>=2 in /usr/local/lib/python3.10/dist-packages (from requests>=2.31.0->llama-index-core<0.12.0,>=0.11.0->llama-index-embeddings-jinaai) (3.4.0)\n",
            "Requirement already satisfied: idna<4,>=2.5 in /usr/local/lib/python3.10/dist-packages (from requests>=2.31.0->llama-index-core<0.12.0,>=0.11.0->llama-index-embeddings-jinaai) (3.10)\n",
            "Requirement already satisfied: urllib3<3,>=1.21.1 in /usr/local/lib/python3.10/dist-packages (from requests>=2.31.0->llama-index-core<0.12.0,>=0.11.0->llama-index-embeddings-jinaai) (2.2.3)\n",
            "Requirement already satisfied: certifi>=2017.4.17 in /usr/local/lib/python3.10/dist-packages (from requests>=2.31.0->llama-index-core<0.12.0,>=0.11.0->llama-index-embeddings-jinaai) (2024.8.30)\n",
            "Requirement already satisfied: greenlet!=0.4.17 in /usr/local/lib/python3.10/dist-packages (from SQLAlchemy>=1.4.49->SQLAlchemy[asyncio]>=1.4.49->llama-index-core<0.12.0,>=0.11.0->llama-index-embeddings-jinaai) (3.1.1)\n",
            "Requirement already satisfied: mypy-extensions>=0.3.0 in /usr/local/lib/python3.10/dist-packages (from typing-inspect>=0.8.0->llama-index-core<0.12.0,>=0.11.0->llama-index-embeddings-jinaai) (1.0.0)\n",
            "Requirement already satisfied: marshmallow<4.0.0,>=3.18.0 in /usr/local/lib/python3.10/dist-packages (from dataclasses-json->llama-index-core<0.12.0,>=0.11.0->llama-index-embeddings-jinaai) (3.22.0)\n",
            "Requirement already satisfied: anyio in /usr/local/lib/python3.10/dist-packages (from httpx->llama-index-core<0.12.0,>=0.11.0->llama-index-embeddings-jinaai) (3.7.1)\n",
            "Requirement already satisfied: httpcore==1.* in /usr/local/lib/python3.10/dist-packages (from httpx->llama-index-core<0.12.0,>=0.11.0->llama-index-embeddings-jinaai) (1.0.6)\n",
            "Requirement already satisfied: sniffio in /usr/local/lib/python3.10/dist-packages (from httpx->llama-index-core<0.12.0,>=0.11.0->llama-index-embeddings-jinaai) (1.3.1)\n",
            "Requirement already satisfied: h11<0.15,>=0.13 in /usr/local/lib/python3.10/dist-packages (from httpcore==1.*->httpx->llama-index-core<0.12.0,>=0.11.0->llama-index-embeddings-jinaai) (0.14.0)\n",
            "Requirement already satisfied: packaging>=17.0 in /usr/local/lib/python3.10/dist-packages (from marshmallow<4.0.0,>=3.18.0->dataclasses-json->llama-index-core<0.12.0,>=0.11.0->llama-index-embeddings-jinaai) (24.1)\n",
            "Requirement already satisfied: propcache>=0.2.0 in /usr/local/lib/python3.10/dist-packages (from yarl<2.0,>=1.12.0->aiohttp<4.0.0,>=3.8.6->llama-index-core<0.12.0,>=0.11.0->llama-index-embeddings-jinaai) (0.2.0)\n",
            "Requirement already satisfied: exceptiongroup in /usr/local/lib/python3.10/dist-packages (from anyio->httpx->llama-index-core<0.12.0,>=0.11.0->llama-index-embeddings-jinaai) (1.2.2)\n",
            "Requirement already satisfied: llama-index-llms-openai in /usr/local/lib/python3.10/dist-packages (0.2.14)\n",
            "Requirement already satisfied: llama-index-core<0.12.0,>=0.11.7 in /usr/local/lib/python3.10/dist-packages (from llama-index-llms-openai) (0.11.18)\n",
            "Requirement already satisfied: openai<2.0.0,>=1.40.0 in /usr/local/lib/python3.10/dist-packages (from llama-index-llms-openai) (1.51.2)\n",
            "Requirement already satisfied: PyYAML>=6.0.1 in /usr/local/lib/python3.10/dist-packages (from llama-index-core<0.12.0,>=0.11.7->llama-index-llms-openai) (6.0.2)\n",
            "Requirement already satisfied: SQLAlchemy>=1.4.49 in /usr/local/lib/python3.10/dist-packages (from SQLAlchemy[asyncio]>=1.4.49->llama-index-core<0.12.0,>=0.11.7->llama-index-llms-openai) (2.0.35)\n",
            "Requirement already satisfied: aiohttp<4.0.0,>=3.8.6 in /usr/local/lib/python3.10/dist-packages (from llama-index-core<0.12.0,>=0.11.7->llama-index-llms-openai) (3.10.10)\n",
            "Requirement already satisfied: dataclasses-json in /usr/local/lib/python3.10/dist-packages (from llama-index-core<0.12.0,>=0.11.7->llama-index-llms-openai) (0.6.7)\n",
            "Requirement already satisfied: deprecated>=1.2.9.3 in /usr/local/lib/python3.10/dist-packages (from llama-index-core<0.12.0,>=0.11.7->llama-index-llms-openai) (1.2.14)\n",
            "Requirement already satisfied: dirtyjson<2.0.0,>=1.0.8 in /usr/local/lib/python3.10/dist-packages (from llama-index-core<0.12.0,>=0.11.7->llama-index-llms-openai) (1.0.8)\n",
            "Requirement already satisfied: fsspec>=2023.5.0 in /usr/local/lib/python3.10/dist-packages (from llama-index-core<0.12.0,>=0.11.7->llama-index-llms-openai) (2024.6.1)\n",
            "Requirement already satisfied: httpx in /usr/local/lib/python3.10/dist-packages (from llama-index-core<0.12.0,>=0.11.7->llama-index-llms-openai) (0.27.2)\n",
            "Requirement already satisfied: nest-asyncio<2.0.0,>=1.5.8 in /usr/local/lib/python3.10/dist-packages (from llama-index-core<0.12.0,>=0.11.7->llama-index-llms-openai) (1.6.0)\n",
            "Requirement already satisfied: networkx>=3.0 in /usr/local/lib/python3.10/dist-packages (from llama-index-core<0.12.0,>=0.11.7->llama-index-llms-openai) (3.4)\n",
            "Requirement already satisfied: nltk>3.8.1 in /usr/local/lib/python3.10/dist-packages (from llama-index-core<0.12.0,>=0.11.7->llama-index-llms-openai) (3.9.1)\n",
            "Requirement already satisfied: numpy<2.0.0 in /usr/local/lib/python3.10/dist-packages (from llama-index-core<0.12.0,>=0.11.7->llama-index-llms-openai) (1.26.4)\n",
            "Requirement already satisfied: pillow>=9.0.0 in /usr/local/lib/python3.10/dist-packages (from llama-index-core<0.12.0,>=0.11.7->llama-index-llms-openai) (10.4.0)\n",
            "Requirement already satisfied: pydantic<3.0.0,>=2.7.0 in /usr/local/lib/python3.10/dist-packages (from llama-index-core<0.12.0,>=0.11.7->llama-index-llms-openai) (2.9.2)\n",
            "Requirement already satisfied: requests>=2.31.0 in /usr/local/lib/python3.10/dist-packages (from llama-index-core<0.12.0,>=0.11.7->llama-index-llms-openai) (2.32.3)\n",
            "Requirement already satisfied: tenacity!=8.4.0,<9.0.0,>=8.2.0 in /usr/local/lib/python3.10/dist-packages (from llama-index-core<0.12.0,>=0.11.7->llama-index-llms-openai) (8.5.0)\n",
            "Requirement already satisfied: tiktoken>=0.3.3 in /usr/local/lib/python3.10/dist-packages (from llama-index-core<0.12.0,>=0.11.7->llama-index-llms-openai) (0.8.0)\n",
            "Requirement already satisfied: tqdm<5.0.0,>=4.66.1 in /usr/local/lib/python3.10/dist-packages (from llama-index-core<0.12.0,>=0.11.7->llama-index-llms-openai) (4.66.5)\n",
            "Requirement already satisfied: typing-extensions>=4.5.0 in /usr/local/lib/python3.10/dist-packages (from llama-index-core<0.12.0,>=0.11.7->llama-index-llms-openai) (4.12.2)\n",
            "Requirement already satisfied: typing-inspect>=0.8.0 in /usr/local/lib/python3.10/dist-packages (from llama-index-core<0.12.0,>=0.11.7->llama-index-llms-openai) (0.9.0)\n",
            "Requirement already satisfied: wrapt in /usr/local/lib/python3.10/dist-packages (from llama-index-core<0.12.0,>=0.11.7->llama-index-llms-openai) (1.16.0)\n",
            "Requirement already satisfied: anyio<5,>=3.5.0 in /usr/local/lib/python3.10/dist-packages (from openai<2.0.0,>=1.40.0->llama-index-llms-openai) (3.7.1)\n",
            "Requirement already satisfied: distro<2,>=1.7.0 in /usr/lib/python3/dist-packages (from openai<2.0.0,>=1.40.0->llama-index-llms-openai) (1.7.0)\n",
            "Requirement already satisfied: jiter<1,>=0.4.0 in /usr/local/lib/python3.10/dist-packages (from openai<2.0.0,>=1.40.0->llama-index-llms-openai) (0.6.1)\n",
            "Requirement already satisfied: sniffio in /usr/local/lib/python3.10/dist-packages (from openai<2.0.0,>=1.40.0->llama-index-llms-openai) (1.3.1)\n",
            "Requirement already satisfied: aiohappyeyeballs>=2.3.0 in /usr/local/lib/python3.10/dist-packages (from aiohttp<4.0.0,>=3.8.6->llama-index-core<0.12.0,>=0.11.7->llama-index-llms-openai) (2.4.3)\n",
            "Requirement already satisfied: aiosignal>=1.1.2 in /usr/local/lib/python3.10/dist-packages (from aiohttp<4.0.0,>=3.8.6->llama-index-core<0.12.0,>=0.11.7->llama-index-llms-openai) (1.3.1)\n",
            "Requirement already satisfied: attrs>=17.3.0 in /usr/local/lib/python3.10/dist-packages (from aiohttp<4.0.0,>=3.8.6->llama-index-core<0.12.0,>=0.11.7->llama-index-llms-openai) (24.2.0)\n",
            "Requirement already satisfied: frozenlist>=1.1.1 in /usr/local/lib/python3.10/dist-packages (from aiohttp<4.0.0,>=3.8.6->llama-index-core<0.12.0,>=0.11.7->llama-index-llms-openai) (1.4.1)\n",
            "Requirement already satisfied: multidict<7.0,>=4.5 in /usr/local/lib/python3.10/dist-packages (from aiohttp<4.0.0,>=3.8.6->llama-index-core<0.12.0,>=0.11.7->llama-index-llms-openai) (6.1.0)\n",
            "Requirement already satisfied: yarl<2.0,>=1.12.0 in /usr/local/lib/python3.10/dist-packages (from aiohttp<4.0.0,>=3.8.6->llama-index-core<0.12.0,>=0.11.7->llama-index-llms-openai) (1.14.0)\n",
            "Requirement already satisfied: async-timeout<5.0,>=4.0 in /usr/local/lib/python3.10/dist-packages (from aiohttp<4.0.0,>=3.8.6->llama-index-core<0.12.0,>=0.11.7->llama-index-llms-openai) (4.0.3)\n",
            "Requirement already satisfied: idna>=2.8 in /usr/local/lib/python3.10/dist-packages (from anyio<5,>=3.5.0->openai<2.0.0,>=1.40.0->llama-index-llms-openai) (3.10)\n",
            "Requirement already satisfied: exceptiongroup in /usr/local/lib/python3.10/dist-packages (from anyio<5,>=3.5.0->openai<2.0.0,>=1.40.0->llama-index-llms-openai) (1.2.2)\n",
            "Requirement already satisfied: certifi in /usr/local/lib/python3.10/dist-packages (from httpx->llama-index-core<0.12.0,>=0.11.7->llama-index-llms-openai) (2024.8.30)\n",
            "Requirement already satisfied: httpcore==1.* in /usr/local/lib/python3.10/dist-packages (from httpx->llama-index-core<0.12.0,>=0.11.7->llama-index-llms-openai) (1.0.6)\n",
            "Requirement already satisfied: h11<0.15,>=0.13 in /usr/local/lib/python3.10/dist-packages (from httpcore==1.*->httpx->llama-index-core<0.12.0,>=0.11.7->llama-index-llms-openai) (0.14.0)\n",
            "Requirement already satisfied: click in /usr/local/lib/python3.10/dist-packages (from nltk>3.8.1->llama-index-core<0.12.0,>=0.11.7->llama-index-llms-openai) (8.1.7)\n",
            "Requirement already satisfied: joblib in /usr/local/lib/python3.10/dist-packages (from nltk>3.8.1->llama-index-core<0.12.0,>=0.11.7->llama-index-llms-openai) (1.4.2)\n",
            "Requirement already satisfied: regex>=2021.8.3 in /usr/local/lib/python3.10/dist-packages (from nltk>3.8.1->llama-index-core<0.12.0,>=0.11.7->llama-index-llms-openai) (2024.9.11)\n",
            "Requirement already satisfied: annotated-types>=0.6.0 in /usr/local/lib/python3.10/dist-packages (from pydantic<3.0.0,>=2.7.0->llama-index-core<0.12.0,>=0.11.7->llama-index-llms-openai) (0.7.0)\n",
            "Requirement already satisfied: pydantic-core==2.23.4 in /usr/local/lib/python3.10/dist-packages (from pydantic<3.0.0,>=2.7.0->llama-index-core<0.12.0,>=0.11.7->llama-index-llms-openai) (2.23.4)\n",
            "Requirement already satisfied: charset-normalizer<4,>=2 in /usr/local/lib/python3.10/dist-packages (from requests>=2.31.0->llama-index-core<0.12.0,>=0.11.7->llama-index-llms-openai) (3.4.0)\n",
            "Requirement already satisfied: urllib3<3,>=1.21.1 in /usr/local/lib/python3.10/dist-packages (from requests>=2.31.0->llama-index-core<0.12.0,>=0.11.7->llama-index-llms-openai) (2.2.3)\n",
            "Requirement already satisfied: greenlet!=0.4.17 in /usr/local/lib/python3.10/dist-packages (from SQLAlchemy>=1.4.49->SQLAlchemy[asyncio]>=1.4.49->llama-index-core<0.12.0,>=0.11.7->llama-index-llms-openai) (3.1.1)\n",
            "Requirement already satisfied: mypy-extensions>=0.3.0 in /usr/local/lib/python3.10/dist-packages (from typing-inspect>=0.8.0->llama-index-core<0.12.0,>=0.11.7->llama-index-llms-openai) (1.0.0)\n",
            "Requirement already satisfied: marshmallow<4.0.0,>=3.18.0 in /usr/local/lib/python3.10/dist-packages (from dataclasses-json->llama-index-core<0.12.0,>=0.11.7->llama-index-llms-openai) (3.22.0)\n",
            "Requirement already satisfied: packaging>=17.0 in /usr/local/lib/python3.10/dist-packages (from marshmallow<4.0.0,>=3.18.0->dataclasses-json->llama-index-core<0.12.0,>=0.11.7->llama-index-llms-openai) (24.1)\n",
            "Requirement already satisfied: propcache>=0.2.0 in /usr/local/lib/python3.10/dist-packages (from yarl<2.0,>=1.12.0->aiohttp<4.0.0,>=3.8.6->llama-index-core<0.12.0,>=0.11.7->llama-index-llms-openai) (0.2.0)\n",
            "Requirement already satisfied: Pillow in /usr/local/lib/python3.10/dist-packages (10.4.0)\n",
            "mkdir: cannot create directory ‘index_jina’: File exists\n"
          ]
        }
      ]
    },
    {
      "cell_type": "code",
      "source": [],
      "metadata": {
        "id": "XJgyI2OZ2NYR"
      },
      "execution_count": 21,
      "outputs": []
    },
    {
      "cell_type": "markdown",
      "source": [],
      "metadata": {
        "id": "xkeIde7JDVzh"
      }
    },
    {
      "cell_type": "code",
      "source": [
        "from llama_index.core import get_response_synthesizer\n",
        "from llama_index.llms.gemini import Gemini\n",
        "llm_gemini=Gemini(api_key=userdata.get('gemini_api_key'),model_name=\"models/gemini-1.5-flash\")\n",
        "response_synthesizer_gemini = get_response_synthesizer(response_mode=\"accumulate\", llm=llm_gemini)\n",
        "query_engine_gemini = index_gemini.as_query_engine(llm=llm_gemini,response_synthesizer=response_synthesizer_gemini)\n",
        "response_gemini = query_engine_gemini.query(\"What are all the definitions?\")\n",
        "print(response_gemini)"
      ],
      "metadata": {
        "colab": {
          "base_uri": "https://localhost:8080/",
          "height": 104
        },
        "id": "gmEFbZQKERGH",
        "outputId": "28ff6ec0-9c6c-42ba-9b51-e066630da7f6"
      },
      "execution_count": 13,
      "outputs": [
        {
          "output_type": "stream",
          "name": "stdout",
          "text": [
            "Response 1: The provided context does not contain any definitions. \n",
            "\n",
            "---------------------\n",
            "Response 2: The definitions provided are for Secondary Annuitant, Surrender, Surrender Value, and UIN. \n",
            "\n"
          ]
        }
      ]
    },
    {
      "cell_type": "code",
      "source": [],
      "metadata": {
        "id": "Qjv-4CPJ3ZPf"
      },
      "execution_count": null,
      "outputs": []
    },
    {
      "cell_type": "code",
      "source": [
        "from llama_index.core import get_response_synthesizer\n",
        "from llama_index.llms.gemini import Gemini\n",
        "llm_gemini=Gemini(api_key=userdata.get('gemini_api_key'),model_name=\"models/gemini-1.5-flash\")\n",
        "response_synthesizer_gemini = get_response_synthesizer(response_mode=\"tree_summarize\", llm=llm_gemini)\n",
        "query_engine_gemini = index_gemini.as_query_engine(llm=llm_gemini,response_synthesizer=response_synthesizer_gemini)\n",
        "response_gemini = query_engine_gemini.query(\"List down all the definitions. All 20 of them?\")\n",
        "print(response_gemini)"
      ],
      "metadata": {
        "colab": {
          "base_uri": "https://localhost:8080/",
          "height": 139
        },
        "id": "00EIIWuWcYbR",
        "outputId": "b0b0f8ee-ed61-49d3-d9d8-c70d3761a0ef"
      },
      "execution_count": 14,
      "outputs": [
        {
          "output_type": "stream",
          "name": "stdout",
          "text": [
            "I can provide you with definitions from the provided context, but there are only 4 definitions, not 20. \n",
            "\n",
            "* **Secondary Annuitant:** The person who receives annuity payments after the death of the primary annuitant.\n",
            "* **Surrender:** The complete withdrawal or termination of the entire policy.\n",
            "* **Surrender Value:** The amount payable upon surrender of the policy, if any.\n",
            "* **UIN:** The Unique Identification Number assigned to the plan by the IRDAI. \n",
            "\n"
          ]
        }
      ]
    },
    {
      "cell_type": "code",
      "source": [
        "nodes = vector_retriever_jina.retrieve(\"What are all the definitions?\")\n",
        "print(nodes[0].get_content(), '\\n\\n\\n\\n\\n *******', nodes[1].get_content(), '\\n\\n\\n\\n\\n\\n\\n\\ ****', nodes[2].get_content())"
      ],
      "metadata": {
        "colab": {
          "base_uri": "https://localhost:8080/"
        },
        "id": "McBWn_np3ykw",
        "outputId": "e043620b-528e-4646-e72e-5852213cb8a2"
      },
      "execution_count": 15,
      "outputs": [
        {
          "output_type": "stream",
          "name": "stdout",
          "text": [
            "Note: In case of dispute in respect of interpretation of these terms and conditions mentioned in this document the English version shall stand valid.\n",
            "\n",
            "# YOU ARE REQUESTED TO EXAMINE THIS POLICY, AND IF ANY MISTAKE BE FOUND THEREIN, RETURN IT IMMEDIATELY FOR CORRECTION.\n",
            "\n",
            "# LIC’s New Jeevan Shanti (UIN: 512N338V05)\n",
            "\n",
            "Page 15 of 21 \n",
            "\n",
            "\n",
            "\n",
            "\n",
            " ******* # PART – B: DEFINITIONS\n",
            "\n",
            "The definitions of terms/words used in the Policy Document are as under:\n",
            "\n",
            "1. Age is the age last birthday of the Annuitant(s) on the date of commencement of the policy.\n",
            "2. Annuitant(s) being person(s) on whose life this policy has been taken and who become entitled to receive the annuity benefits as stated in Policy Schedule.\n",
            "3. Annuity means a specified amount payable under this policy at specified regular intervals as mentioned in the schedule and payable as per the specification under the option chosen by the annuitant as evidenced in the schedule of the policy. Annuity option once chosen cannot be altered.\n",
            "4. Appointee is the person to whom the proceeds/benefits secured under the Policy are payable on behalf of the nominee if the benefit becomes payable to the nominee and nominee is minor (as on the date of claim payment)/dependant person with disability (Divyangjan).\n",
            "5. Assignee is the person to whom the rights and benefits are transferred by virtue of an Assignment.\n",
            "6. Assignment is the process of transferring the rights and benefits to an “Assignee”. Assignment should be in accordance with the provisions of Section 38 of Insurance Act, 1938 as amended from time to time.\n",
            "7. Beneficiary/Claimant means the person(s)/ entity who is/are entitled to receive benefits under this Policy. The Beneficiary to whom Benefits payable is the Annuitant/Primary Annuitant or surviving named Secondary Annuitant or his Assignee under Section 38 of the Insurance Act, 1938 as amended from time to time or Nominees under Section 39 of the Insurance Act 1938 as amended from time to time or Proved Executors or Administrators or other legal representatives of the Annuitant(s) who should take out representation to his / her estate or limited to the monies payable under this policy from any court of any State or territory of the Union of India, as applicable.\n",
            "8. Corporation means the Life Insurance Corporation of India established under Section 3 of the Life Insurance Corporation Act, 1956.\n",
            "9. Date of commencement of policy is the start date of this Policy. \n",
            "\n",
            "\n",
            "\n",
            "\n",
            "\n",
            "\n",
            "\\ **** 8. Corporation means the Life Insurance Corporation of India established under Section 3 of the Life Insurance Corporation Act, 1956.\n",
            "9. Date of commencement of policy is the start date of this Policy.\n",
            "10. Date of commencement of risk is the date on which the Corporation accepts the risk for insurance (cover) as evidenced in the schedule of the Policy.\n",
            "11. Date of issuance of policy is a date when a proposal after underwriting is accepted as a Policy and this contract gets effected.\n",
            "12. Date of Vesting means the date specified in Policy Schedule on which Deferment Period expires and the annuity becomes payable in arrears as per the mode chosen for annuity payment.\n",
            "13. Death Benefit means the benefit, which is payable on death, as specified in Condition 1 of Part C of this Policy Document.\n",
            "14. Deferment Period is the period, in years, as chosen by the policyholder and as specified in the Schedule, commencing from the Date of commencement of policy to the date of Vesting.\n",
            "15. Discharge form is the form to be filled by Annuitant /Claimant to claim the Surrender/Death benefit under the policy.\n",
            "16. Divyangjan means a person with benchmark disability as defined in Section 2(r) of “The Rights of Persons with Disabilities Act, 2016” and means a person with not less than forty per cent of a specified disability where specified disability has not been defined in measurable terms and includes a person with disability where specified disability has been defined in measurable terms, as certified by the certifying authority.\n",
            "17. Due Date means a fixed date on which the annuity is due and payable.\n",
            "18. Endorsement means conditions attached/ affixed to this Policy incorporating any amendments or modifications agreed to or issued by the Corporation.\n",
            "19. Free Look Period is the period of 30 days from the date of receipt of the electronic or physical mode of Policy Document, whichever is earlier by the Policyholder to review the terms and conditions of this policy and where the Policyholder disagrees to any of those terms and conditions, he/ she has the option to return this policy as detailed in Condition 6 of Part D of this Policy Document.\n"
          ]
        }
      ]
    },
    {
      "cell_type": "code",
      "source": [],
      "metadata": {
        "id": "hlmOpZyP3y8q"
      },
      "execution_count": null,
      "outputs": []
    },
    {
      "cell_type": "code",
      "source": [],
      "metadata": {
        "colab": {
          "base_uri": "https://localhost:8080/",
          "height": 52
        },
        "id": "8kW9vJe_tGYF",
        "outputId": "52273aec-451a-4510-b554-90bef577dd68"
      },
      "execution_count": 33,
      "outputs": [
        {
          "output_type": "stream",
          "name": "stdout",
          "text": [
            "The definitions provided are: Secondary Annuitant, Surrender, Surrender Value, and UIN. \n",
            "\n"
          ]
        }
      ]
    },
    {
      "cell_type": "code",
      "source": [],
      "metadata": {
        "id": "7BGatEIsdTdJ"
      },
      "execution_count": 43,
      "outputs": []
    },
    {
      "cell_type": "code",
      "source": [],
      "metadata": {
        "id": "Xn-vUxJ2f8yJ"
      },
      "execution_count": 43,
      "outputs": []
    },
    {
      "cell_type": "code",
      "source": [
        "from llama_index.core.evaluation import (\n",
        "    FaithfulnessEvaluator,\n",
        "    RelevancyEvaluator,\n",
        "    CorrectnessEvaluator,\n",
        "    RetrieverEvaluator,\n",
        "    generate_question_context_pairs,\n",
        "    EmbeddingQAFinetuneDataset)\n",
        "from llama_index.llms.openai import OpenAI\n",
        "from llama_index.core.evaluation import DatasetGenerator\n",
        "os.environ['OPENAI_API_KEY']=userdata.get('ChatGPT')\n",
        "OPENAI_API_KEY = os.environ['OPENAI_API_KEY']"
      ],
      "metadata": {
        "id": "d717uaEmkeeK"
      },
      "execution_count": 21,
      "outputs": []
    },
    {
      "cell_type": "code",
      "source": [
        "data_generator = DatasetGenerator.from_documents(documents)\n",
        "eval_dataset = data_generator.generate_dataset_from_nodes(num = 4)"
      ],
      "metadata": {
        "colab": {
          "base_uri": "https://localhost:8080/"
        },
        "id": "BcR45hHq05ve",
        "outputId": "752ba4c3-7e38-487b-c5c5-9e69178a4bb5"
      },
      "execution_count": 22,
      "outputs": [
        {
          "output_type": "stream",
          "name": "stderr",
          "text": [
            "/usr/local/lib/python3.10/dist-packages/llama_index/core/evaluation/dataset_generation.py:200: DeprecationWarning: Call to deprecated class DatasetGenerator. (Deprecated in favor of `RagDatasetGenerator` which should be used instead.)\n",
            "  return cls(\n",
            "/usr/local/lib/python3.10/dist-packages/llama_index/core/evaluation/dataset_generation.py:296: DeprecationWarning: Call to deprecated class QueryResponseDataset. (Deprecated in favor of `LabelledRagDataset` which should be used instead.)\n",
            "  return QueryResponseDataset(queries=queries, responses=responses_dict)\n"
          ]
        }
      ]
    },
    {
      "cell_type": "code",
      "source": [
        "eval_questions = [example[0] for example in eval_dataset.qr_pairs]\n",
        "eval_answers = [example[1] for example in eval_dataset.qr_pairs]"
      ],
      "metadata": {
        "id": "9f7asc4pUowa"
      },
      "execution_count": 24,
      "outputs": []
    },
    {
      "cell_type": "code",
      "source": [
        "print(eval_questions)\n",
        "print(eval_answers)"
      ],
      "metadata": {
        "colab": {
          "base_uri": "https://localhost:8080/"
        },
        "id": "J_rM4QylU1B0",
        "outputId": "97e6adbf-dc8f-4860-b7ba-5ebed1605899"
      },
      "execution_count": 25,
      "outputs": [
        {
          "output_type": "stream",
          "name": "stdout",
          "text": [
            "['What is the registration number of the Life Insurance Corporation of India?', \"What type of plan is LIC's New Jeevan Shanti?\", 'What is the Free Look Period mentioned in the policy document?', 'How long is the period within which a policyholder can return the policy if they disagree with the terms and conditions?']\n",
            "['The registration number of the Life Insurance Corporation of India is 512.', \"LIC's New Jeevan Shanti is a Non-Linked, Non-Participating, Individual, Single Premium, Deferred Annuity Plan.\", 'The Free Look Period mentioned in the policy document allows the policyholder to review the terms and conditions of the policy. If the policyholder disagrees with any of the terms and conditions, they can return the policy within 30 days from the date of receipt of the electronic or physical mode of the policy document. Upon returning the policy, the premium amount deposited will be refunded after deducting charges for stamp duty and Annuity paid (if any).', 'The period within which a policyholder can return the policy if they disagree with the terms and conditions is 30 days from the date of receipt of the electronic or physical mode of the Policy Document, whichever is earlier.']\n"
          ]
        }
      ]
    },
    {
      "cell_type": "code",
      "source": [
        "!pip install llama-index-llms-mistralai\n",
        "from llama_index.llms.mistralai import MistralAI"
      ],
      "metadata": {
        "colab": {
          "base_uri": "https://localhost:8080/"
        },
        "id": "yj0y34O72MG_",
        "outputId": "664a80b4-53be-45a8-cfeb-e593e62ab19c"
      },
      "execution_count": 26,
      "outputs": [
        {
          "output_type": "stream",
          "name": "stdout",
          "text": [
            "Requirement already satisfied: llama-index-llms-mistralai in /usr/local/lib/python3.10/dist-packages (0.2.6)\n",
            "Requirement already satisfied: llama-index-core<0.12.0,>=0.11.0 in /usr/local/lib/python3.10/dist-packages (from llama-index-llms-mistralai) (0.11.18)\n",
            "Requirement already satisfied: mistralai>=1.0.0 in /usr/local/lib/python3.10/dist-packages (from llama-index-llms-mistralai) (1.1.0)\n",
            "Requirement already satisfied: PyYAML>=6.0.1 in /usr/local/lib/python3.10/dist-packages (from llama-index-core<0.12.0,>=0.11.0->llama-index-llms-mistralai) (6.0.2)\n",
            "Requirement already satisfied: SQLAlchemy>=1.4.49 in /usr/local/lib/python3.10/dist-packages (from SQLAlchemy[asyncio]>=1.4.49->llama-index-core<0.12.0,>=0.11.0->llama-index-llms-mistralai) (2.0.35)\n",
            "Requirement already satisfied: aiohttp<4.0.0,>=3.8.6 in /usr/local/lib/python3.10/dist-packages (from llama-index-core<0.12.0,>=0.11.0->llama-index-llms-mistralai) (3.10.10)\n",
            "Requirement already satisfied: dataclasses-json in /usr/local/lib/python3.10/dist-packages (from llama-index-core<0.12.0,>=0.11.0->llama-index-llms-mistralai) (0.6.7)\n",
            "Requirement already satisfied: deprecated>=1.2.9.3 in /usr/local/lib/python3.10/dist-packages (from llama-index-core<0.12.0,>=0.11.0->llama-index-llms-mistralai) (1.2.14)\n",
            "Requirement already satisfied: dirtyjson<2.0.0,>=1.0.8 in /usr/local/lib/python3.10/dist-packages (from llama-index-core<0.12.0,>=0.11.0->llama-index-llms-mistralai) (1.0.8)\n",
            "Requirement already satisfied: fsspec>=2023.5.0 in /usr/local/lib/python3.10/dist-packages (from llama-index-core<0.12.0,>=0.11.0->llama-index-llms-mistralai) (2024.6.1)\n",
            "Requirement already satisfied: httpx in /usr/local/lib/python3.10/dist-packages (from llama-index-core<0.12.0,>=0.11.0->llama-index-llms-mistralai) (0.27.2)\n",
            "Requirement already satisfied: nest-asyncio<2.0.0,>=1.5.8 in /usr/local/lib/python3.10/dist-packages (from llama-index-core<0.12.0,>=0.11.0->llama-index-llms-mistralai) (1.6.0)\n",
            "Requirement already satisfied: networkx>=3.0 in /usr/local/lib/python3.10/dist-packages (from llama-index-core<0.12.0,>=0.11.0->llama-index-llms-mistralai) (3.4)\n",
            "Requirement already satisfied: nltk>3.8.1 in /usr/local/lib/python3.10/dist-packages (from llama-index-core<0.12.0,>=0.11.0->llama-index-llms-mistralai) (3.9.1)\n",
            "Requirement already satisfied: numpy<2.0.0 in /usr/local/lib/python3.10/dist-packages (from llama-index-core<0.12.0,>=0.11.0->llama-index-llms-mistralai) (1.26.4)\n",
            "Requirement already satisfied: pillow>=9.0.0 in /usr/local/lib/python3.10/dist-packages (from llama-index-core<0.12.0,>=0.11.0->llama-index-llms-mistralai) (10.4.0)\n",
            "Requirement already satisfied: pydantic<3.0.0,>=2.7.0 in /usr/local/lib/python3.10/dist-packages (from llama-index-core<0.12.0,>=0.11.0->llama-index-llms-mistralai) (2.9.2)\n",
            "Requirement already satisfied: requests>=2.31.0 in /usr/local/lib/python3.10/dist-packages (from llama-index-core<0.12.0,>=0.11.0->llama-index-llms-mistralai) (2.32.3)\n",
            "Requirement already satisfied: tenacity!=8.4.0,<9.0.0,>=8.2.0 in /usr/local/lib/python3.10/dist-packages (from llama-index-core<0.12.0,>=0.11.0->llama-index-llms-mistralai) (8.5.0)\n",
            "Requirement already satisfied: tiktoken>=0.3.3 in /usr/local/lib/python3.10/dist-packages (from llama-index-core<0.12.0,>=0.11.0->llama-index-llms-mistralai) (0.8.0)\n",
            "Requirement already satisfied: tqdm<5.0.0,>=4.66.1 in /usr/local/lib/python3.10/dist-packages (from llama-index-core<0.12.0,>=0.11.0->llama-index-llms-mistralai) (4.66.5)\n",
            "Requirement already satisfied: typing-extensions>=4.5.0 in /usr/local/lib/python3.10/dist-packages (from llama-index-core<0.12.0,>=0.11.0->llama-index-llms-mistralai) (4.12.2)\n",
            "Requirement already satisfied: typing-inspect>=0.8.0 in /usr/local/lib/python3.10/dist-packages (from llama-index-core<0.12.0,>=0.11.0->llama-index-llms-mistralai) (0.9.0)\n",
            "Requirement already satisfied: wrapt in /usr/local/lib/python3.10/dist-packages (from llama-index-core<0.12.0,>=0.11.0->llama-index-llms-mistralai) (1.16.0)\n",
            "Requirement already satisfied: eval-type-backport<0.3.0,>=0.2.0 in /usr/local/lib/python3.10/dist-packages (from mistralai>=1.0.0->llama-index-llms-mistralai) (0.2.0)\n",
            "Requirement already satisfied: jsonpath-python<2.0.0,>=1.0.6 in /usr/local/lib/python3.10/dist-packages (from mistralai>=1.0.0->llama-index-llms-mistralai) (1.0.6)\n",
            "Requirement already satisfied: python-dateutil==2.8.2 in /usr/local/lib/python3.10/dist-packages (from mistralai>=1.0.0->llama-index-llms-mistralai) (2.8.2)\n",
            "Requirement already satisfied: six>=1.5 in /usr/local/lib/python3.10/dist-packages (from python-dateutil==2.8.2->mistralai>=1.0.0->llama-index-llms-mistralai) (1.16.0)\n",
            "Requirement already satisfied: aiohappyeyeballs>=2.3.0 in /usr/local/lib/python3.10/dist-packages (from aiohttp<4.0.0,>=3.8.6->llama-index-core<0.12.0,>=0.11.0->llama-index-llms-mistralai) (2.4.3)\n",
            "Requirement already satisfied: aiosignal>=1.1.2 in /usr/local/lib/python3.10/dist-packages (from aiohttp<4.0.0,>=3.8.6->llama-index-core<0.12.0,>=0.11.0->llama-index-llms-mistralai) (1.3.1)\n",
            "Requirement already satisfied: attrs>=17.3.0 in /usr/local/lib/python3.10/dist-packages (from aiohttp<4.0.0,>=3.8.6->llama-index-core<0.12.0,>=0.11.0->llama-index-llms-mistralai) (24.2.0)\n",
            "Requirement already satisfied: frozenlist>=1.1.1 in /usr/local/lib/python3.10/dist-packages (from aiohttp<4.0.0,>=3.8.6->llama-index-core<0.12.0,>=0.11.0->llama-index-llms-mistralai) (1.4.1)\n",
            "Requirement already satisfied: multidict<7.0,>=4.5 in /usr/local/lib/python3.10/dist-packages (from aiohttp<4.0.0,>=3.8.6->llama-index-core<0.12.0,>=0.11.0->llama-index-llms-mistralai) (6.1.0)\n",
            "Requirement already satisfied: yarl<2.0,>=1.12.0 in /usr/local/lib/python3.10/dist-packages (from aiohttp<4.0.0,>=3.8.6->llama-index-core<0.12.0,>=0.11.0->llama-index-llms-mistralai) (1.14.0)\n",
            "Requirement already satisfied: async-timeout<5.0,>=4.0 in /usr/local/lib/python3.10/dist-packages (from aiohttp<4.0.0,>=3.8.6->llama-index-core<0.12.0,>=0.11.0->llama-index-llms-mistralai) (4.0.3)\n",
            "Requirement already satisfied: anyio in /usr/local/lib/python3.10/dist-packages (from httpx->llama-index-core<0.12.0,>=0.11.0->llama-index-llms-mistralai) (3.7.1)\n",
            "Requirement already satisfied: certifi in /usr/local/lib/python3.10/dist-packages (from httpx->llama-index-core<0.12.0,>=0.11.0->llama-index-llms-mistralai) (2024.8.30)\n",
            "Requirement already satisfied: httpcore==1.* in /usr/local/lib/python3.10/dist-packages (from httpx->llama-index-core<0.12.0,>=0.11.0->llama-index-llms-mistralai) (1.0.6)\n",
            "Requirement already satisfied: idna in /usr/local/lib/python3.10/dist-packages (from httpx->llama-index-core<0.12.0,>=0.11.0->llama-index-llms-mistralai) (3.10)\n",
            "Requirement already satisfied: sniffio in /usr/local/lib/python3.10/dist-packages (from httpx->llama-index-core<0.12.0,>=0.11.0->llama-index-llms-mistralai) (1.3.1)\n",
            "Requirement already satisfied: h11<0.15,>=0.13 in /usr/local/lib/python3.10/dist-packages (from httpcore==1.*->httpx->llama-index-core<0.12.0,>=0.11.0->llama-index-llms-mistralai) (0.14.0)\n",
            "Requirement already satisfied: click in /usr/local/lib/python3.10/dist-packages (from nltk>3.8.1->llama-index-core<0.12.0,>=0.11.0->llama-index-llms-mistralai) (8.1.7)\n",
            "Requirement already satisfied: joblib in /usr/local/lib/python3.10/dist-packages (from nltk>3.8.1->llama-index-core<0.12.0,>=0.11.0->llama-index-llms-mistralai) (1.4.2)\n",
            "Requirement already satisfied: regex>=2021.8.3 in /usr/local/lib/python3.10/dist-packages (from nltk>3.8.1->llama-index-core<0.12.0,>=0.11.0->llama-index-llms-mistralai) (2024.9.11)\n",
            "Requirement already satisfied: annotated-types>=0.6.0 in /usr/local/lib/python3.10/dist-packages (from pydantic<3.0.0,>=2.7.0->llama-index-core<0.12.0,>=0.11.0->llama-index-llms-mistralai) (0.7.0)\n",
            "Requirement already satisfied: pydantic-core==2.23.4 in /usr/local/lib/python3.10/dist-packages (from pydantic<3.0.0,>=2.7.0->llama-index-core<0.12.0,>=0.11.0->llama-index-llms-mistralai) (2.23.4)\n",
            "Requirement already satisfied: charset-normalizer<4,>=2 in /usr/local/lib/python3.10/dist-packages (from requests>=2.31.0->llama-index-core<0.12.0,>=0.11.0->llama-index-llms-mistralai) (3.4.0)\n",
            "Requirement already satisfied: urllib3<3,>=1.21.1 in /usr/local/lib/python3.10/dist-packages (from requests>=2.31.0->llama-index-core<0.12.0,>=0.11.0->llama-index-llms-mistralai) (2.2.3)\n",
            "Requirement already satisfied: greenlet!=0.4.17 in /usr/local/lib/python3.10/dist-packages (from SQLAlchemy>=1.4.49->SQLAlchemy[asyncio]>=1.4.49->llama-index-core<0.12.0,>=0.11.0->llama-index-llms-mistralai) (3.1.1)\n",
            "Requirement already satisfied: mypy-extensions>=0.3.0 in /usr/local/lib/python3.10/dist-packages (from typing-inspect>=0.8.0->llama-index-core<0.12.0,>=0.11.0->llama-index-llms-mistralai) (1.0.0)\n",
            "Requirement already satisfied: marshmallow<4.0.0,>=3.18.0 in /usr/local/lib/python3.10/dist-packages (from dataclasses-json->llama-index-core<0.12.0,>=0.11.0->llama-index-llms-mistralai) (3.22.0)\n",
            "Requirement already satisfied: packaging>=17.0 in /usr/local/lib/python3.10/dist-packages (from marshmallow<4.0.0,>=3.18.0->dataclasses-json->llama-index-core<0.12.0,>=0.11.0->llama-index-llms-mistralai) (24.1)\n",
            "Requirement already satisfied: propcache>=0.2.0 in /usr/local/lib/python3.10/dist-packages (from yarl<2.0,>=1.12.0->aiohttp<4.0.0,>=3.8.6->llama-index-core<0.12.0,>=0.11.0->llama-index-llms-mistralai) (0.2.0)\n",
            "Requirement already satisfied: exceptiongroup in /usr/local/lib/python3.10/dist-packages (from anyio->httpx->llama-index-core<0.12.0,>=0.11.0->llama-index-llms-mistralai) (1.2.2)\n"
          ]
        }
      ]
    },
    {
      "cell_type": "code",
      "source": [
        "# Fix GPT-3.5-TURBO LLM for generating response\n",
        "llm_gpt35 = OpenAI(temperature=0, model=\"gpt-3.5-turbo\")\n",
        "\n",
        "# Fix GPT-4o LLM for evaluation\n",
        "llm_gpt4 = OpenAI(temperature=0, model=\"gpt-4o\")\n",
        "\n",
        "llm_gemini=Gemini(api_key=userdata.get('gemini_api_key'),model_name=\"models/gemini-1.5-flash\")\n",
        "\n",
        "llm_mistral= MistralAI(api_key=userdata.get('mistral'))\n"
      ],
      "metadata": {
        "id": "0BxfVSbs1H0D"
      },
      "execution_count": 27,
      "outputs": []
    },
    {
      "cell_type": "code",
      "source": [
        "index_chatgpt = VectorStoreIndex.from_documents(\n",
        "    documents, llm=OpenAI(temperature=0, model=\"gpt-4o\")\n",
        ")\n",
        "\n",
        "\n",
        "#index_jina = VectorStoreIndex.from_documents(documents, embed_model=embed_model_jina, transformations=[token_text_splitter])\n",
        "\n",
        "#index_gemini = VectorStoreIndex.from_documents(documents, embed_model=embed_model_gemini, transformations=[token_text_splitter])\n",
        "\n",
        "#index_bgesmall = VectorStoreIndex.from_documents(documents, embed_model=embed_model_bgesmall, transformations=[token_text_splitter])\n",
        "\n",
        "#index_openai = VectorStoreIndex.from_documents(documents, embed_model=embed_model_openai, transformations=[token_text_splitter])\n"
      ],
      "metadata": {
        "id": "JeQce-9d-6WA"
      },
      "execution_count": 28,
      "outputs": []
    },
    {
      "cell_type": "code",
      "source": [
        "query_engine_chatgpt = index_chatgpt.as_query_engine()\n",
        "query_engine_jina = index_jina.as_query_engine()\n",
        "query_engine_gemini = index_gemini.as_query_engine()\n",
        "query_engine_bgesmall = index_bgesmall.as_query_engine()\n",
        "query_engine_openai = index_openai.as_query_engine()"
      ],
      "metadata": {
        "id": "2K6xm0RV_oOx"
      },
      "execution_count": 29,
      "outputs": []
    },
    {
      "cell_type": "code",
      "source": [
        "retriever_chatgpt = index_chatgpt.as_retriever(similarity_top_k=3)\n",
        "#nodes_chatgpt = retriever_chatgpt.retrieve(eval_query)\n",
        "\n",
        "retriever_jina = index_jina.as_retriever(similarity_top_k=3)\n",
        "#nodes_jina = retriever_jina.retrieve(eval_query)\n",
        "\n",
        "retriever_gemini = index_gemini.as_retriever(similarity_top_k=3)\n",
        "#nodes_gemini = retriever_gemini.retrieve(eval_query)\n",
        "\n",
        "retriever_bgesmall = index_bgesmall.as_retriever(similarity_top_k=3)\n",
        "#nodes_bgesmall = retriever_bgesmall.retrieve(eval_query)\n",
        "\n",
        "retriever_openai = index_openai.as_retriever(similarity_top_k=3)\n",
        "#nodes_openai = retriever_openai.retrieve(eval_query)\n",
        "\n"
      ],
      "metadata": {
        "id": "kD86gjbJAQx0"
      },
      "execution_count": 30,
      "outputs": []
    },
    {
      "cell_type": "markdown",
      "source": [],
      "metadata": {
        "id": "WeQDMm92bd7A"
      }
    },
    {
      "cell_type": "markdown",
      "source": [],
      "metadata": {
        "id": "ere7ukttbd26"
      }
    },
    {
      "cell_type": "code",
      "source": [
        "faithfulness_evaluator = FaithfulnessEvaluator(llm=llm_mistral)\n",
        "relevancy_evaluator = RelevancyEvaluator(llm=llm_mistral)\n",
        "correctness_evaluator = CorrectnessEvaluator(llm=llm_mistral)"
      ],
      "metadata": {
        "id": "UjvR5trPA_l7"
      },
      "execution_count": 31,
      "outputs": []
    },
    {
      "cell_type": "markdown",
      "source": [],
      "metadata": {
        "id": "nN57m8nidWI1"
      }
    },
    {
      "cell_type": "code",
      "source": [
        "import asyncio\n",
        "from llama_index.core.evaluation import BatchEvalRunner\n",
        "\n",
        "runner = BatchEvalRunner(\n",
        "    {\n",
        "     \"faithfulness\": faithfulness_evaluator,\n",
        "     \"relevancy\": relevancy_evaluator,\n",
        "     \"correctness\": correctness_evaluator\n",
        "     },\n",
        "    workers=1,\n",
        ")\n",
        "\n",
        "eval_results = await runner.aevaluate_queries(\n",
        "    query_engine_openai, queries=eval_questions, reference = eval_answers\n",
        ")\n",
        "await asyncio.sleep(1)  # Delay of 1 second to reduce the frequency of requests\n"
      ],
      "metadata": {
        "id": "jfpUTXioVQrE"
      },
      "execution_count": 33,
      "outputs": []
    },
    {
      "cell_type": "code",
      "source": [],
      "metadata": {
        "id": "kZzscIcqeBcg"
      },
      "execution_count": 82,
      "outputs": []
    },
    {
      "cell_type": "code",
      "source": [
        "def get_eval_results(key, eval_results):\n",
        "    results = eval_results[key]\n",
        "    correct = 0\n",
        "    for result in results:\n",
        "        if result.passing:\n",
        "            correct += 1\n",
        "    score = correct / len(results)\n",
        "    print(f\"{key} Score: {score}\")\n",
        "    return score"
      ],
      "metadata": {
        "id": "LBQxH1DJebhs"
      },
      "execution_count": 34,
      "outputs": []
    },
    {
      "cell_type": "code",
      "source": [
        "_ = get_eval_results(\"relevancy\", eval_results)"
      ],
      "metadata": {
        "colab": {
          "base_uri": "https://localhost:8080/"
        },
        "id": "MmLIofCcqU01",
        "outputId": "b1eb86e5-8839-463d-ef27-870351af51f0"
      },
      "execution_count": 35,
      "outputs": [
        {
          "output_type": "stream",
          "name": "stdout",
          "text": [
            "relevancy Score: 1.0\n"
          ]
        }
      ]
    },
    {
      "cell_type": "code",
      "source": [
        "_ = get_eval_results(\"correctness\", eval_results)"
      ],
      "metadata": {
        "colab": {
          "base_uri": "https://localhost:8080/"
        },
        "id": "awrYwH5iqXfK",
        "outputId": "549b624d-6fd3-462f-bb0e-d122659b6e78"
      },
      "execution_count": 36,
      "outputs": [
        {
          "output_type": "stream",
          "name": "stdout",
          "text": [
            "correctness Score: 1.0\n"
          ]
        }
      ]
    },
    {
      "cell_type": "code",
      "source": [
        "_ = get_eval_results(\"faithfulness\", eval_results)"
      ],
      "metadata": {
        "colab": {
          "base_uri": "https://localhost:8080/"
        },
        "id": "b4tS9-5Q24It",
        "outputId": "fdd248bf-62ac-400f-fd0b-c8c072fa1b09"
      },
      "execution_count": 37,
      "outputs": [
        {
          "output_type": "stream",
          "name": "stdout",
          "text": [
            "faithfulness Score: 1.0\n"
          ]
        }
      ]
    },
    {
      "cell_type": "code",
      "source": [],
      "metadata": {
        "id": "gP2al991QCCM"
      },
      "execution_count": null,
      "outputs": []
    },
    {
      "cell_type": "code",
      "source": [
        "faithfulness_evaluator = FaithfulnessEvaluator(llm=llm_gpt35)\n",
        "relevancy_evaluator = RelevancyEvaluator(llm=llm_gpt35)\n",
        "correctness_evaluator = CorrectnessEvaluator(llm=llm_gpt35)"
      ],
      "metadata": {
        "id": "wuCqfduJQCGt"
      },
      "execution_count": 40,
      "outputs": []
    },
    {
      "cell_type": "code",
      "source": [
        "import asyncio\n",
        "from llama_index.core.evaluation import BatchEvalRunner\n",
        "\n",
        "runner = BatchEvalRunner(\n",
        "    {\n",
        "     \"faithfulness\": faithfulness_evaluator,\n",
        "     \"relevancy\": relevancy_evaluator,\n",
        "     \"correctness\": correctness_evaluator\n",
        "     },\n",
        "    workers=1,\n",
        ")\n",
        "\n",
        "eval_results = await runner.aevaluate_queries(\n",
        "    query_engine_openai, queries=eval_questions, reference = eval_answers\n",
        ")\n",
        "await asyncio.sleep(1)  # Delay of 1 second to reduce the frequency of requests\n"
      ],
      "metadata": {
        "id": "ZLZSn26OQCKO"
      },
      "execution_count": 41,
      "outputs": []
    },
    {
      "cell_type": "code",
      "source": [
        "_ = get_eval_results(\"faithfulness\", eval_results)"
      ],
      "metadata": {
        "colab": {
          "base_uri": "https://localhost:8080/"
        },
        "id": "YAhWKObMQM4h",
        "outputId": "e1dfac91-4927-40c9-b8be-54bde526c4e9"
      },
      "execution_count": 42,
      "outputs": [
        {
          "output_type": "stream",
          "name": "stdout",
          "text": [
            "faithfulness Score: 1.0\n"
          ]
        }
      ]
    },
    {
      "cell_type": "code",
      "source": [
        "_ = get_eval_results(\"correctness\", eval_results)"
      ],
      "metadata": {
        "colab": {
          "base_uri": "https://localhost:8080/"
        },
        "id": "aa1bjKC_QK9r",
        "outputId": "22a9b256-2bdb-4395-e765-4d8ea2053794"
      },
      "execution_count": 43,
      "outputs": [
        {
          "output_type": "stream",
          "name": "stdout",
          "text": [
            "correctness Score: 0.75\n"
          ]
        }
      ]
    },
    {
      "cell_type": "code",
      "source": [
        "_ = get_eval_results(\"relevancy\", eval_results)"
      ],
      "metadata": {
        "colab": {
          "base_uri": "https://localhost:8080/"
        },
        "id": "uKRsVmb0QJA6",
        "outputId": "770a888d-3841-4af5-dba5-9de66cd8efc3"
      },
      "execution_count": 44,
      "outputs": [
        {
          "output_type": "stream",
          "name": "stdout",
          "text": [
            "relevancy Score: 1.0\n"
          ]
        }
      ]
    },
    {
      "cell_type": "code",
      "source": [],
      "metadata": {
        "id": "SKWQJFbZQgb-"
      },
      "execution_count": null,
      "outputs": []
    },
    {
      "cell_type": "code",
      "source": [],
      "metadata": {
        "id": "NZDUOVb3QhuU"
      },
      "execution_count": null,
      "outputs": []
    },
    {
      "cell_type": "code",
      "source": [],
      "metadata": {
        "id": "8dN6DP36Qi1O"
      },
      "execution_count": null,
      "outputs": []
    },
    {
      "cell_type": "code",
      "source": [
        "faithfulness_evaluator = FaithfulnessEvaluator(llm=llm_gemini)\n",
        "relevancy_evaluator = RelevancyEvaluator(llm=llm_gemini)\n",
        "correctness_evaluator = CorrectnessEvaluator(llm=llm_gemini)"
      ],
      "metadata": {
        "id": "hAEGjgvxQhYb"
      },
      "execution_count": 45,
      "outputs": []
    },
    {
      "cell_type": "code",
      "source": [
        "import asyncio\n",
        "from llama_index.core.evaluation import BatchEvalRunner\n",
        "\n",
        "runner = BatchEvalRunner(\n",
        "    {\n",
        "     \"faithfulness\": faithfulness_evaluator,\n",
        "     \"relevancy\": relevancy_evaluator,\n",
        "     \"correctness\": correctness_evaluator\n",
        "     },\n",
        "    workers=1,\n",
        ")\n",
        "\n",
        "eval_results = await runner.aevaluate_queries(\n",
        "    query_engine_openai, queries=eval_questions, reference = eval_answers\n",
        ")\n",
        "await asyncio.sleep(1)  # Delay of 1 second to reduce the frequency of requests\n"
      ],
      "metadata": {
        "id": "l2HZDgIkQnkq"
      },
      "execution_count": 46,
      "outputs": []
    },
    {
      "cell_type": "code",
      "source": [
        "_ = get_eval_results(\"faithfulness\", eval_results)\n"
      ],
      "metadata": {
        "colab": {
          "base_uri": "https://localhost:8080/"
        },
        "id": "g950Hq_UQrKR",
        "outputId": "a2e66eb1-d3b5-456a-d68f-959b86d216a9"
      },
      "execution_count": 47,
      "outputs": [
        {
          "output_type": "stream",
          "name": "stdout",
          "text": [
            "faithfulness Score: 1.0\n"
          ]
        }
      ]
    },
    {
      "cell_type": "code",
      "source": [
        "_ = get_eval_results(\"relevancy\", eval_results)"
      ],
      "metadata": {
        "colab": {
          "base_uri": "https://localhost:8080/"
        },
        "id": "1guk18koQsmv",
        "outputId": "e8b0208b-c2eb-4afe-94f3-dfe30e9506a2"
      },
      "execution_count": 48,
      "outputs": [
        {
          "output_type": "stream",
          "name": "stdout",
          "text": [
            "relevancy Score: 1.0\n"
          ]
        }
      ]
    },
    {
      "cell_type": "code",
      "source": [
        "_ = get_eval_results(\"correctness\", eval_results)"
      ],
      "metadata": {
        "colab": {
          "base_uri": "https://localhost:8080/"
        },
        "id": "Kjv-5MepQtJb",
        "outputId": "172b9a99-92cb-496f-ed87-04e7b7ae5c0d"
      },
      "execution_count": 49,
      "outputs": [
        {
          "output_type": "stream",
          "name": "stdout",
          "text": [
            "correctness Score: 1.0\n"
          ]
        }
      ]
    }
  ]
}